{
 "cells": [
  {
   "cell_type": "code",
   "execution_count": 6,
   "metadata": {},
   "outputs": [],
   "source": [
    "import pandas as pd\n",
    "import python_fonctions as pf\n"
   ]
  },
  {
   "cell_type": "code",
   "execution_count": 7,
   "metadata": {},
   "outputs": [],
   "source": [
    "df = pd.read_csv('liste_gares.csv')"
   ]
  },
  {
   "cell_type": "code",
   "execution_count": 8,
   "metadata": {},
   "outputs": [
    {
     "name": "stdout",
     "output_type": "stream",
     "text": [
      "Weather requestUrl=https://weather.visualcrossing.com/VisualCrossingWebServices/rest/services/timeline/Lille/2022-01-01/2022-12-19?unitGroup=metric&include=days&key=ZUVQJ5N739599C7DZR823CQD8&contentType=json\n"
     ]
    }
   ],
   "source": [
    "start_date = \"2022-01-01\"\n",
    "end_date = \"2022-12-19\"\n",
    "wheather_Lille = pf.getWeatherForecast([\"Lille\"], start_date , end_date)"
   ]
  },
  {
   "cell_type": "code",
   "execution_count": 11,
   "metadata": {},
   "outputs": [
    {
     "ename": "KeyError",
     "evalue": "'Narbonne'",
     "output_type": "error",
     "traceback": [
      "\u001b[0;31m---------------------------------------------------------------------------\u001b[0m",
      "\u001b[0;31mKeyError\u001b[0m                                  Traceback (most recent call last)",
      "\u001b[1;32m/home/apprenant/Documents/MyLearning/API-SNCF/weather_by_city.ipynb Cellule 4\u001b[0m in \u001b[0;36m<cell line: 4>\u001b[0;34m()\u001b[0m\n\u001b[1;32m      <a href='vscode-notebook-cell:/home/apprenant/Documents/MyLearning/API-SNCF/weather_by_city.ipynb#W3sZmlsZQ%3D%3D?line=2'>3</a>\u001b[0m weather_by_city \u001b[39m=\u001b[39m {}\n\u001b[1;32m      <a href='vscode-notebook-cell:/home/apprenant/Documents/MyLearning/API-SNCF/weather_by_city.ipynb#W3sZmlsZQ%3D%3D?line=3'>4</a>\u001b[0m \u001b[39mfor\u001b[39;00m i \u001b[39min\u001b[39;00m \u001b[39mset\u001b[39m(df[\u001b[39m'\u001b[39m\u001b[39mcommune_libellemin\u001b[39m\u001b[39m'\u001b[39m]):\n\u001b[0;32m----> <a href='vscode-notebook-cell:/home/apprenant/Documents/MyLearning/API-SNCF/weather_by_city.ipynb#W3sZmlsZQ%3D%3D?line=4'>5</a>\u001b[0m     weather_by_city[i][i]\n",
      "\u001b[0;31mKeyError\u001b[0m: 'Narbonne'"
     ]
    }
   ],
   "source": [
    "start_date = \"2022-01-01\"\n",
    "end_date = \"2022-12-19\"\n",
    "weather_by_city = {}\n",
    "for i in set(df['commune_libellemin']):\n",
    "    weather_by_city[i][i]"
   ]
  },
  {
   "cell_type": "code",
   "execution_count": null,
   "metadata": {},
   "outputs": [],
   "source": []
  }
 ],
 "metadata": {
  "kernelspec": {
   "display_name": "Python 3",
   "language": "python",
   "name": "python3"
  },
  "language_info": {
   "codemirror_mode": {
    "name": "ipython",
    "version": 3
   },
   "file_extension": ".py",
   "mimetype": "text/x-python",
   "name": "python",
   "nbconvert_exporter": "python",
   "pygments_lexer": "ipython3",
   "version": "3.10.6"
  },
  "orig_nbformat": 4,
  "vscode": {
   "interpreter": {
    "hash": "916dbcbb3f70747c44a77c7bcd40155683ae19c65e1c03b4aa3499c5328201f1"
   }
  }
 },
 "nbformat": 4,
 "nbformat_minor": 2
}
