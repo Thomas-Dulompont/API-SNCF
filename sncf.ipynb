{
 "cells": [
  {
   "cell_type": "code",
   "execution_count": 1,
   "metadata": {},
   "outputs": [],
   "source": [
    "import requests\n",
    "url = \"https://ressources.data.sncf.com/api/records/1.0/search/\""
   ]
  },
  {
   "cell_type": "code",
   "execution_count": 2,
   "metadata": {},
   "outputs": [],
   "source": [
    "from sqlalchemy.ext.declarative import declarative_base\n",
    "from sqlalchemy import create_engine\n",
    "from sqlalchemy.orm import sessionmaker\n",
    "from sqlalchemy import *\n",
    "\n",
    "engine = create_engine('sqlite:///db.sqlite')\n",
    "Base = declarative_base()\n",
    "\n",
    "Session = sessionmaker(bind=engine)\n",
    "session = Session()\n",
    "\n",
    "class Record(Base):\n",
    "    __tablename__ = \"Record\"\n",
    "\n",
    "    recordid = Column(String, primary_key=True)\n",
    "    gare_code_uic = Column(String, nullable=True)\n",
    "    type = Column(String, nullable=True)\n",
    "    nature = Column(String, nullable=True)\n",
    "    recordtype = Column(String, nullable=True)\n",
    "    date = Column(String, nullable=True)\n",
    "\n",
    "class Gare(Base):\n",
    "    __tablename__ = \"Gare\"\n",
    "\n",
    "    uic_code = Column(String, primary_key=True)\n",
    "    departement_libellemin = Column(String, nullable=True)\n",
    "    gare_regionsncf_libelle = Column(String, nullable=True)\n",
    "    gare_alias_libelle_noncontraint = Column(String, nullable=True)\n",
    "    adresse_cp = Column(String, nullable=True)\n",
    "    code_gare = Column(String, nullable=True)\n",
    "    lat = Column(REAL, nullable=True)\n",
    "    long = Column(REAL, nullable=True)\n",
    "\n",
    "\n",
    "Base.metadata.create_all(engine)\n"
   ]
  },
  {
   "cell_type": "code",
   "execution_count": 3,
   "metadata": {},
   "outputs": [],
   "source": [
    "# # APPEL API POUR TOUS LES RECORDS ENTRE 2016 ET 2021\n",
    "\n",
    "# for a in [2016, 2017, 2018, 2019, 2020, 2021]:\n",
    "#     for m in [\"01\",\"02\",\"03\",\"04\",\"05\",\"06\",\"07\",\"08\",\"09\",\"10\",\"11\",\"12\"]:\n",
    "#         response = requests.get(f'{url}?dataset=objets-trouves-restitution&rows=-1&refine.date={str(a)}%2F{m}').json()\n",
    "#         try:\n",
    "#             for i in response['records']:\n",
    "#                 try:\n",
    "#                     gare_code_uic = i['fields']['gc_obo_gare_origine_r_code_uic_c']\n",
    "#                 except:\n",
    "#                     gare_code_uic = None\n",
    "                    \n",
    "#                 session.add(Record(recordid = i['recordid'],gare_code_uic = gare_code_uic,type = i['fields']['gc_obo_type_c'],nature = i['fields']['gc_obo_nature_c'],recordtype = i['fields']['gc_obo_nom_recordtype_sc_c'],date = i['fields']['date']))\n",
    "#             session.commit()\n",
    "#         except:\n",
    "#             pass\n"
   ]
  },
  {
   "cell_type": "code",
   "execution_count": 4,
   "metadata": {},
   "outputs": [],
   "source": [
    "# # APPEL API POUR TOUTES LES GARES\n",
    "\n",
    "# for g in requests.get(f'{url}?dataset=referentiel-gares-voyageurs&q=&facet=departement_libellemin&facet=segmentdrg_libelle&facet=gare_agencegc_libelle&facet=gare_regionsncf_libelle&facet=gare_ug_libelle&rows=-1').json()['records']:\n",
    "    \n",
    "#     try:\n",
    "#         gare_regionsncf_libelle = g['fields']['gare_regionsncf_libelle']\n",
    "#     except:\n",
    "#         gare_regionsncf_libelle = None\n",
    "    \n",
    "#     try:\n",
    "#         departement_libellemin = g['fields']['departement_libellemin']\n",
    "#     except:\n",
    "#         departement_libellemin = None\n",
    "\n",
    "#     try:\n",
    "#         gare_alias_libelle_noncontraint = g['fields']['gare_alias_libelle_noncontraint']\n",
    "#     except:\n",
    "#         gare_alias_libelle_noncontraint = None\n",
    "\n",
    "#     try:\n",
    "#         adresse_cp = g['fields']['adresse_cp']\n",
    "#     except:\n",
    "#         adresse_cp = None\n",
    "\n",
    "#     try:\n",
    "#         code_gare = g['fields']['code_gare']\n",
    "#     except:\n",
    "#         code_gare = None\n",
    "\n",
    "#     try:\n",
    "#         lat = g['geometry']['coordinates'][1]\n",
    "#         long = g['geometry']['coordinates'][0]\n",
    "#     except:\n",
    "#         lat = None\n",
    "#         long = None\n",
    "\n",
    "#     try:\n",
    "#         code_gare = g['fields']['code_gare']\n",
    "#     except:\n",
    "#         code_gare = None\n",
    "\n",
    "#     try:\n",
    "#         session.add(\n",
    "#         Gare(\n",
    "#             uic_code = g['fields']['uic_code'],\n",
    "#             departement_libellemin = departement_libellemin,\n",
    "#             gare_regionsncf_libelle = gare_regionsncf_libelle,\n",
    "#             gare_alias_libelle_noncontraint = gare_alias_libelle_noncontraint,\n",
    "#             adresse_cp = adresse_cp,\n",
    "#             code_gare = code_gare,\n",
    "#             lat = lat,\n",
    "#             long = long\n",
    "#             )\n",
    "#         )\n",
    "#         session.commit()\n",
    "#     except:\n",
    "#         pass\n",
    "    "
   ]
  },
  {
   "cell_type": "code",
   "execution_count": 5,
   "metadata": {},
   "outputs": [],
   "source": [
    "import pandas as pd\n",
    "\n",
    "df_gare = pd.read_sql_table('Gare', 'sqlite:///db.sqlite')\n",
    "df_record = pd.read_sql_table('Record', 'sqlite:///db.sqlite')"
   ]
  },
  {
   "cell_type": "code",
   "execution_count": 7,
   "metadata": {},
   "outputs": [
    {
     "data": {
      "text/plain": [
       "Index(['uic_code', 'departement_libellemin', 'gare_regionsncf_libelle',\n",
       "       'gare_alias_libelle_noncontraint', 'adresse_cp', 'code_gare', 'lat',\n",
       "       'long'],\n",
       "      dtype='object')"
      ]
     },
     "execution_count": 7,
     "metadata": {},
     "output_type": "execute_result"
    }
   ],
   "source": [
    "# On regarde les columns\n",
    "df_gare.columns"
   ]
  },
  {
   "cell_type": "code",
   "execution_count": 8,
   "metadata": {},
   "outputs": [],
   "source": [
    "regions = {\n",
    "    \"Auvergne-Rhône-Alpes\": [\"01\", \"03\", \"07\", \"15\", \"26\", \"38\", \"42\", \"43\", \"63\", \"69\", \"73\", \"74\"],\n",
    "    \"Bourgogne-Franche-Comté\": [\"21\", \"25\", \"39\", \"58\", \"70\", \"71\", \"89\", \"90\"],\n",
    "    \"Bretagne\": [\"22\", \"29\", \"35\", \"56\"],\n",
    "    \"Centre-Val de Loire\": [\"18\", \"28\", \"36\", \"37\", \"41\", \"45\"],\n",
    "    \"Corse\": [\"2A\", \"2B\"],\n",
    "    \"Grand Est\": [\"08\", \"10\", \"51\", \"52\", \"54\", \"55\", \"57\", \"67\", \"68\", \"88\"],\n",
    "    \"Hauts-de-France\": [\"02\", \"59\", \"60\", \"62\", \"80\"],\n",
    "    \"Île-de-France\": [\"75\", \"77\", \"78\", \"91\", \"92\", \"93\", \"94\", \"95\"],\n",
    "    \"Normandie\": [\"14\", \"27\", \"50\", \"61\", \"76\"],\n",
    "    \"Nouvelle-Aquitaine\": [\"16\", \"17\", \"19\", \"23\", \"24\", \"33\", \"40\", \"47\", \"64\", \"79\", \"86\", \"87\"],\n",
    "    \"Occitanie\": [\"09\", \"11\", \"12\", \"30\", \"31\", \"32\", \"34\", \"46\", \"48\", \"65\", \"66\", \"81\", \"82\"],\n",
    "    \"Pays de la Loire\": [\"44\", \"49\", \"53\", \"72\", \"85\"],\n",
    "    \"Provence-Alpes-Côte d'Azur\": [\"04\", \"05\", \"06\", \"13\", \"83\", \"84\"],\n",
    "    \"Guadeloupe\": [\"971\"],\n",
    "    \"Martinique\": [\"972\"],\n",
    "    \"Guyane\": [\"973\"],\n",
    "    \"La Réunion\": [\"974\"],\n",
    "    \"Mayotte\": [\"976\"]\n",
    "}"
   ]
  },
  {
   "cell_type": "code",
   "execution_count": 9,
   "metadata": {},
   "outputs": [],
   "source": [
    "# On change le nom de la région car c'est les anciennnes régions\n",
    "def search_region(departement: str):\n",
    "    for cle, valeur in regions.items():\n",
    "        if departement in valeur:\n",
    "            return str(cle)\n",
    "\n",
    "df_gare['gare_regionsncf_libelle'] = df_gare['adresse_cp'].apply(lambda x: search_region(str(x)[:2]))"
   ]
  },
  {
   "cell_type": "code",
   "execution_count": 10,
   "metadata": {},
   "outputs": [],
   "source": [
    "# On JOIN les deux dataframe et on retire la colonne \"uic_code\"\n",
    "merge = pd.merge(df_record, df_gare, how=\"left\", left_on=\"gare_code_uic\", right_on=\"uic_code\").drop(\"uic_code\", axis=1)\n",
    "merge.to_csv(\"sncf.csv\", index=False)"
   ]
  }
 ],
 "metadata": {
  "kernelspec": {
   "display_name": "data-analyse-env",
   "language": "python",
   "name": "python3"
  },
  "language_info": {
   "codemirror_mode": {
    "name": "ipython",
    "version": 3
   },
   "file_extension": ".py",
   "mimetype": "text/x-python",
   "name": "python",
   "nbconvert_exporter": "python",
   "pygments_lexer": "ipython3",
   "version": "3.9.15"
  },
  "orig_nbformat": 4,
  "vscode": {
   "interpreter": {
    "hash": "e040077903ef6eeaa5ac90c1254cd5abaaf5d30f296b3f264e1a83a3f6bea03d"
   }
  }
 },
 "nbformat": 4,
 "nbformat_minor": 2
}
