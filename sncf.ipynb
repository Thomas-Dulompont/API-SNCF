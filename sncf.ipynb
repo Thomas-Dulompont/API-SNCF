{
 "cells": [
  {
   "cell_type": "code",
   "execution_count": 10,
   "metadata": {},
   "outputs": [],
   "source": [
    "import requests\n",
    "url = \"https://ressources.data.sncf.com/api/records/1.0/search/\""
   ]
  },
  {
   "cell_type": "code",
   "execution_count": 11,
   "metadata": {},
   "outputs": [],
   "source": [
    "from sqlalchemy.ext.declarative import declarative_base\n",
    "from sqlalchemy import create_engine\n",
    "from sqlalchemy.orm import sessionmaker\n",
    "from sqlalchemy import *\n",
    "\n",
    "engine = create_engine('sqlite:///db.sqlite')\n",
    "Base = declarative_base()\n",
    "\n",
    "Session = sessionmaker(bind=engine)\n",
    "session = Session()\n",
    "\n",
    "\n",
    "class Record(Base):\n",
    "    __tablename__ = \"Record\"\n",
    "\n",
    "    recordid = Column(String, nullable=True, primary_key=True)\n",
    "    gare_code_uic = Column(String, nullable=True)\n",
    "    type = Column(String, nullable=True)\n",
    "    nature = Column(String, nullable=True)\n",
    "    recordtype = Column(String, nullable=True)\n",
    "    date = Column(String, nullable=True)\n",
    "\n",
    "class Gare(Base):\n",
    "    __tablename__ = \"Gare\"\n",
    "\n",
    "    \n",
    "\n",
    "\n",
    "Base.metadata.create_all(engine)\n"
   ]
  },
  {
   "cell_type": "code",
   "execution_count": 12,
   "metadata": {},
   "outputs": [],
   "source": [
    "# APPEL API POUR TOUS LES RECORDS ENTRE 2016 ET 2021\n",
    "\n",
    "# for a in [2016, 2017, 2018, 2019, 2020, 2021]:\n",
    "#     for m in [\"01\",\"02\",\"03\",\"04\",\"05\",\"06\",\"07\",\"08\",\"09\",\"10\",\"11\",\"12\"]:\n",
    "#         response = requests.get(f'{url}?dataset=objets-trouves-restitution&rows=-1&refine.date={str(a)}%2F{m}').json()\n",
    "#         try:\n",
    "#             for i in response['records']:\n",
    "#                 try:\n",
    "#                     gare_code_uic = i['fields']['gc_obo_gare_origine_r_code_uic_c']\n",
    "#                 except:\n",
    "#                     gare_code_uic = None\n",
    "                    \n",
    "#                 session.add(Record(recordid = i['recordid'],gare_code_uic = gare_code_uic,type = i['fields']['gc_obo_type_c'],nature = i['fields']['gc_obo_nature_c'],recordtype = i['fields']['gc_obo_nom_recordtype_sc_c'],date = i['fields']['date']))\n",
    "#             session.commit()\n",
    "#         except:\n",
    "#             pass\n"
   ]
  },
  {
   "cell_type": "code",
   "execution_count": null,
   "metadata": {},
   "outputs": [],
   "source": []
  }
 ],
 "metadata": {
  "kernelspec": {
   "display_name": "data-analyse-env",
   "language": "python",
   "name": "python3"
  },
  "language_info": {
   "codemirror_mode": {
    "name": "ipython",
    "version": 3
   },
   "file_extension": ".py",
   "mimetype": "text/x-python",
   "name": "python",
   "nbconvert_exporter": "python",
   "pygments_lexer": "ipython3",
   "version": "3.9.15 (main, Nov  4 2022, 11:11:31) \n[Clang 12.0.0 ]"
  },
  "orig_nbformat": 4,
  "vscode": {
   "interpreter": {
    "hash": "e040077903ef6eeaa5ac90c1254cd5abaaf5d30f296b3f264e1a83a3f6bea03d"
   }
  }
 },
 "nbformat": 4,
 "nbformat_minor": 2
}
