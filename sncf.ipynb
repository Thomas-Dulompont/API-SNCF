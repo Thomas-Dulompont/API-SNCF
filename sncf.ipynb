{
 "cells": [
  {
   "cell_type": "code",
   "execution_count": 1,
   "metadata": {},
   "outputs": [],
   "source": [
    "import pandas as pd\n",
    "from fonctions import *\n",
    "\n",
    "df_gare = pd.read_sql_table('Gare', 'sqlite:///db.sqlite')\n",
    "df_record = pd.read_sql_table('Record', 'sqlite:///db.sqlite')"
   ]
  },
  {
   "cell_type": "code",
   "execution_count": 2,
   "metadata": {},
   "outputs": [],
   "source": [
    "df_gare['gare_regionsncf_libelle'] = df_gare['adresse_cp'].apply(lambda x: search_region(str(x)[:2]))"
   ]
  },
  {
   "cell_type": "code",
   "execution_count": 11,
   "metadata": {},
   "outputs": [
    {
     "data": {
      "text/plain": [
       "['Occitanie',\n",
       " \"Provence-Alpes-Côte d'Azur\",\n",
       " 'Auvergne-Rhône-Alpes',\n",
       " 'Bourgogne-Franche-Comté',\n",
       " 'Centre-Val de Loire',\n",
       " 'Île-de-France',\n",
       " 'Nouvelle-Aquitaine',\n",
       " 'Pays de la Loire',\n",
       " 'Normandie',\n",
       " 'Bretagne',\n",
       " 'Grand Est',\n",
       " 'Hauts-de-France',\n",
       " None]"
      ]
     },
     "execution_count": 11,
     "metadata": {},
     "output_type": "execute_result"
    }
   ],
   "source": [
    "# On regarde les columns\n",
    "df_gare['gare_regionsncf_libelle'].unique()"
   ]
  },
  {
   "cell_type": "code",
   "execution_count": 4,
   "metadata": {},
   "outputs": [],
   "source": [
    "# On JOIN les deux dataframe et on retire la colonne \"uic_code\"\n",
    "merge = pd.merge(df_record, df_gare, how=\"left\", left_on=\"gare_code_uic\", right_on=\"uic_code\").drop(\"uic_code\", axis=1)\n",
    "merge.to_csv(\"sncf.csv\", index=False)"
   ]
  },
  {
   "cell_type": "code",
   "execution_count": 5,
   "metadata": {},
   "outputs": [
    {
     "data": {
      "text/plain": [
       "array([], dtype=object)"
      ]
     },
     "execution_count": 5,
     "metadata": {},
     "output_type": "execute_result"
    }
   ],
   "source": [
    "merge['gare_regionsncf_libelle'].unique()"
   ]
  },
  {
   "cell_type": "code",
   "execution_count": 6,
   "metadata": {},
   "outputs": [],
   "source": [
    "df = pd.read_sql_table('Freq', 'sqlite:///db.sqlite')"
   ]
  },
  {
   "cell_type": "code",
   "execution_count": 7,
   "metadata": {},
   "outputs": [],
   "source": [
    "df_grouped = df.groupby('region_name')\n",
    "freq_2021 = df_grouped['total_voyageurs_2021'].agg(sum).sort_values(ascending=False)"
   ]
  },
  {
   "cell_type": "code",
   "execution_count": 8,
   "metadata": {},
   "outputs": [
    {
     "data": {
      "text/plain": [
       "Series([], dtype: float64)"
      ]
     },
     "execution_count": 8,
     "metadata": {},
     "output_type": "execute_result"
    }
   ],
   "source": [
    "merge_grouped = merge.groupby('gare_regionsncf_libelle')\n",
    "obj_total = merge_grouped['recordid'].count().sort_values(ascending=False)\n",
    "test = obj_total.div(freq_2021)\n",
    "test"
   ]
  },
  {
   "cell_type": "code",
   "execution_count": 9,
   "metadata": {},
   "outputs": [],
   "source": [
    "Record.__table__.drop(engine)"
   ]
  }
 ],
 "metadata": {
  "kernelspec": {
   "display_name": "data-analyse-env",
   "language": "python",
   "name": "python3"
  },
  "language_info": {
   "codemirror_mode": {
    "name": "ipython",
    "version": 3
   },
   "file_extension": ".py",
   "mimetype": "text/x-python",
   "name": "python",
   "nbconvert_exporter": "python",
   "pygments_lexer": "ipython3",
   "version": "3.9.15 (main, Nov  4 2022, 11:11:31) \n[Clang 12.0.0 ]"
  },
  "orig_nbformat": 4,
  "vscode": {
   "interpreter": {
    "hash": "e040077903ef6eeaa5ac90c1254cd5abaaf5d30f296b3f264e1a83a3f6bea03d"
   }
  }
 },
 "nbformat": 4,
 "nbformat_minor": 2
}
