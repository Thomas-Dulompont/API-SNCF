{
 "cells": [
  {
   "cell_type": "code",
   "execution_count": 1,
   "metadata": {},
   "outputs": [],
   "source": [
    "import requests\n",
    "url = \"https://ressources.data.sncf.com/api/records/1.0/search/\""
   ]
  },
  {
   "cell_type": "code",
   "execution_count": 2,
   "metadata": {},
   "outputs": [],
   "source": [
    "from sqlalchemy.ext.declarative import declarative_base\n",
    "from sqlalchemy import create_engine\n",
    "from sqlalchemy.orm import sessionmaker\n",
    "from sqlalchemy import *\n",
    "\n",
    "engine = create_engine('sqlite:///db.sqlite')\n",
    "Base = declarative_base()\n",
    "\n",
    "Session = sessionmaker(bind=engine)\n",
    "session = Session()\n",
    "\n",
    "class Record(Base):\n",
    "    __tablename__ = \"Record\"\n",
    "\n",
    "    recordid = Column(String, nullable=True, primary_key=True)\n",
    "    gare_code_uic = Column(String, nullable=True)\n",
    "    type = Column(String, nullable=True)\n",
    "    nature = Column(String, nullable=True)\n",
    "    recordtype = Column(String, nullable=True)\n",
    "    date = Column(String, nullable=True)\n",
    "\n",
    "class Gare(Base):\n",
    "    __tablename__ = \"Gare\"\n",
    "\n",
    "    uic_code = Column(String, primary_key=True)\n",
    "    departement_libellemin = Column(String)\n",
    "    gare_regionsncf_libelle = Column(String)\n",
    "    gare_alias_libelle_noncontraint = Column(String)\n",
    "    adresse_cp = Column(String)\n",
    "    code_gare = Column(String)\n",
    "    lat = Column(REAL)\n",
    "    long = Column(REAL)\n",
    "\n",
    "\n",
    "Base.metadata.create_all(engine)\n"
   ]
  },
  {
   "cell_type": "code",
   "execution_count": 3,
   "metadata": {},
   "outputs": [],
   "source": [
    "# APPEL API POUR TOUS LES RECORDS ENTRE 2016 ET 2021\n",
    "\n",
    "for a in [2016, 2017, 2018, 2019, 2020, 2021]:\n",
    "    for m in [\"01\",\"02\",\"03\",\"04\",\"05\",\"06\",\"07\",\"08\",\"09\",\"10\",\"11\",\"12\"]:\n",
    "        response = requests.get(f'{url}?dataset=objets-trouves-restitution&rows=-1&refine.date={str(a)}%2F{m}').json()\n",
    "        try:\n",
    "            for i in response['records']:\n",
    "                try:\n",
    "                    gare_code_uic = i['fields']['gc_obo_gare_origine_r_code_uic_c']\n",
    "                except:\n",
    "                    gare_code_uic = None\n",
    "                    \n",
    "                session.add(Record(recordid = i['recordid'],gare_code_uic = gare_code_uic,type = i['fields']['gc_obo_type_c'],nature = i['fields']['gc_obo_nature_c'],recordtype = i['fields']['gc_obo_nom_recordtype_sc_c'],date = i['fields']['date']))\n",
    "            session.commit()\n",
    "        except:\n",
    "            pass\n"
   ]
  },
  {
   "cell_type": "code",
   "execution_count": 4,
   "metadata": {},
   "outputs": [],
   "source": [
    "# APPEL API POUR TOUTES LES GARES\n",
    "\n",
    "for g in requests.get(f'{url}?dataset=referentiel-gares-voyageurs&q=&rows=-1&sort=gare_alias_libelle_noncontraint&facet=departement_libellemin&facet=segmentdrg_libelle&facet=gare_agencegc_libelle&facet=gare_regionsncf_libelle&facet=gare_ug_libelle').json()['records']:\n",
    "    \n",
    "    try:\n",
    "        gare_regionsncf_libelle = g['fields']['gare_regionsncf_libelle']\n",
    "    except:\n",
    "        gare_regionsncf_libelle = None\n",
    "    \n",
    "    try:\n",
    "        departement_libellemin = g['fields']['departement_libellemin']\n",
    "    except:\n",
    "        departement_libellemin = None\n",
    "\n",
    "    try:\n",
    "        gare_alias_libelle_noncontraint = g['fields']['gare_alias_libelle_noncontraint']\n",
    "    except:\n",
    "        gare_alias_libelle_noncontraint = None\n",
    "\n",
    "    try:\n",
    "        adresse_cp = g['fields']['adresse_cp']\n",
    "    except:\n",
    "        adresse_cp = None\n",
    "\n",
    "    try:\n",
    "        code_gare = g['fields']['code_gare']\n",
    "    except:\n",
    "        code_gare = None\n",
    "\n",
    "    try:\n",
    "        lat = g['geometry']['coordinates'][1]\n",
    "        long = g['geometry']['coordinates'][0]\n",
    "    except:\n",
    "        lat = None\n",
    "        long = None\n",
    "    \n",
    "    try:\n",
    "        session.add(\n",
    "        Gare(\n",
    "            uic_code = g['fields']['uic_code'],\n",
    "            departement_libellemin = departement_libellemin,\n",
    "            gare_regionsncf_libelle = gare_regionsncf_libelle,\n",
    "            gare_alias_libelle_noncontraint = gare_alias_libelle_noncontraint,\n",
    "            adresse_cp = adresse_cp,\n",
    "            code_gare = g['fields']['code_gare'],\n",
    "            lat = lat,\n",
    "            long = long\n",
    "            )\n",
    "        )\n",
    "        session.commit()\n",
    "    except:\n",
    "        pass\n",
    "    "
   ]
  },
  {
   "cell_type": "code",
   "execution_count": 5,
   "metadata": {},
   "outputs": [],
   "source": [
    "import pandas as pd\n",
    "\n",
    "df = pd.read_sql_table('Record', 'sqlite:///db.sqlite')"
   ]
  },
  {
   "cell_type": "code",
   "execution_count": 6,
   "metadata": {},
   "outputs": [],
   "source": [
    "df = df.dropna(axis=0)"
   ]
  },
  {
   "cell_type": "code",
   "execution_count": 7,
   "metadata": {},
   "outputs": [
    {
     "data": {
      "text/plain": [
       "0         2016-01-06\n",
       "1         2016-01-06\n",
       "2         2016-01-06\n",
       "3         2016-01-06\n",
       "4         2016-01-06\n",
       "             ...    \n",
       "481297    2021-12-31\n",
       "481298    2021-12-31\n",
       "481299    2021-12-31\n",
       "481300    2021-12-31\n",
       "481301    2021-12-31\n",
       "Name: date, Length: 481117, dtype: object"
      ]
     },
     "execution_count": 7,
     "metadata": {},
     "output_type": "execute_result"
    }
   ],
   "source": [
    "df['date'] = df['date'].apply(lambda x: str(x)[:10])\n",
    "df['date']"
   ]
  }
 ],
 "metadata": {
  "kernelspec": {
   "display_name": "Python 3",
   "language": "python",
   "name": "python3"
  },
  "language_info": {
   "codemirror_mode": {
    "name": "ipython",
    "version": 3
   },
   "file_extension": ".py",
   "mimetype": "text/x-python",
   "name": "python",
   "nbconvert_exporter": "python",
   "pygments_lexer": "ipython3",
   "version": "3.10.6"
  },
  "orig_nbformat": 4,
  "vscode": {
   "interpreter": {
    "hash": "916dbcbb3f70747c44a77c7bcd40155683ae19c65e1c03b4aa3499c5328201f1"
   }
  }
 },
 "nbformat": 4,
 "nbformat_minor": 2
}
