{
 "cells": [
  {
   "cell_type": "code",
   "execution_count": 3,
   "metadata": {},
   "outputs": [
    {
     "data": {
      "text/html": [
       "<div>\n",
       "<style scoped>\n",
       "    .dataframe tbody tr th:only-of-type {\n",
       "        vertical-align: middle;\n",
       "    }\n",
       "\n",
       "    .dataframe tbody tr th {\n",
       "        vertical-align: top;\n",
       "    }\n",
       "\n",
       "    .dataframe thead th {\n",
       "        text-align: right;\n",
       "    }\n",
       "</style>\n",
       "<table border=\"1\" class=\"dataframe\">\n",
       "  <thead>\n",
       "    <tr style=\"text-align: right;\">\n",
       "      <th></th>\n",
       "      <th>id</th>\n",
       "      <th>nom_reg</th>\n",
       "      <th>nom_dept</th>\n",
       "      <th>lat</th>\n",
       "      <th>long</th>\n",
       "      <th>tc</th>\n",
       "      <th>code_dep</th>\n",
       "      <th>mois_de_l_annee</th>\n",
       "    </tr>\n",
       "    <tr>\n",
       "      <th>date</th>\n",
       "      <th></th>\n",
       "      <th></th>\n",
       "      <th></th>\n",
       "      <th></th>\n",
       "      <th></th>\n",
       "      <th></th>\n",
       "      <th></th>\n",
       "      <th></th>\n",
       "    </tr>\n",
       "  </thead>\n",
       "  <tbody>\n",
       "    <tr>\n",
       "      <th>2016-01-31 21:00:00+00:00</th>\n",
       "      <td>bcef811f95e51cf26f06c76648551163e0a4ebca</td>\n",
       "      <td>Hauts-de-France</td>\n",
       "      <td>Nord</td>\n",
       "      <td>50.570000</td>\n",
       "      <td>3.097500</td>\n",
       "      <td>12.0</td>\n",
       "      <td>59</td>\n",
       "      <td>1</td>\n",
       "    </tr>\n",
       "    <tr>\n",
       "      <th>2016-01-31 21:00:00+00:00</th>\n",
       "      <td>16333dc244dd5777e1c66a08510ba8e3181ed460</td>\n",
       "      <td>Hauts-de-France</td>\n",
       "      <td>Somme</td>\n",
       "      <td>50.136000</td>\n",
       "      <td>1.834000</td>\n",
       "      <td>11.3</td>\n",
       "      <td>80</td>\n",
       "      <td>1</td>\n",
       "    </tr>\n",
       "    <tr>\n",
       "      <th>2016-01-31 18:00:00+00:00</th>\n",
       "      <td>b8604ed555e6cf17baddd98798d37f90abc6c888</td>\n",
       "      <td>Hauts-de-France</td>\n",
       "      <td>Nord</td>\n",
       "      <td>50.570000</td>\n",
       "      <td>3.097500</td>\n",
       "      <td>11.9</td>\n",
       "      <td>59</td>\n",
       "      <td>1</td>\n",
       "    </tr>\n",
       "    <tr>\n",
       "      <th>2016-01-31 18:00:00+00:00</th>\n",
       "      <td>9dcd958a7e47c91b3f1aad056276398119e9ce8e</td>\n",
       "      <td>Hauts-de-France</td>\n",
       "      <td>Somme</td>\n",
       "      <td>50.136000</td>\n",
       "      <td>1.834000</td>\n",
       "      <td>11.3</td>\n",
       "      <td>80</td>\n",
       "      <td>1</td>\n",
       "    </tr>\n",
       "    <tr>\n",
       "      <th>2016-01-31 15:00:00+00:00</th>\n",
       "      <td>1655532600386ccb57133ece9d1d32df8437fa65</td>\n",
       "      <td>Hauts-de-France</td>\n",
       "      <td>Nord</td>\n",
       "      <td>50.570000</td>\n",
       "      <td>3.097500</td>\n",
       "      <td>9.0</td>\n",
       "      <td>59</td>\n",
       "      <td>1</td>\n",
       "    </tr>\n",
       "    <tr>\n",
       "      <th>...</th>\n",
       "      <td>...</td>\n",
       "      <td>...</td>\n",
       "      <td>...</td>\n",
       "      <td>...</td>\n",
       "      <td>...</td>\n",
       "      <td>...</td>\n",
       "      <td>...</td>\n",
       "      <td>...</td>\n",
       "    </tr>\n",
       "    <tr>\n",
       "      <th>2021-12-01 03:00:00+00:00</th>\n",
       "      <td>8c19c1cbced424c8a162d864b6c66c3b275c7ede</td>\n",
       "      <td>Bretagne</td>\n",
       "      <td>Ille-et-Vilaine</td>\n",
       "      <td>48.068833</td>\n",
       "      <td>-1.734000</td>\n",
       "      <td>10.8</td>\n",
       "      <td>35</td>\n",
       "      <td>12</td>\n",
       "    </tr>\n",
       "    <tr>\n",
       "      <th>2021-12-01 00:00:00+00:00</th>\n",
       "      <td>be7e93132bb692995fee3e77b3a9371b1b453898</td>\n",
       "      <td>Bretagne</td>\n",
       "      <td>Finistère</td>\n",
       "      <td>48.444167</td>\n",
       "      <td>-4.412000</td>\n",
       "      <td>11.7</td>\n",
       "      <td>29</td>\n",
       "      <td>12</td>\n",
       "    </tr>\n",
       "    <tr>\n",
       "      <th>2021-12-01 00:00:00+00:00</th>\n",
       "      <td>2b9b9ac17b123e890d7cf11aa00840b9cf6c3670</td>\n",
       "      <td>Bretagne</td>\n",
       "      <td>Côtes-d'Armor</td>\n",
       "      <td>48.825833</td>\n",
       "      <td>-3.473167</td>\n",
       "      <td>11.3</td>\n",
       "      <td>22</td>\n",
       "      <td>12</td>\n",
       "    </tr>\n",
       "    <tr>\n",
       "      <th>2021-12-01 00:00:00+00:00</th>\n",
       "      <td>196da3fe8aebe33b541b4c73e370aaacb7a30213</td>\n",
       "      <td>Bretagne</td>\n",
       "      <td>Morbihan</td>\n",
       "      <td>47.294333</td>\n",
       "      <td>-3.218333</td>\n",
       "      <td>12.2</td>\n",
       "      <td>56</td>\n",
       "      <td>12</td>\n",
       "    </tr>\n",
       "    <tr>\n",
       "      <th>2021-12-01 00:00:00+00:00</th>\n",
       "      <td>63f7c08bfe4cfc72a030a6ba90ee6bb9946da888</td>\n",
       "      <td>Bretagne</td>\n",
       "      <td>Ille-et-Vilaine</td>\n",
       "      <td>48.068833</td>\n",
       "      <td>-1.734000</td>\n",
       "      <td>10.1</td>\n",
       "      <td>35</td>\n",
       "      <td>12</td>\n",
       "    </tr>\n",
       "  </tbody>\n",
       "</table>\n",
       "<p>695328 rows × 8 columns</p>\n",
       "</div>"
      ],
      "text/plain": [
       "                                                                 id  \\\n",
       "date                                                                  \n",
       "2016-01-31 21:00:00+00:00  bcef811f95e51cf26f06c76648551163e0a4ebca   \n",
       "2016-01-31 21:00:00+00:00  16333dc244dd5777e1c66a08510ba8e3181ed460   \n",
       "2016-01-31 18:00:00+00:00  b8604ed555e6cf17baddd98798d37f90abc6c888   \n",
       "2016-01-31 18:00:00+00:00  9dcd958a7e47c91b3f1aad056276398119e9ce8e   \n",
       "2016-01-31 15:00:00+00:00  1655532600386ccb57133ece9d1d32df8437fa65   \n",
       "...                                                             ...   \n",
       "2021-12-01 03:00:00+00:00  8c19c1cbced424c8a162d864b6c66c3b275c7ede   \n",
       "2021-12-01 00:00:00+00:00  be7e93132bb692995fee3e77b3a9371b1b453898   \n",
       "2021-12-01 00:00:00+00:00  2b9b9ac17b123e890d7cf11aa00840b9cf6c3670   \n",
       "2021-12-01 00:00:00+00:00  196da3fe8aebe33b541b4c73e370aaacb7a30213   \n",
       "2021-12-01 00:00:00+00:00  63f7c08bfe4cfc72a030a6ba90ee6bb9946da888   \n",
       "\n",
       "                                   nom_reg         nom_dept        lat  \\\n",
       "date                                                                     \n",
       "2016-01-31 21:00:00+00:00  Hauts-de-France             Nord  50.570000   \n",
       "2016-01-31 21:00:00+00:00  Hauts-de-France            Somme  50.136000   \n",
       "2016-01-31 18:00:00+00:00  Hauts-de-France             Nord  50.570000   \n",
       "2016-01-31 18:00:00+00:00  Hauts-de-France            Somme  50.136000   \n",
       "2016-01-31 15:00:00+00:00  Hauts-de-France             Nord  50.570000   \n",
       "...                                    ...              ...        ...   \n",
       "2021-12-01 03:00:00+00:00         Bretagne  Ille-et-Vilaine  48.068833   \n",
       "2021-12-01 00:00:00+00:00         Bretagne        Finistère  48.444167   \n",
       "2021-12-01 00:00:00+00:00         Bretagne    Côtes-d'Armor  48.825833   \n",
       "2021-12-01 00:00:00+00:00         Bretagne         Morbihan  47.294333   \n",
       "2021-12-01 00:00:00+00:00         Bretagne  Ille-et-Vilaine  48.068833   \n",
       "\n",
       "                               long    tc code_dep mois_de_l_annee  \n",
       "date                                                                \n",
       "2016-01-31 21:00:00+00:00  3.097500  12.0       59               1  \n",
       "2016-01-31 21:00:00+00:00  1.834000  11.3       80               1  \n",
       "2016-01-31 18:00:00+00:00  3.097500  11.9       59               1  \n",
       "2016-01-31 18:00:00+00:00  1.834000  11.3       80               1  \n",
       "2016-01-31 15:00:00+00:00  3.097500   9.0       59               1  \n",
       "...                             ...   ...      ...             ...  \n",
       "2021-12-01 03:00:00+00:00 -1.734000  10.8       35              12  \n",
       "2021-12-01 00:00:00+00:00 -4.412000  11.7       29              12  \n",
       "2021-12-01 00:00:00+00:00 -3.473167  11.3       22              12  \n",
       "2021-12-01 00:00:00+00:00 -3.218333  12.2       56              12  \n",
       "2021-12-01 00:00:00+00:00 -1.734000  10.1       35              12  \n",
       "\n",
       "[695328 rows x 8 columns]"
      ]
     },
     "execution_count": 3,
     "metadata": {},
     "output_type": "execute_result"
    }
   ],
   "source": [
    "import pandas as pd\n",
    "import sqlite3\n",
    "\n",
    "# Read in SQLite databases\n",
    "con = sqlite3.connect(\"../db.sqlite\")\n",
    "#Read the Table\n",
    "df_weather = pd.read_sql(\"SELECT * from Meteo\", con)\n",
    "#close the connection\n",
    "# con.close()\n",
    "\n",
    "df_weather['date'] = pd.to_datetime(df_weather['date'])\n",
    "df_weather.set_index('date', inplace=True)\n",
    "df_weather\n",
    "#df_weather_by_day = df_weather.groupby('code_dep').resample('D').mean().reset_index()\n",
    "#df_weather_by_day['date'] = df_weather_by_day['date'].dt.date\n",
    "#df_weather_by_day"
   ]
  },
  {
   "cell_type": "code",
   "execution_count": 103,
   "metadata": {},
   "outputs": [
    {
     "data": {
      "text/html": [
       "<div>\n",
       "<style scoped>\n",
       "    .dataframe tbody tr th:only-of-type {\n",
       "        vertical-align: middle;\n",
       "    }\n",
       "\n",
       "    .dataframe tbody tr th {\n",
       "        vertical-align: top;\n",
       "    }\n",
       "\n",
       "    .dataframe thead th {\n",
       "        text-align: right;\n",
       "    }\n",
       "</style>\n",
       "<table border=\"1\" class=\"dataframe\">\n",
       "  <thead>\n",
       "    <tr style=\"text-align: right;\">\n",
       "      <th></th>\n",
       "      <th>code_dep</th>\n",
       "      <th>date</th>\n",
       "      <th>lat</th>\n",
       "      <th>long</th>\n",
       "      <th>tc</th>\n",
       "    </tr>\n",
       "  </thead>\n",
       "  <tbody>\n",
       "    <tr>\n",
       "      <th>0</th>\n",
       "      <td>05</td>\n",
       "      <td>2016-01-03</td>\n",
       "      <td>44.565667</td>\n",
       "      <td>6.502333</td>\n",
       "      <td>3.420833</td>\n",
       "    </tr>\n",
       "    <tr>\n",
       "      <th>1</th>\n",
       "      <td>05</td>\n",
       "      <td>2016-01-10</td>\n",
       "      <td>44.565667</td>\n",
       "      <td>6.502333</td>\n",
       "      <td>2.332143</td>\n",
       "    </tr>\n",
       "    <tr>\n",
       "      <th>2</th>\n",
       "      <td>05</td>\n",
       "      <td>2016-01-17</td>\n",
       "      <td>44.565667</td>\n",
       "      <td>6.502333</td>\n",
       "      <td>-0.328571</td>\n",
       "    </tr>\n",
       "    <tr>\n",
       "      <th>3</th>\n",
       "      <td>05</td>\n",
       "      <td>2016-01-24</td>\n",
       "      <td>44.565667</td>\n",
       "      <td>6.502333</td>\n",
       "      <td>-0.041071</td>\n",
       "    </tr>\n",
       "    <tr>\n",
       "      <th>4</th>\n",
       "      <td>05</td>\n",
       "      <td>2016-01-31</td>\n",
       "      <td>44.565667</td>\n",
       "      <td>6.502333</td>\n",
       "      <td>5.496429</td>\n",
       "    </tr>\n",
       "    <tr>\n",
       "      <th>...</th>\n",
       "      <td>...</td>\n",
       "      <td>...</td>\n",
       "      <td>...</td>\n",
       "      <td>...</td>\n",
       "      <td>...</td>\n",
       "    </tr>\n",
       "    <tr>\n",
       "      <th>12555</th>\n",
       "      <td>91</td>\n",
       "      <td>2021-12-05</td>\n",
       "      <td>48.716833</td>\n",
       "      <td>2.384333</td>\n",
       "      <td>5.261818</td>\n",
       "    </tr>\n",
       "    <tr>\n",
       "      <th>12556</th>\n",
       "      <td>91</td>\n",
       "      <td>2021-12-12</td>\n",
       "      <td>48.716833</td>\n",
       "      <td>2.384333</td>\n",
       "      <td>5.603636</td>\n",
       "    </tr>\n",
       "    <tr>\n",
       "      <th>12557</th>\n",
       "      <td>91</td>\n",
       "      <td>2021-12-19</td>\n",
       "      <td>48.716833</td>\n",
       "      <td>2.384333</td>\n",
       "      <td>6.587500</td>\n",
       "    </tr>\n",
       "    <tr>\n",
       "      <th>12558</th>\n",
       "      <td>91</td>\n",
       "      <td>2021-12-26</td>\n",
       "      <td>48.716833</td>\n",
       "      <td>2.384333</td>\n",
       "      <td>5.100000</td>\n",
       "    </tr>\n",
       "    <tr>\n",
       "      <th>12559</th>\n",
       "      <td>91</td>\n",
       "      <td>2022-01-02</td>\n",
       "      <td>48.716833</td>\n",
       "      <td>2.384333</td>\n",
       "      <td>11.480000</td>\n",
       "    </tr>\n",
       "  </tbody>\n",
       "</table>\n",
       "<p>12560 rows × 5 columns</p>\n",
       "</div>"
      ],
      "text/plain": [
       "      code_dep        date        lat      long         tc\n",
       "0           05  2016-01-03  44.565667  6.502333   3.420833\n",
       "1           05  2016-01-10  44.565667  6.502333   2.332143\n",
       "2           05  2016-01-17  44.565667  6.502333  -0.328571\n",
       "3           05  2016-01-24  44.565667  6.502333  -0.041071\n",
       "4           05  2016-01-31  44.565667  6.502333   5.496429\n",
       "...        ...         ...        ...       ...        ...\n",
       "12555       91  2021-12-05  48.716833  2.384333   5.261818\n",
       "12556       91  2021-12-12  48.716833  2.384333   5.603636\n",
       "12557       91  2021-12-19  48.716833  2.384333   6.587500\n",
       "12558       91  2021-12-26  48.716833  2.384333   5.100000\n",
       "12559       91  2022-01-02  48.716833  2.384333  11.480000\n",
       "\n",
       "[12560 rows x 5 columns]"
      ]
     },
     "execution_count": 103,
     "metadata": {},
     "output_type": "execute_result"
    }
   ],
   "source": [
    "\n",
    "df_weather_by_week = df_weather.groupby('code_dep').resample('W').mean().reset_index()\n",
    "df_weather_by_week['date'] = df_weather_by_week['date'].dt.date\n"
   ]
  },
  {
   "cell_type": "code",
   "execution_count": 104,
   "metadata": {},
   "outputs": [],
   "source": [
    "df_weather_by_day.to_csv(\"../CSV/weather_by_dep_by_week.csv\")"
   ]
  },
  {
   "cell_type": "code",
   "execution_count": 118,
   "metadata": {},
   "outputs": [],
   "source": [
    "df_weather_by_month = df_weather.groupby('code_dep').resample('M').mean().reset_index()\n",
    "df_weather_by_month['date'] = df_weather_by_month['date'].dt.date\n",
    "df_weather_by_month.to_csv(\"../CSV/weather_by_dep_by_month.csv\")"
   ]
  },
  {
   "cell_type": "code",
   "execution_count": 144,
   "metadata": {},
   "outputs": [],
   "source": [
    "df_weather_by_week = df_weather.groupby('code_dep').resample('W').mean().reset_index()\n",
    "df_weather_by_week['date'] = df_weather_by_week['date'].dt.date\n",
    "df_weather_by_week.to_csv(\"../CSV/weather_by_dep_by_week.csv\")"
   ]
  },
  {
   "cell_type": "code",
   "execution_count": 145,
   "metadata": {},
   "outputs": [],
   "source": [
    "df_weather_by_year = df_weather.groupby('code_dep').resample('Y').mean().reset_index()\n",
    "df_weather_by_year['date'] = df_weather_by_year['date'].dt.date\n",
    "df_weather_by_year.to_csv(\"../CSV/weather_by_dep_by_year.csv\")"
   ]
  },
  {
   "cell_type": "code",
   "execution_count": 148,
   "metadata": {},
   "outputs": [],
   "source": [
    "df_weather_by_quarter = df_weather.groupby('code_dep').resample('Q').mean().reset_index()\n",
    "df_weather_by_quarter['date'] = df_weather_by_quarter['date'].dt.date\n",
    "df_weather_by_quarter.to_csv(\"../CSV/weather_by_dep_by_quarter.csv\")"
   ]
  },
  {
   "cell_type": "code",
   "execution_count": 10,
   "metadata": {},
   "outputs": [],
   "source": [
    "\n",
    "df_objects = pd.read_sql(\"SELECT * from Record\", con)\n",
    "Gares = pd.read_sql(\"SELECT * from Gare\", con)\n",
    "\n",
    "\n",
    "\n"
   ]
  },
  {
   "cell_type": "code",
   "execution_count": 11,
   "metadata": {},
   "outputs": [],
   "source": [
    "# import pandas as pd\n",
    "# import matplotlib.pyplot as plt\n",
    "# df_objects.to_csv(\"../CSV/df_objet.csv\")\n",
    "df_objet = df_objects"
   ]
  },
  {
   "cell_type": "code",
   "execution_count": 172,
   "metadata": {},
   "outputs": [
    {
     "ename": "KeyError",
     "evalue": "'date'",
     "output_type": "error",
     "traceback": [
      "\u001b[0;31m---------------------------------------------------------------------------\u001b[0m",
      "\u001b[0;31mKeyError\u001b[0m                                  Traceback (most recent call last)",
      "File \u001b[0;32m~/.local/lib/python3.10/site-packages/pandas/core/indexes/base.py:3621\u001b[0m, in \u001b[0;36mIndex.get_loc\u001b[0;34m(self, key, method, tolerance)\u001b[0m\n\u001b[1;32m   3620\u001b[0m \u001b[39mtry\u001b[39;00m:\n\u001b[0;32m-> 3621\u001b[0m     \u001b[39mreturn\u001b[39;00m \u001b[39mself\u001b[39;49m\u001b[39m.\u001b[39;49m_engine\u001b[39m.\u001b[39;49mget_loc(casted_key)\n\u001b[1;32m   3622\u001b[0m \u001b[39mexcept\u001b[39;00m \u001b[39mKeyError\u001b[39;00m \u001b[39mas\u001b[39;00m err:\n",
      "File \u001b[0;32m~/.local/lib/python3.10/site-packages/pandas/_libs/index.pyx:136\u001b[0m, in \u001b[0;36mpandas._libs.index.IndexEngine.get_loc\u001b[0;34m()\u001b[0m\n",
      "File \u001b[0;32m~/.local/lib/python3.10/site-packages/pandas/_libs/index.pyx:163\u001b[0m, in \u001b[0;36mpandas._libs.index.IndexEngine.get_loc\u001b[0;34m()\u001b[0m\n",
      "File \u001b[0;32mpandas/_libs/hashtable_class_helper.pxi:5198\u001b[0m, in \u001b[0;36mpandas._libs.hashtable.PyObjectHashTable.get_item\u001b[0;34m()\u001b[0m\n",
      "File \u001b[0;32mpandas/_libs/hashtable_class_helper.pxi:5206\u001b[0m, in \u001b[0;36mpandas._libs.hashtable.PyObjectHashTable.get_item\u001b[0;34m()\u001b[0m\n",
      "\u001b[0;31mKeyError\u001b[0m: 'date'",
      "\nThe above exception was the direct cause of the following exception:\n",
      "\u001b[0;31mKeyError\u001b[0m                                  Traceback (most recent call last)",
      "\u001b[1;32m/home/apprenant/Documents/MyLearning/API-SNCF/analyse/test_Emad.ipynb Cellule 10\u001b[0m in \u001b[0;36m<cell line: 2>\u001b[0;34m()\u001b[0m\n\u001b[1;32m      <a href='vscode-notebook-cell:/home/apprenant/Documents/MyLearning/API-SNCF/analyse/test_Emad.ipynb#Y101sZmlsZQ%3D%3D?line=0'>1</a>\u001b[0m df_objet \u001b[39m=\u001b[39m df_objects\n\u001b[0;32m----> <a href='vscode-notebook-cell:/home/apprenant/Documents/MyLearning/API-SNCF/analyse/test_Emad.ipynb#Y101sZmlsZQ%3D%3D?line=1'>2</a>\u001b[0m df_objet[\u001b[39m'\u001b[39m\u001b[39mdate\u001b[39m\u001b[39m'\u001b[39m] \u001b[39m=\u001b[39m pd\u001b[39m.\u001b[39mto_datetime(df_objet[\u001b[39m'\u001b[39;49m\u001b[39mdate\u001b[39;49m\u001b[39m'\u001b[39;49m])\n\u001b[1;32m      <a href='vscode-notebook-cell:/home/apprenant/Documents/MyLearning/API-SNCF/analyse/test_Emad.ipynb#Y101sZmlsZQ%3D%3D?line=2'>3</a>\u001b[0m df_objet\u001b[39m.\u001b[39mset_index(\u001b[39m'\u001b[39m\u001b[39mdate\u001b[39m\u001b[39m'\u001b[39m, inplace\u001b[39m=\u001b[39m\u001b[39mTrue\u001b[39;00m)\n\u001b[1;32m      <a href='vscode-notebook-cell:/home/apprenant/Documents/MyLearning/API-SNCF/analyse/test_Emad.ipynb#Y101sZmlsZQ%3D%3D?line=3'>4</a>\u001b[0m df_week_total \u001b[39m=\u001b[39m df_objet\u001b[39m.\u001b[39mgroupby([pd\u001b[39m.\u001b[39mGrouper(freq \u001b[39m=\u001b[39m \u001b[39m'\u001b[39m\u001b[39mW\u001b[39m\u001b[39m'\u001b[39m)])\u001b[39m.\u001b[39magg(nb_objets \u001b[39m=\u001b[39m (\u001b[39m'\u001b[39m\u001b[39mtype\u001b[39m\u001b[39m'\u001b[39m , \u001b[39m'\u001b[39m\u001b[39mcount\u001b[39m\u001b[39m'\u001b[39m))\n",
      "File \u001b[0;32m~/.local/lib/python3.10/site-packages/pandas/core/frame.py:3505\u001b[0m, in \u001b[0;36mDataFrame.__getitem__\u001b[0;34m(self, key)\u001b[0m\n\u001b[1;32m   3503\u001b[0m \u001b[39mif\u001b[39;00m \u001b[39mself\u001b[39m\u001b[39m.\u001b[39mcolumns\u001b[39m.\u001b[39mnlevels \u001b[39m>\u001b[39m \u001b[39m1\u001b[39m:\n\u001b[1;32m   3504\u001b[0m     \u001b[39mreturn\u001b[39;00m \u001b[39mself\u001b[39m\u001b[39m.\u001b[39m_getitem_multilevel(key)\n\u001b[0;32m-> 3505\u001b[0m indexer \u001b[39m=\u001b[39m \u001b[39mself\u001b[39;49m\u001b[39m.\u001b[39;49mcolumns\u001b[39m.\u001b[39;49mget_loc(key)\n\u001b[1;32m   3506\u001b[0m \u001b[39mif\u001b[39;00m is_integer(indexer):\n\u001b[1;32m   3507\u001b[0m     indexer \u001b[39m=\u001b[39m [indexer]\n",
      "File \u001b[0;32m~/.local/lib/python3.10/site-packages/pandas/core/indexes/base.py:3623\u001b[0m, in \u001b[0;36mIndex.get_loc\u001b[0;34m(self, key, method, tolerance)\u001b[0m\n\u001b[1;32m   3621\u001b[0m     \u001b[39mreturn\u001b[39;00m \u001b[39mself\u001b[39m\u001b[39m.\u001b[39m_engine\u001b[39m.\u001b[39mget_loc(casted_key)\n\u001b[1;32m   3622\u001b[0m \u001b[39mexcept\u001b[39;00m \u001b[39mKeyError\u001b[39;00m \u001b[39mas\u001b[39;00m err:\n\u001b[0;32m-> 3623\u001b[0m     \u001b[39mraise\u001b[39;00m \u001b[39mKeyError\u001b[39;00m(key) \u001b[39mfrom\u001b[39;00m \u001b[39merr\u001b[39;00m\n\u001b[1;32m   3624\u001b[0m \u001b[39mexcept\u001b[39;00m \u001b[39mTypeError\u001b[39;00m:\n\u001b[1;32m   3625\u001b[0m     \u001b[39m# If we have a listlike key, _check_indexing_error will raise\u001b[39;00m\n\u001b[1;32m   3626\u001b[0m     \u001b[39m#  InvalidIndexError. Otherwise we fall through and re-raise\u001b[39;00m\n\u001b[1;32m   3627\u001b[0m     \u001b[39m#  the TypeError.\u001b[39;00m\n\u001b[1;32m   3628\u001b[0m     \u001b[39mself\u001b[39m\u001b[39m.\u001b[39m_check_indexing_error(key)\n",
      "\u001b[0;31mKeyError\u001b[0m: 'date'"
     ]
    }
   ],
   "source": [
    "df_objet = df_objects\n",
    "df_objet['date'] = pd.to_datetime(df_objet['date'])\n",
    "df_objet.set_index('date', inplace=True)\n",
    "df_week_total = df_objet.groupby([pd.Grouper(freq = 'W')]).agg(nb_objets = ('type' , 'count'))\n",
    "df_week_total.to_csv(\"../CSV/df_week_total.csv\")"
   ]
  },
  {
   "cell_type": "code",
   "execution_count": 170,
   "metadata": {},
   "outputs": [],
   "source": [
    "df_objet = df_objects\n",
    "df_objet['date'] = pd.to_datetime(df_objet['date'])\n",
    "df_objet.set_index('date', inplace=True)\n",
    "df_day_total = df_objet.groupby([pd.Grouper(freq = 'd')]).agg(nb_objets = ('type' , 'count'))\n",
    "# df_week_total\n",
    "df_day_total.to_csv(\"../CSV/df_day_total.csv\")"
   ]
  },
  {
   "cell_type": "code",
   "execution_count": 177,
   "metadata": {},
   "outputs": [],
   "source": [
    "df_objet = df_objects\n",
    "df_objet['date'] = pd.to_datetime(df_objet['date'])\n",
    "df_objet.set_index('date', inplace=True)\n",
    "df_month_total = df_objet.groupby([pd.Grouper(freq = 'm')]).agg(nb_objets = ('type' , 'count'))\n",
    "# df_week_total\n",
    "df_month_total.to_csv(\"../CSV/df_month_total.csv\")"
   ]
  },
  {
   "cell_type": "code",
   "execution_count": 180,
   "metadata": {},
   "outputs": [],
   "source": [
    "df_objet = df_objects\n",
    "df_objet['date'] = pd.to_datetime(df_objet['date'])\n",
    "df_objet.set_index('date', inplace=True)\n",
    "df_year_total = df_objet.groupby([pd.Grouper(freq = 'y')]).agg(nb_objets = ('type' , 'count'))\n",
    "# df_week_total\n",
    "df_year_total.to_csv(\"../CSV/df_year_total.csv\")"
   ]
  },
  {
   "cell_type": "code",
   "execution_count": null,
   "metadata": {},
   "outputs": [],
   "source": [
    "df_objet = df_objects\n",
    "df_objet['date'] = pd.to_datetime(df_objet['date'])\n",
    "df_objet.set_index('date', inplace=True)\n",
    "df_quarter_total = df_objet.groupby([pd.Grouper(freq = 'Q')]).agg(nb_objets = ('type' , 'count'))\n",
    "# df_week_total\n",
    "df_quarter_total.to_csv(\"../CSV/df_quarter_total.csv\")"
   ]
  },
  {
   "cell_type": "code",
   "execution_count": 153,
   "metadata": {},
   "outputs": [
    {
     "data": {
      "application/vnd.plotly.v1+json": {
       "config": {
        "plotlyServerURL": "https://plot.ly"
       },
       "data": [
        {
         "nbinsx": 20,
         "type": "histogram",
         "x": [
          331,
          1736,
          1822,
          1674,
          1680,
          1718,
          1747,
          1591,
          1716,
          1729,
          1569,
          1639,
          1798,
          1692,
          1748,
          1911,
          1751,
          1725,
          1780,
          2020,
          1687,
          1790,
          1475,
          1572,
          1660,
          2139,
          2111,
          2307,
          2048,
          2169,
          1958,
          2077,
          1967,
          1957,
          1969,
          1870,
          1987,
          1854,
          1975,
          1883,
          2049,
          1883,
          1926,
          1904,
          1660,
          1864,
          1806,
          1637,
          1830,
          1773,
          1825,
          1960,
          1675,
          1741,
          1742,
          1678,
          1753,
          1774,
          1980,
          1839,
          1775,
          1669,
          1790,
          1803,
          1654,
          1903,
          1996,
          2056,
          1707,
          1851,
          1702,
          1673,
          1885,
          1777,
          2005,
          1966,
          2126,
          1917,
          2044,
          2441,
          2273,
          2199,
          2032,
          2050,
          1844,
          1933,
          1985,
          1887,
          1870,
          1708,
          1812,
          2018,
          1910,
          1904,
          1942,
          1967,
          1736,
          1834,
          1844,
          1804,
          1813,
          1791,
          1831,
          1885,
          1718,
          1784,
          1701,
          1763,
          1716,
          1704,
          1775,
          1751,
          1974,
          1684,
          1777,
          1689,
          1505,
          1850,
          1194,
          1176,
          1469,
          1344,
          1229,
          1087,
          1404,
          1454,
          1532,
          1555,
          1548,
          1707,
          1763,
          2014,
          2085,
          2058,
          1969,
          1863,
          1944,
          1731,
          1888,
          1922,
          1912,
          1931,
          1973,
          1982,
          2074,
          1991,
          1961,
          1917,
          1654,
          1673,
          1859,
          1643,
          1792,
          1741,
          1778,
          1978,
          1582,
          1526,
          1553,
          1621,
          1607,
          1624,
          1738,
          1718,
          1663,
          1802,
          1799,
          1703,
          1784,
          1706,
          1796,
          1763,
          1831,
          1829,
          1710,
          1562,
          1743,
          1854,
          1685,
          1924,
          1756,
          2002,
          1839,
          2096,
          2036,
          2206,
          1884,
          1877,
          1868,
          1834,
          1746,
          1755,
          1900,
          1847,
          2042,
          1667,
          1725,
          1900,
          1592,
          1737,
          1450,
          1843,
          1528,
          1620,
          1644,
          1147,
          530,
          758,
          764,
          830,
          996,
          1187,
          1358,
          1496,
          1560,
          1670,
          1665,
          1623,
          1514,
          1387,
          241,
          15,
          19,
          30,
          6,
          11,
          9,
          12,
          301,
          315,
          481,
          495,
          695,
          832,
          1002,
          1204,
          1315,
          1317,
          1326,
          1283,
          1239,
          1147,
          1248,
          1368,
          1298,
          1226,
          1224,
          1160,
          1187,
          1082,
          1251,
          1198,
          1072,
          643,
          343,
          501,
          468,
          572,
          630,
          972,
          968,
          924,
          939,
          883,
          856,
          893,
          904,
          851,
          974,
          1042,
          1045,
          993,
          906,
          815,
          929,
          746,
          624,
          679,
          685,
          926,
          916,
          1056,
          1091,
          1194,
          1207,
          1244,
          1318,
          1364,
          1604,
          1511,
          1576,
          1424,
          1422,
          1555,
          1439,
          1517,
          1482,
          1436,
          1503,
          1314,
          1472,
          1421,
          1566,
          1362,
          1366,
          1390,
          1319,
          1335,
          1217,
          1277,
          1358,
          1462,
          1300,
          1033
         ]
        }
       ],
       "layout": {
        "template": {
         "data": {
          "bar": [
           {
            "error_x": {
             "color": "#2a3f5f"
            },
            "error_y": {
             "color": "#2a3f5f"
            },
            "marker": {
             "line": {
              "color": "#E5ECF6",
              "width": 0.5
             },
             "pattern": {
              "fillmode": "overlay",
              "size": 10,
              "solidity": 0.2
             }
            },
            "type": "bar"
           }
          ],
          "barpolar": [
           {
            "marker": {
             "line": {
              "color": "#E5ECF6",
              "width": 0.5
             },
             "pattern": {
              "fillmode": "overlay",
              "size": 10,
              "solidity": 0.2
             }
            },
            "type": "barpolar"
           }
          ],
          "carpet": [
           {
            "aaxis": {
             "endlinecolor": "#2a3f5f",
             "gridcolor": "white",
             "linecolor": "white",
             "minorgridcolor": "white",
             "startlinecolor": "#2a3f5f"
            },
            "baxis": {
             "endlinecolor": "#2a3f5f",
             "gridcolor": "white",
             "linecolor": "white",
             "minorgridcolor": "white",
             "startlinecolor": "#2a3f5f"
            },
            "type": "carpet"
           }
          ],
          "choropleth": [
           {
            "colorbar": {
             "outlinewidth": 0,
             "ticks": ""
            },
            "type": "choropleth"
           }
          ],
          "contour": [
           {
            "colorbar": {
             "outlinewidth": 0,
             "ticks": ""
            },
            "colorscale": [
             [
              0,
              "#0d0887"
             ],
             [
              0.1111111111111111,
              "#46039f"
             ],
             [
              0.2222222222222222,
              "#7201a8"
             ],
             [
              0.3333333333333333,
              "#9c179e"
             ],
             [
              0.4444444444444444,
              "#bd3786"
             ],
             [
              0.5555555555555556,
              "#d8576b"
             ],
             [
              0.6666666666666666,
              "#ed7953"
             ],
             [
              0.7777777777777778,
              "#fb9f3a"
             ],
             [
              0.8888888888888888,
              "#fdca26"
             ],
             [
              1,
              "#f0f921"
             ]
            ],
            "type": "contour"
           }
          ],
          "contourcarpet": [
           {
            "colorbar": {
             "outlinewidth": 0,
             "ticks": ""
            },
            "type": "contourcarpet"
           }
          ],
          "heatmap": [
           {
            "colorbar": {
             "outlinewidth": 0,
             "ticks": ""
            },
            "colorscale": [
             [
              0,
              "#0d0887"
             ],
             [
              0.1111111111111111,
              "#46039f"
             ],
             [
              0.2222222222222222,
              "#7201a8"
             ],
             [
              0.3333333333333333,
              "#9c179e"
             ],
             [
              0.4444444444444444,
              "#bd3786"
             ],
             [
              0.5555555555555556,
              "#d8576b"
             ],
             [
              0.6666666666666666,
              "#ed7953"
             ],
             [
              0.7777777777777778,
              "#fb9f3a"
             ],
             [
              0.8888888888888888,
              "#fdca26"
             ],
             [
              1,
              "#f0f921"
             ]
            ],
            "type": "heatmap"
           }
          ],
          "heatmapgl": [
           {
            "colorbar": {
             "outlinewidth": 0,
             "ticks": ""
            },
            "colorscale": [
             [
              0,
              "#0d0887"
             ],
             [
              0.1111111111111111,
              "#46039f"
             ],
             [
              0.2222222222222222,
              "#7201a8"
             ],
             [
              0.3333333333333333,
              "#9c179e"
             ],
             [
              0.4444444444444444,
              "#bd3786"
             ],
             [
              0.5555555555555556,
              "#d8576b"
             ],
             [
              0.6666666666666666,
              "#ed7953"
             ],
             [
              0.7777777777777778,
              "#fb9f3a"
             ],
             [
              0.8888888888888888,
              "#fdca26"
             ],
             [
              1,
              "#f0f921"
             ]
            ],
            "type": "heatmapgl"
           }
          ],
          "histogram": [
           {
            "marker": {
             "pattern": {
              "fillmode": "overlay",
              "size": 10,
              "solidity": 0.2
             }
            },
            "type": "histogram"
           }
          ],
          "histogram2d": [
           {
            "colorbar": {
             "outlinewidth": 0,
             "ticks": ""
            },
            "colorscale": [
             [
              0,
              "#0d0887"
             ],
             [
              0.1111111111111111,
              "#46039f"
             ],
             [
              0.2222222222222222,
              "#7201a8"
             ],
             [
              0.3333333333333333,
              "#9c179e"
             ],
             [
              0.4444444444444444,
              "#bd3786"
             ],
             [
              0.5555555555555556,
              "#d8576b"
             ],
             [
              0.6666666666666666,
              "#ed7953"
             ],
             [
              0.7777777777777778,
              "#fb9f3a"
             ],
             [
              0.8888888888888888,
              "#fdca26"
             ],
             [
              1,
              "#f0f921"
             ]
            ],
            "type": "histogram2d"
           }
          ],
          "histogram2dcontour": [
           {
            "colorbar": {
             "outlinewidth": 0,
             "ticks": ""
            },
            "colorscale": [
             [
              0,
              "#0d0887"
             ],
             [
              0.1111111111111111,
              "#46039f"
             ],
             [
              0.2222222222222222,
              "#7201a8"
             ],
             [
              0.3333333333333333,
              "#9c179e"
             ],
             [
              0.4444444444444444,
              "#bd3786"
             ],
             [
              0.5555555555555556,
              "#d8576b"
             ],
             [
              0.6666666666666666,
              "#ed7953"
             ],
             [
              0.7777777777777778,
              "#fb9f3a"
             ],
             [
              0.8888888888888888,
              "#fdca26"
             ],
             [
              1,
              "#f0f921"
             ]
            ],
            "type": "histogram2dcontour"
           }
          ],
          "mesh3d": [
           {
            "colorbar": {
             "outlinewidth": 0,
             "ticks": ""
            },
            "type": "mesh3d"
           }
          ],
          "parcoords": [
           {
            "line": {
             "colorbar": {
              "outlinewidth": 0,
              "ticks": ""
             }
            },
            "type": "parcoords"
           }
          ],
          "pie": [
           {
            "automargin": true,
            "type": "pie"
           }
          ],
          "scatter": [
           {
            "fillpattern": {
             "fillmode": "overlay",
             "size": 10,
             "solidity": 0.2
            },
            "type": "scatter"
           }
          ],
          "scatter3d": [
           {
            "line": {
             "colorbar": {
              "outlinewidth": 0,
              "ticks": ""
             }
            },
            "marker": {
             "colorbar": {
              "outlinewidth": 0,
              "ticks": ""
             }
            },
            "type": "scatter3d"
           }
          ],
          "scattercarpet": [
           {
            "marker": {
             "colorbar": {
              "outlinewidth": 0,
              "ticks": ""
             }
            },
            "type": "scattercarpet"
           }
          ],
          "scattergeo": [
           {
            "marker": {
             "colorbar": {
              "outlinewidth": 0,
              "ticks": ""
             }
            },
            "type": "scattergeo"
           }
          ],
          "scattergl": [
           {
            "marker": {
             "colorbar": {
              "outlinewidth": 0,
              "ticks": ""
             }
            },
            "type": "scattergl"
           }
          ],
          "scattermapbox": [
           {
            "marker": {
             "colorbar": {
              "outlinewidth": 0,
              "ticks": ""
             }
            },
            "type": "scattermapbox"
           }
          ],
          "scatterpolar": [
           {
            "marker": {
             "colorbar": {
              "outlinewidth": 0,
              "ticks": ""
             }
            },
            "type": "scatterpolar"
           }
          ],
          "scatterpolargl": [
           {
            "marker": {
             "colorbar": {
              "outlinewidth": 0,
              "ticks": ""
             }
            },
            "type": "scatterpolargl"
           }
          ],
          "scatterternary": [
           {
            "marker": {
             "colorbar": {
              "outlinewidth": 0,
              "ticks": ""
             }
            },
            "type": "scatterternary"
           }
          ],
          "surface": [
           {
            "colorbar": {
             "outlinewidth": 0,
             "ticks": ""
            },
            "colorscale": [
             [
              0,
              "#0d0887"
             ],
             [
              0.1111111111111111,
              "#46039f"
             ],
             [
              0.2222222222222222,
              "#7201a8"
             ],
             [
              0.3333333333333333,
              "#9c179e"
             ],
             [
              0.4444444444444444,
              "#bd3786"
             ],
             [
              0.5555555555555556,
              "#d8576b"
             ],
             [
              0.6666666666666666,
              "#ed7953"
             ],
             [
              0.7777777777777778,
              "#fb9f3a"
             ],
             [
              0.8888888888888888,
              "#fdca26"
             ],
             [
              1,
              "#f0f921"
             ]
            ],
            "type": "surface"
           }
          ],
          "table": [
           {
            "cells": {
             "fill": {
              "color": "#EBF0F8"
             },
             "line": {
              "color": "white"
             }
            },
            "header": {
             "fill": {
              "color": "#C8D4E3"
             },
             "line": {
              "color": "white"
             }
            },
            "type": "table"
           }
          ]
         },
         "layout": {
          "annotationdefaults": {
           "arrowcolor": "#2a3f5f",
           "arrowhead": 0,
           "arrowwidth": 1
          },
          "autotypenumbers": "strict",
          "coloraxis": {
           "colorbar": {
            "outlinewidth": 0,
            "ticks": ""
           }
          },
          "colorscale": {
           "diverging": [
            [
             0,
             "#8e0152"
            ],
            [
             0.1,
             "#c51b7d"
            ],
            [
             0.2,
             "#de77ae"
            ],
            [
             0.3,
             "#f1b6da"
            ],
            [
             0.4,
             "#fde0ef"
            ],
            [
             0.5,
             "#f7f7f7"
            ],
            [
             0.6,
             "#e6f5d0"
            ],
            [
             0.7,
             "#b8e186"
            ],
            [
             0.8,
             "#7fbc41"
            ],
            [
             0.9,
             "#4d9221"
            ],
            [
             1,
             "#276419"
            ]
           ],
           "sequential": [
            [
             0,
             "#0d0887"
            ],
            [
             0.1111111111111111,
             "#46039f"
            ],
            [
             0.2222222222222222,
             "#7201a8"
            ],
            [
             0.3333333333333333,
             "#9c179e"
            ],
            [
             0.4444444444444444,
             "#bd3786"
            ],
            [
             0.5555555555555556,
             "#d8576b"
            ],
            [
             0.6666666666666666,
             "#ed7953"
            ],
            [
             0.7777777777777778,
             "#fb9f3a"
            ],
            [
             0.8888888888888888,
             "#fdca26"
            ],
            [
             1,
             "#f0f921"
            ]
           ],
           "sequentialminus": [
            [
             0,
             "#0d0887"
            ],
            [
             0.1111111111111111,
             "#46039f"
            ],
            [
             0.2222222222222222,
             "#7201a8"
            ],
            [
             0.3333333333333333,
             "#9c179e"
            ],
            [
             0.4444444444444444,
             "#bd3786"
            ],
            [
             0.5555555555555556,
             "#d8576b"
            ],
            [
             0.6666666666666666,
             "#ed7953"
            ],
            [
             0.7777777777777778,
             "#fb9f3a"
            ],
            [
             0.8888888888888888,
             "#fdca26"
            ],
            [
             1,
             "#f0f921"
            ]
           ]
          },
          "colorway": [
           "#636efa",
           "#EF553B",
           "#00cc96",
           "#ab63fa",
           "#FFA15A",
           "#19d3f3",
           "#FF6692",
           "#B6E880",
           "#FF97FF",
           "#FECB52"
          ],
          "font": {
           "color": "#2a3f5f"
          },
          "geo": {
           "bgcolor": "white",
           "lakecolor": "white",
           "landcolor": "#E5ECF6",
           "showlakes": true,
           "showland": true,
           "subunitcolor": "white"
          },
          "hoverlabel": {
           "align": "left"
          },
          "hovermode": "closest",
          "mapbox": {
           "style": "light"
          },
          "paper_bgcolor": "white",
          "plot_bgcolor": "#E5ECF6",
          "polar": {
           "angularaxis": {
            "gridcolor": "white",
            "linecolor": "white",
            "ticks": ""
           },
           "bgcolor": "#E5ECF6",
           "radialaxis": {
            "gridcolor": "white",
            "linecolor": "white",
            "ticks": ""
           }
          },
          "scene": {
           "xaxis": {
            "backgroundcolor": "#E5ECF6",
            "gridcolor": "white",
            "gridwidth": 2,
            "linecolor": "white",
            "showbackground": true,
            "ticks": "",
            "zerolinecolor": "white"
           },
           "yaxis": {
            "backgroundcolor": "#E5ECF6",
            "gridcolor": "white",
            "gridwidth": 2,
            "linecolor": "white",
            "showbackground": true,
            "ticks": "",
            "zerolinecolor": "white"
           },
           "zaxis": {
            "backgroundcolor": "#E5ECF6",
            "gridcolor": "white",
            "gridwidth": 2,
            "linecolor": "white",
            "showbackground": true,
            "ticks": "",
            "zerolinecolor": "white"
           }
          },
          "shapedefaults": {
           "line": {
            "color": "#2a3f5f"
           }
          },
          "ternary": {
           "aaxis": {
            "gridcolor": "white",
            "linecolor": "white",
            "ticks": ""
           },
           "baxis": {
            "gridcolor": "white",
            "linecolor": "white",
            "ticks": ""
           },
           "bgcolor": "#E5ECF6",
           "caxis": {
            "gridcolor": "white",
            "linecolor": "white",
            "ticks": ""
           }
          },
          "title": {
           "x": 0.05
          },
          "xaxis": {
           "automargin": true,
           "gridcolor": "white",
           "linecolor": "white",
           "ticks": "",
           "title": {
            "standoff": 15
           },
           "zerolinecolor": "white",
           "zerolinewidth": 2
          },
          "yaxis": {
           "automargin": true,
           "gridcolor": "white",
           "linecolor": "white",
           "ticks": "",
           "title": {
            "standoff": 15
           },
           "zerolinecolor": "white",
           "zerolinewidth": 2
          }
         }
        }
       }
      }
     },
     "metadata": {},
     "output_type": "display_data"
    }
   ],
   "source": [
    "import plotly.express as px\n",
    "import plotly.graph_objects as go\n",
    "\n",
    "fig = go.Figure(data=[go.Histogram(nbinsx=20,x=df_week_total.nb_objets)])\n",
    "\n",
    "# Affichage de l'histogramme\n",
    "fig.show()"
   ]
  },
  {
   "cell_type": "code",
   "execution_count": 17,
   "metadata": {},
   "outputs": [],
   "source": [
    "df_objects = pd.read_sql(\"SELECT * from Record\", con)\n",
    "df_objet = df_objects\n",
    "df_objet['date'] = pd.to_datetime(df_objet['date'])\n",
    "df_objet.set_index('date', inplace=True)\n",
    "df_year_by_type = df_objet.groupby([pd.Grouper(freq = 'y'), \"type\"]).agg(nb_objets = ('type' , 'count')).reset_index()\n",
    "df_year_by_type.set_index('date', inplace=True)\n",
    "df_year_by_type\n",
    "df_year_by_type.to_csv(\"../CSV/df_year_by_type.csv\")\n"
   ]
  },
  {
   "cell_type": "code",
   "execution_count": 18,
   "metadata": {},
   "outputs": [],
   "source": [
    "df_objects = pd.read_sql(\"SELECT * from Record\", con)\n",
    "df_objet = df_objects\n",
    "df_objet['date'] = pd.to_datetime(df_objet['date'])\n",
    "df_objet.set_index('date', inplace=True)\n",
    "df_day_by_type = df_objet.groupby([pd.Grouper(freq = 'd'), \"type\"]).agg(nb_objets = ('type' , 'count')).reset_index()\n",
    "df_day_by_type.set_index('date', inplace=True)\n",
    "df_day_by_type\n",
    "df_day_by_type.to_csv(\"../CSV/df_day_by_type.csv\")"
   ]
  },
  {
   "cell_type": "code",
   "execution_count": 19,
   "metadata": {},
   "outputs": [],
   "source": [
    "df_objects = pd.read_sql(\"SELECT * from Record\", con)\n",
    "df_objet = df_objects\n",
    "df_objet['date'] = pd.to_datetime(df_objet['date'])\n",
    "df_objet.set_index('date', inplace=True)\n",
    "df_month_by_type = df_objet.groupby([pd.Grouper(freq = 'm'), \"type\"]).agg(nb_objets = ('type' , 'count')).reset_index()\n",
    "df_month_by_type.set_index('date', inplace=True)\n",
    "df_month_by_type\n",
    "df_month_by_type.to_csv(\"../CSV/df_month_by_type.csv\")"
   ]
  },
  {
   "cell_type": "code",
   "execution_count": 20,
   "metadata": {},
   "outputs": [],
   "source": [
    "df_objects = pd.read_sql(\"SELECT * from Record\", con)\n",
    "df_objet = df_objects\n",
    "df_objet['date'] = pd.to_datetime(df_objet['date'])\n",
    "df_objet.set_index('date', inplace=True)\n",
    "df_quarter_by_type = df_objet.groupby([pd.Grouper(freq = 'q'), \"type\"]).agg(nb_objets = ('type' , 'count')).reset_index()\n",
    "df_quarter_by_type.set_index('date', inplace=True)\n",
    "df_quarter_by_type\n",
    "df_quarter_by_type.to_csv(\"../CSV/df_quarter_by_type.csv\")"
   ]
  },
  {
   "cell_type": "code",
   "execution_count": null,
   "metadata": {},
   "outputs": [],
   "source": [
    "df_objects = pd.read_sql(\"SELECT * from Record\", con)\n",
    "df_objet = df_objects\n",
    "df_objet['date'] = pd.to_datetime(df_objet['date'])\n",
    "df_objet.set_index('date', inplace=True)\n",
    "df_week_by_type = df_objet.groupby([pd.Grouper(freq = 'w'), \"type\"]).agg(nb_objets = ('type' , 'count')).reset_index()\n",
    "df_week_by_type.set_index('date', inplace=True)\n",
    "df_week_by_type\n",
    "df_week_by_type.to_csv(\"../CSV/df_week_by_type.csv\")"
   ]
  },
  {
   "cell_type": "code",
   "execution_count": 22,
   "metadata": {},
   "outputs": [
    {
     "data": {
      "application/vnd.plotly.v1+json": {
       "config": {
        "plotlyServerURL": "https://plot.ly"
       },
       "data": [
        {
         "hovertemplate": "<b>%{hovertext}</b><br><br>type=Appareils électroniques, informatiques, appareils photo<br>date=%{x}<br>nb_objets=%{y}<extra></extra>",
         "hovertext": [
          "Appareils électroniques, informatiques, appareils photo",
          "Appareils électroniques, informatiques, appareils photo",
          "Appareils électroniques, informatiques, appareils photo",
          "Appareils électroniques, informatiques, appareils photo",
          "Appareils électroniques, informatiques, appareils photo",
          "Appareils électroniques, informatiques, appareils photo"
         ],
         "legendgroup": "Appareils électroniques, informatiques, appareils photo",
         "line": {
          "color": "#636efa",
          "dash": "solid"
         },
         "marker": {
          "symbol": "circle"
         },
         "mode": "lines",
         "name": "Appareils électroniques, informatiques, appareils photo",
         "orientation": "v",
         "showlegend": true,
         "type": "scatter",
         "x": [
          "2016-12-31T00:00:00+00:00",
          "2017-12-31T00:00:00+00:00",
          "2018-12-31T00:00:00+00:00",
          "2019-12-31T00:00:00+00:00",
          "2020-12-31T00:00:00+00:00",
          "2021-12-31T00:00:00+00:00"
         ],
         "xaxis": "x",
         "y": [
          13592,
          14090,
          13114,
          13773,
          7346,
          9971
         ],
         "yaxis": "y"
        },
        {
         "hovertemplate": "<b>%{hovertext}</b><br><br>type=Articles d'enfants, de puériculture<br>date=%{x}<br>nb_objets=%{y}<extra></extra>",
         "hovertext": [
          "Articles d'enfants, de puériculture",
          "Articles d'enfants, de puériculture",
          "Articles d'enfants, de puériculture",
          "Articles d'enfants, de puériculture",
          "Articles d'enfants, de puériculture",
          "Articles d'enfants, de puériculture"
         ],
         "legendgroup": "Articles d'enfants, de puériculture",
         "line": {
          "color": "#EF553B",
          "dash": "solid"
         },
         "marker": {
          "symbol": "circle"
         },
         "mode": "lines",
         "name": "Articles d'enfants, de puériculture",
         "orientation": "v",
         "showlegend": true,
         "type": "scatter",
         "x": [
          "2016-12-31T00:00:00+00:00",
          "2017-12-31T00:00:00+00:00",
          "2018-12-31T00:00:00+00:00",
          "2019-12-31T00:00:00+00:00",
          "2020-12-31T00:00:00+00:00",
          "2021-12-31T00:00:00+00:00"
         ],
         "xaxis": "x",
         "y": [
          1227,
          1112,
          936,
          838,
          454,
          647
         ],
         "yaxis": "y"
        },
        {
         "hovertemplate": "<b>%{hovertext}</b><br><br>type=Articles de sport, loisirs, camping<br>date=%{x}<br>nb_objets=%{y}<extra></extra>",
         "hovertext": [
          "Articles de sport, loisirs, camping",
          "Articles de sport, loisirs, camping",
          "Articles de sport, loisirs, camping",
          "Articles de sport, loisirs, camping",
          "Articles de sport, loisirs, camping",
          "Articles de sport, loisirs, camping"
         ],
         "legendgroup": "Articles de sport, loisirs, camping",
         "line": {
          "color": "#00cc96",
          "dash": "solid"
         },
         "marker": {
          "symbol": "circle"
         },
         "mode": "lines",
         "name": "Articles de sport, loisirs, camping",
         "orientation": "v",
         "showlegend": true,
         "type": "scatter",
         "x": [
          "2016-12-31T00:00:00+00:00",
          "2017-12-31T00:00:00+00:00",
          "2018-12-31T00:00:00+00:00",
          "2019-12-31T00:00:00+00:00",
          "2020-12-31T00:00:00+00:00",
          "2021-12-31T00:00:00+00:00"
         ],
         "xaxis": "x",
         "y": [
          1143,
          1180,
          1050,
          939,
          679,
          808
         ],
         "yaxis": "y"
        },
        {
         "hovertemplate": "<b>%{hovertext}</b><br><br>type=Articles médicaux<br>date=%{x}<br>nb_objets=%{y}<extra></extra>",
         "hovertext": [
          "Articles médicaux",
          "Articles médicaux",
          "Articles médicaux",
          "Articles médicaux",
          "Articles médicaux",
          "Articles médicaux"
         ],
         "legendgroup": "Articles médicaux",
         "line": {
          "color": "#ab63fa",
          "dash": "solid"
         },
         "marker": {
          "symbol": "circle"
         },
         "mode": "lines",
         "name": "Articles médicaux",
         "orientation": "v",
         "showlegend": true,
         "type": "scatter",
         "x": [
          "2016-12-31T00:00:00+00:00",
          "2017-12-31T00:00:00+00:00",
          "2018-12-31T00:00:00+00:00",
          "2019-12-31T00:00:00+00:00",
          "2020-12-31T00:00:00+00:00",
          "2021-12-31T00:00:00+00:00"
         ],
         "xaxis": "x",
         "y": [
          621,
          616,
          437,
          380,
          227,
          310
         ],
         "yaxis": "y"
        },
        {
         "hovertemplate": "<b>%{hovertext}</b><br><br>type=Bagagerie: sacs, valises, cartables<br>date=%{x}<br>nb_objets=%{y}<extra></extra>",
         "hovertext": [
          "Bagagerie: sacs, valises, cartables",
          "Bagagerie: sacs, valises, cartables",
          "Bagagerie: sacs, valises, cartables",
          "Bagagerie: sacs, valises, cartables",
          "Bagagerie: sacs, valises, cartables",
          "Bagagerie: sacs, valises, cartables"
         ],
         "legendgroup": "Bagagerie: sacs, valises, cartables",
         "line": {
          "color": "#FFA15A",
          "dash": "solid"
         },
         "marker": {
          "symbol": "circle"
         },
         "mode": "lines",
         "name": "Bagagerie: sacs, valises, cartables",
         "orientation": "v",
         "showlegend": true,
         "type": "scatter",
         "x": [
          "2016-12-31T00:00:00+00:00",
          "2017-12-31T00:00:00+00:00",
          "2018-12-31T00:00:00+00:00",
          "2019-12-31T00:00:00+00:00",
          "2020-12-31T00:00:00+00:00",
          "2021-12-31T00:00:00+00:00"
         ],
         "xaxis": "x",
         "y": [
          27185,
          29152,
          28480,
          29026,
          15757,
          21607
         ],
         "yaxis": "y"
        },
        {
         "hovertemplate": "<b>%{hovertext}</b><br><br>type=Bijoux, montres<br>date=%{x}<br>nb_objets=%{y}<extra></extra>",
         "hovertext": [
          "Bijoux, montres",
          "Bijoux, montres",
          "Bijoux, montres",
          "Bijoux, montres",
          "Bijoux, montres",
          "Bijoux, montres"
         ],
         "legendgroup": "Bijoux, montres",
         "line": {
          "color": "#19d3f3",
          "dash": "solid"
         },
         "marker": {
          "symbol": "circle"
         },
         "mode": "lines",
         "name": "Bijoux, montres",
         "orientation": "v",
         "showlegend": true,
         "type": "scatter",
         "x": [
          "2016-12-31T00:00:00+00:00",
          "2017-12-31T00:00:00+00:00",
          "2018-12-31T00:00:00+00:00",
          "2019-12-31T00:00:00+00:00",
          "2020-12-31T00:00:00+00:00",
          "2021-12-31T00:00:00+00:00"
         ],
         "xaxis": "x",
         "y": [
          961,
          923,
          865,
          787,
          427,
          546
         ],
         "yaxis": "y"
        },
        {
         "hovertemplate": "<b>%{hovertext}</b><br><br>type=Clés, porte-clés, badge magnétique<br>date=%{x}<br>nb_objets=%{y}<extra></extra>",
         "hovertext": [
          "Clés, porte-clés, badge magnétique",
          "Clés, porte-clés, badge magnétique",
          "Clés, porte-clés, badge magnétique",
          "Clés, porte-clés, badge magnétique",
          "Clés, porte-clés, badge magnétique",
          "Clés, porte-clés, badge magnétique"
         ],
         "legendgroup": "Clés, porte-clés, badge magnétique",
         "line": {
          "color": "#FF6692",
          "dash": "solid"
         },
         "marker": {
          "symbol": "circle"
         },
         "mode": "lines",
         "name": "Clés, porte-clés, badge magnétique",
         "orientation": "v",
         "showlegend": true,
         "type": "scatter",
         "x": [
          "2016-12-31T00:00:00+00:00",
          "2017-12-31T00:00:00+00:00",
          "2018-12-31T00:00:00+00:00",
          "2019-12-31T00:00:00+00:00",
          "2020-12-31T00:00:00+00:00",
          "2021-12-31T00:00:00+00:00"
         ],
         "xaxis": "x",
         "y": [
          5031,
          4508,
          3931,
          3793,
          2000,
          2288
         ],
         "yaxis": "y"
        },
        {
         "hovertemplate": "<b>%{hovertext}</b><br><br>type=Divers<br>date=%{x}<br>nb_objets=%{y}<extra></extra>",
         "hovertext": [
          "Divers",
          "Divers",
          "Divers",
          "Divers",
          "Divers",
          "Divers"
         ],
         "legendgroup": "Divers",
         "line": {
          "color": "#B6E880",
          "dash": "solid"
         },
         "marker": {
          "symbol": "circle"
         },
         "mode": "lines",
         "name": "Divers",
         "orientation": "v",
         "showlegend": true,
         "type": "scatter",
         "x": [
          "2016-12-31T00:00:00+00:00",
          "2017-12-31T00:00:00+00:00",
          "2018-12-31T00:00:00+00:00",
          "2019-12-31T00:00:00+00:00",
          "2020-12-31T00:00:00+00:00",
          "2021-12-31T00:00:00+00:00"
         ],
         "xaxis": "x",
         "y": [
          1839,
          1674,
          1706,
          1971,
          1056,
          1430
         ],
         "yaxis": "y"
        },
        {
         "hovertemplate": "<b>%{hovertext}</b><br><br>type=Instruments de musique<br>date=%{x}<br>nb_objets=%{y}<extra></extra>",
         "hovertext": [
          "Instruments de musique",
          "Instruments de musique",
          "Instruments de musique",
          "Instruments de musique",
          "Instruments de musique",
          "Instruments de musique"
         ],
         "legendgroup": "Instruments de musique",
         "line": {
          "color": "#FF97FF",
          "dash": "solid"
         },
         "marker": {
          "symbol": "circle"
         },
         "mode": "lines",
         "name": "Instruments de musique",
         "orientation": "v",
         "showlegend": true,
         "type": "scatter",
         "x": [
          "2016-12-31T00:00:00+00:00",
          "2017-12-31T00:00:00+00:00",
          "2018-12-31T00:00:00+00:00",
          "2019-12-31T00:00:00+00:00",
          "2020-12-31T00:00:00+00:00",
          "2021-12-31T00:00:00+00:00"
         ],
         "xaxis": "x",
         "y": [
          228,
          252,
          211,
          241,
          165,
          195
         ],
         "yaxis": "y"
        },
        {
         "hovertemplate": "<b>%{hovertext}</b><br><br>type=Livres, articles de papéterie<br>date=%{x}<br>nb_objets=%{y}<extra></extra>",
         "hovertext": [
          "Livres, articles de papéterie",
          "Livres, articles de papéterie",
          "Livres, articles de papéterie",
          "Livres, articles de papéterie",
          "Livres, articles de papéterie",
          "Livres, articles de papéterie"
         ],
         "legendgroup": "Livres, articles de papéterie",
         "line": {
          "color": "#FECB52",
          "dash": "solid"
         },
         "marker": {
          "symbol": "circle"
         },
         "mode": "lines",
         "name": "Livres, articles de papéterie",
         "orientation": "v",
         "showlegend": true,
         "type": "scatter",
         "x": [
          "2016-12-31T00:00:00+00:00",
          "2017-12-31T00:00:00+00:00",
          "2018-12-31T00:00:00+00:00",
          "2019-12-31T00:00:00+00:00",
          "2020-12-31T00:00:00+00:00",
          "2021-12-31T00:00:00+00:00"
         ],
         "xaxis": "x",
         "y": [
          2590,
          2534,
          1966,
          1837,
          827,
          993
         ],
         "yaxis": "y"
        },
        {
         "hovertemplate": "<b>%{hovertext}</b><br><br>type=Optique<br>date=%{x}<br>nb_objets=%{y}<extra></extra>",
         "hovertext": [
          "Optique",
          "Optique",
          "Optique",
          "Optique",
          "Optique",
          "Optique"
         ],
         "legendgroup": "Optique",
         "line": {
          "color": "#636efa",
          "dash": "solid"
         },
         "marker": {
          "symbol": "circle"
         },
         "mode": "lines",
         "name": "Optique",
         "orientation": "v",
         "showlegend": true,
         "type": "scatter",
         "x": [
          "2016-12-31T00:00:00+00:00",
          "2017-12-31T00:00:00+00:00",
          "2018-12-31T00:00:00+00:00",
          "2019-12-31T00:00:00+00:00",
          "2020-12-31T00:00:00+00:00",
          "2021-12-31T00:00:00+00:00"
         ],
         "xaxis": "x",
         "y": [
          5837,
          5727,
          4723,
          4791,
          2347,
          2985
         ],
         "yaxis": "y"
        },
        {
         "hovertemplate": "<b>%{hovertext}</b><br><br>type=Parapluies<br>date=%{x}<br>nb_objets=%{y}<extra></extra>",
         "hovertext": [
          "Parapluies",
          "Parapluies",
          "Parapluies",
          "Parapluies",
          "Parapluies",
          "Parapluies"
         ],
         "legendgroup": "Parapluies",
         "line": {
          "color": "#EF553B",
          "dash": "solid"
         },
         "marker": {
          "symbol": "circle"
         },
         "mode": "lines",
         "name": "Parapluies",
         "orientation": "v",
         "showlegend": true,
         "type": "scatter",
         "x": [
          "2016-12-31T00:00:00+00:00",
          "2017-12-31T00:00:00+00:00",
          "2018-12-31T00:00:00+00:00",
          "2019-12-31T00:00:00+00:00",
          "2020-12-31T00:00:00+00:00",
          "2021-12-31T00:00:00+00:00"
         ],
         "xaxis": "x",
         "y": [
          1258,
          1125,
          896,
          750,
          434,
          490
         ],
         "yaxis": "y"
        },
        {
         "hovertemplate": "<b>%{hovertext}</b><br><br>type=Pièces d'identités et papiers personnels<br>date=%{x}<br>nb_objets=%{y}<extra></extra>",
         "hovertext": [
          "Pièces d'identités et papiers personnels",
          "Pièces d'identités et papiers personnels",
          "Pièces d'identités et papiers personnels",
          "Pièces d'identités et papiers personnels",
          "Pièces d'identités et papiers personnels",
          "Pièces d'identités et papiers personnels"
         ],
         "legendgroup": "Pièces d'identités et papiers personnels",
         "line": {
          "color": "#00cc96",
          "dash": "solid"
         },
         "marker": {
          "symbol": "circle"
         },
         "mode": "lines",
         "name": "Pièces d'identités et papiers personnels",
         "orientation": "v",
         "showlegend": true,
         "type": "scatter",
         "x": [
          "2016-12-31T00:00:00+00:00",
          "2017-12-31T00:00:00+00:00",
          "2018-12-31T00:00:00+00:00",
          "2019-12-31T00:00:00+00:00",
          "2020-12-31T00:00:00+00:00",
          "2021-12-31T00:00:00+00:00"
         ],
         "xaxis": "x",
         "y": [
          8733,
          8478,
          7269,
          5987,
          3480,
          3862
         ],
         "yaxis": "y"
        },
        {
         "hovertemplate": "<b>%{hovertext}</b><br><br>type=Porte-monnaie / portefeuille, argent, titres<br>date=%{x}<br>nb_objets=%{y}<extra></extra>",
         "hovertext": [
          "Porte-monnaie / portefeuille, argent, titres",
          "Porte-monnaie / portefeuille, argent, titres",
          "Porte-monnaie / portefeuille, argent, titres",
          "Porte-monnaie / portefeuille, argent, titres",
          "Porte-monnaie / portefeuille, argent, titres",
          "Porte-monnaie / portefeuille, argent, titres"
         ],
         "legendgroup": "Porte-monnaie / portefeuille, argent, titres",
         "line": {
          "color": "#ab63fa",
          "dash": "solid"
         },
         "marker": {
          "symbol": "circle"
         },
         "mode": "lines",
         "name": "Porte-monnaie / portefeuille, argent, titres",
         "orientation": "v",
         "showlegend": true,
         "type": "scatter",
         "x": [
          "2016-12-31T00:00:00+00:00",
          "2017-12-31T00:00:00+00:00",
          "2018-12-31T00:00:00+00:00",
          "2019-12-31T00:00:00+00:00",
          "2020-12-31T00:00:00+00:00",
          "2021-12-31T00:00:00+00:00"
         ],
         "xaxis": "x",
         "y": [
          11449,
          11810,
          10979,
          10253,
          6032,
          7622
         ],
         "yaxis": "y"
        },
        {
         "hovertemplate": "<b>%{hovertext}</b><br><br>type=Vélos, trottinettes, accessoires 2 roues<br>date=%{x}<br>nb_objets=%{y}<extra></extra>",
         "hovertext": [
          "Vélos, trottinettes, accessoires 2 roues",
          "Vélos, trottinettes, accessoires 2 roues",
          "Vélos, trottinettes, accessoires 2 roues",
          "Vélos, trottinettes, accessoires 2 roues",
          "Vélos, trottinettes, accessoires 2 roues",
          "Vélos, trottinettes, accessoires 2 roues"
         ],
         "legendgroup": "Vélos, trottinettes, accessoires 2 roues",
         "line": {
          "color": "#FFA15A",
          "dash": "solid"
         },
         "marker": {
          "symbol": "circle"
         },
         "mode": "lines",
         "name": "Vélos, trottinettes, accessoires 2 roues",
         "orientation": "v",
         "showlegend": true,
         "type": "scatter",
         "x": [
          "2016-12-31T00:00:00+00:00",
          "2017-12-31T00:00:00+00:00",
          "2018-12-31T00:00:00+00:00",
          "2019-12-31T00:00:00+00:00",
          "2020-12-31T00:00:00+00:00",
          "2021-12-31T00:00:00+00:00"
         ],
         "xaxis": "x",
         "y": [
          1028,
          1296,
          1353,
          1444,
          1035,
          1458
         ],
         "yaxis": "y"
        },
        {
         "hovertemplate": "<b>%{hovertext}</b><br><br>type=Vêtements, chaussures<br>date=%{x}<br>nb_objets=%{y}<extra></extra>",
         "hovertext": [
          "Vêtements, chaussures",
          "Vêtements, chaussures",
          "Vêtements, chaussures",
          "Vêtements, chaussures",
          "Vêtements, chaussures",
          "Vêtements, chaussures"
         ],
         "legendgroup": "Vêtements, chaussures",
         "line": {
          "color": "#19d3f3",
          "dash": "solid"
         },
         "marker": {
          "symbol": "circle"
         },
         "mode": "lines",
         "name": "Vêtements, chaussures",
         "orientation": "v",
         "showlegend": true,
         "type": "scatter",
         "x": [
          "2016-12-31T00:00:00+00:00",
          "2017-12-31T00:00:00+00:00",
          "2018-12-31T00:00:00+00:00",
          "2019-12-31T00:00:00+00:00",
          "2020-12-31T00:00:00+00:00",
          "2021-12-31T00:00:00+00:00"
         ],
         "xaxis": "x",
         "y": [
          12823,
          13439,
          12350,
          11449,
          5081,
          6757
         ],
         "yaxis": "y"
        }
       ],
       "layout": {
        "legend": {
         "title": {
          "text": "type"
         },
         "tracegroupgap": 0
        },
        "margin": {
         "t": 60
        },
        "template": {
         "data": {
          "bar": [
           {
            "error_x": {
             "color": "#2a3f5f"
            },
            "error_y": {
             "color": "#2a3f5f"
            },
            "marker": {
             "line": {
              "color": "#E5ECF6",
              "width": 0.5
             },
             "pattern": {
              "fillmode": "overlay",
              "size": 10,
              "solidity": 0.2
             }
            },
            "type": "bar"
           }
          ],
          "barpolar": [
           {
            "marker": {
             "line": {
              "color": "#E5ECF6",
              "width": 0.5
             },
             "pattern": {
              "fillmode": "overlay",
              "size": 10,
              "solidity": 0.2
             }
            },
            "type": "barpolar"
           }
          ],
          "carpet": [
           {
            "aaxis": {
             "endlinecolor": "#2a3f5f",
             "gridcolor": "white",
             "linecolor": "white",
             "minorgridcolor": "white",
             "startlinecolor": "#2a3f5f"
            },
            "baxis": {
             "endlinecolor": "#2a3f5f",
             "gridcolor": "white",
             "linecolor": "white",
             "minorgridcolor": "white",
             "startlinecolor": "#2a3f5f"
            },
            "type": "carpet"
           }
          ],
          "choropleth": [
           {
            "colorbar": {
             "outlinewidth": 0,
             "ticks": ""
            },
            "type": "choropleth"
           }
          ],
          "contour": [
           {
            "colorbar": {
             "outlinewidth": 0,
             "ticks": ""
            },
            "colorscale": [
             [
              0,
              "#0d0887"
             ],
             [
              0.1111111111111111,
              "#46039f"
             ],
             [
              0.2222222222222222,
              "#7201a8"
             ],
             [
              0.3333333333333333,
              "#9c179e"
             ],
             [
              0.4444444444444444,
              "#bd3786"
             ],
             [
              0.5555555555555556,
              "#d8576b"
             ],
             [
              0.6666666666666666,
              "#ed7953"
             ],
             [
              0.7777777777777778,
              "#fb9f3a"
             ],
             [
              0.8888888888888888,
              "#fdca26"
             ],
             [
              1,
              "#f0f921"
             ]
            ],
            "type": "contour"
           }
          ],
          "contourcarpet": [
           {
            "colorbar": {
             "outlinewidth": 0,
             "ticks": ""
            },
            "type": "contourcarpet"
           }
          ],
          "heatmap": [
           {
            "colorbar": {
             "outlinewidth": 0,
             "ticks": ""
            },
            "colorscale": [
             [
              0,
              "#0d0887"
             ],
             [
              0.1111111111111111,
              "#46039f"
             ],
             [
              0.2222222222222222,
              "#7201a8"
             ],
             [
              0.3333333333333333,
              "#9c179e"
             ],
             [
              0.4444444444444444,
              "#bd3786"
             ],
             [
              0.5555555555555556,
              "#d8576b"
             ],
             [
              0.6666666666666666,
              "#ed7953"
             ],
             [
              0.7777777777777778,
              "#fb9f3a"
             ],
             [
              0.8888888888888888,
              "#fdca26"
             ],
             [
              1,
              "#f0f921"
             ]
            ],
            "type": "heatmap"
           }
          ],
          "heatmapgl": [
           {
            "colorbar": {
             "outlinewidth": 0,
             "ticks": ""
            },
            "colorscale": [
             [
              0,
              "#0d0887"
             ],
             [
              0.1111111111111111,
              "#46039f"
             ],
             [
              0.2222222222222222,
              "#7201a8"
             ],
             [
              0.3333333333333333,
              "#9c179e"
             ],
             [
              0.4444444444444444,
              "#bd3786"
             ],
             [
              0.5555555555555556,
              "#d8576b"
             ],
             [
              0.6666666666666666,
              "#ed7953"
             ],
             [
              0.7777777777777778,
              "#fb9f3a"
             ],
             [
              0.8888888888888888,
              "#fdca26"
             ],
             [
              1,
              "#f0f921"
             ]
            ],
            "type": "heatmapgl"
           }
          ],
          "histogram": [
           {
            "marker": {
             "pattern": {
              "fillmode": "overlay",
              "size": 10,
              "solidity": 0.2
             }
            },
            "type": "histogram"
           }
          ],
          "histogram2d": [
           {
            "colorbar": {
             "outlinewidth": 0,
             "ticks": ""
            },
            "colorscale": [
             [
              0,
              "#0d0887"
             ],
             [
              0.1111111111111111,
              "#46039f"
             ],
             [
              0.2222222222222222,
              "#7201a8"
             ],
             [
              0.3333333333333333,
              "#9c179e"
             ],
             [
              0.4444444444444444,
              "#bd3786"
             ],
             [
              0.5555555555555556,
              "#d8576b"
             ],
             [
              0.6666666666666666,
              "#ed7953"
             ],
             [
              0.7777777777777778,
              "#fb9f3a"
             ],
             [
              0.8888888888888888,
              "#fdca26"
             ],
             [
              1,
              "#f0f921"
             ]
            ],
            "type": "histogram2d"
           }
          ],
          "histogram2dcontour": [
           {
            "colorbar": {
             "outlinewidth": 0,
             "ticks": ""
            },
            "colorscale": [
             [
              0,
              "#0d0887"
             ],
             [
              0.1111111111111111,
              "#46039f"
             ],
             [
              0.2222222222222222,
              "#7201a8"
             ],
             [
              0.3333333333333333,
              "#9c179e"
             ],
             [
              0.4444444444444444,
              "#bd3786"
             ],
             [
              0.5555555555555556,
              "#d8576b"
             ],
             [
              0.6666666666666666,
              "#ed7953"
             ],
             [
              0.7777777777777778,
              "#fb9f3a"
             ],
             [
              0.8888888888888888,
              "#fdca26"
             ],
             [
              1,
              "#f0f921"
             ]
            ],
            "type": "histogram2dcontour"
           }
          ],
          "mesh3d": [
           {
            "colorbar": {
             "outlinewidth": 0,
             "ticks": ""
            },
            "type": "mesh3d"
           }
          ],
          "parcoords": [
           {
            "line": {
             "colorbar": {
              "outlinewidth": 0,
              "ticks": ""
             }
            },
            "type": "parcoords"
           }
          ],
          "pie": [
           {
            "automargin": true,
            "type": "pie"
           }
          ],
          "scatter": [
           {
            "fillpattern": {
             "fillmode": "overlay",
             "size": 10,
             "solidity": 0.2
            },
            "type": "scatter"
           }
          ],
          "scatter3d": [
           {
            "line": {
             "colorbar": {
              "outlinewidth": 0,
              "ticks": ""
             }
            },
            "marker": {
             "colorbar": {
              "outlinewidth": 0,
              "ticks": ""
             }
            },
            "type": "scatter3d"
           }
          ],
          "scattercarpet": [
           {
            "marker": {
             "colorbar": {
              "outlinewidth": 0,
              "ticks": ""
             }
            },
            "type": "scattercarpet"
           }
          ],
          "scattergeo": [
           {
            "marker": {
             "colorbar": {
              "outlinewidth": 0,
              "ticks": ""
             }
            },
            "type": "scattergeo"
           }
          ],
          "scattergl": [
           {
            "marker": {
             "colorbar": {
              "outlinewidth": 0,
              "ticks": ""
             }
            },
            "type": "scattergl"
           }
          ],
          "scattermapbox": [
           {
            "marker": {
             "colorbar": {
              "outlinewidth": 0,
              "ticks": ""
             }
            },
            "type": "scattermapbox"
           }
          ],
          "scatterpolar": [
           {
            "marker": {
             "colorbar": {
              "outlinewidth": 0,
              "ticks": ""
             }
            },
            "type": "scatterpolar"
           }
          ],
          "scatterpolargl": [
           {
            "marker": {
             "colorbar": {
              "outlinewidth": 0,
              "ticks": ""
             }
            },
            "type": "scatterpolargl"
           }
          ],
          "scatterternary": [
           {
            "marker": {
             "colorbar": {
              "outlinewidth": 0,
              "ticks": ""
             }
            },
            "type": "scatterternary"
           }
          ],
          "surface": [
           {
            "colorbar": {
             "outlinewidth": 0,
             "ticks": ""
            },
            "colorscale": [
             [
              0,
              "#0d0887"
             ],
             [
              0.1111111111111111,
              "#46039f"
             ],
             [
              0.2222222222222222,
              "#7201a8"
             ],
             [
              0.3333333333333333,
              "#9c179e"
             ],
             [
              0.4444444444444444,
              "#bd3786"
             ],
             [
              0.5555555555555556,
              "#d8576b"
             ],
             [
              0.6666666666666666,
              "#ed7953"
             ],
             [
              0.7777777777777778,
              "#fb9f3a"
             ],
             [
              0.8888888888888888,
              "#fdca26"
             ],
             [
              1,
              "#f0f921"
             ]
            ],
            "type": "surface"
           }
          ],
          "table": [
           {
            "cells": {
             "fill": {
              "color": "#EBF0F8"
             },
             "line": {
              "color": "white"
             }
            },
            "header": {
             "fill": {
              "color": "#C8D4E3"
             },
             "line": {
              "color": "white"
             }
            },
            "type": "table"
           }
          ]
         },
         "layout": {
          "annotationdefaults": {
           "arrowcolor": "#2a3f5f",
           "arrowhead": 0,
           "arrowwidth": 1
          },
          "autotypenumbers": "strict",
          "coloraxis": {
           "colorbar": {
            "outlinewidth": 0,
            "ticks": ""
           }
          },
          "colorscale": {
           "diverging": [
            [
             0,
             "#8e0152"
            ],
            [
             0.1,
             "#c51b7d"
            ],
            [
             0.2,
             "#de77ae"
            ],
            [
             0.3,
             "#f1b6da"
            ],
            [
             0.4,
             "#fde0ef"
            ],
            [
             0.5,
             "#f7f7f7"
            ],
            [
             0.6,
             "#e6f5d0"
            ],
            [
             0.7,
             "#b8e186"
            ],
            [
             0.8,
             "#7fbc41"
            ],
            [
             0.9,
             "#4d9221"
            ],
            [
             1,
             "#276419"
            ]
           ],
           "sequential": [
            [
             0,
             "#0d0887"
            ],
            [
             0.1111111111111111,
             "#46039f"
            ],
            [
             0.2222222222222222,
             "#7201a8"
            ],
            [
             0.3333333333333333,
             "#9c179e"
            ],
            [
             0.4444444444444444,
             "#bd3786"
            ],
            [
             0.5555555555555556,
             "#d8576b"
            ],
            [
             0.6666666666666666,
             "#ed7953"
            ],
            [
             0.7777777777777778,
             "#fb9f3a"
            ],
            [
             0.8888888888888888,
             "#fdca26"
            ],
            [
             1,
             "#f0f921"
            ]
           ],
           "sequentialminus": [
            [
             0,
             "#0d0887"
            ],
            [
             0.1111111111111111,
             "#46039f"
            ],
            [
             0.2222222222222222,
             "#7201a8"
            ],
            [
             0.3333333333333333,
             "#9c179e"
            ],
            [
             0.4444444444444444,
             "#bd3786"
            ],
            [
             0.5555555555555556,
             "#d8576b"
            ],
            [
             0.6666666666666666,
             "#ed7953"
            ],
            [
             0.7777777777777778,
             "#fb9f3a"
            ],
            [
             0.8888888888888888,
             "#fdca26"
            ],
            [
             1,
             "#f0f921"
            ]
           ]
          },
          "colorway": [
           "#636efa",
           "#EF553B",
           "#00cc96",
           "#ab63fa",
           "#FFA15A",
           "#19d3f3",
           "#FF6692",
           "#B6E880",
           "#FF97FF",
           "#FECB52"
          ],
          "font": {
           "color": "#2a3f5f"
          },
          "geo": {
           "bgcolor": "white",
           "lakecolor": "white",
           "landcolor": "#E5ECF6",
           "showlakes": true,
           "showland": true,
           "subunitcolor": "white"
          },
          "hoverlabel": {
           "align": "left"
          },
          "hovermode": "closest",
          "mapbox": {
           "style": "light"
          },
          "paper_bgcolor": "white",
          "plot_bgcolor": "#E5ECF6",
          "polar": {
           "angularaxis": {
            "gridcolor": "white",
            "linecolor": "white",
            "ticks": ""
           },
           "bgcolor": "#E5ECF6",
           "radialaxis": {
            "gridcolor": "white",
            "linecolor": "white",
            "ticks": ""
           }
          },
          "scene": {
           "xaxis": {
            "backgroundcolor": "#E5ECF6",
            "gridcolor": "white",
            "gridwidth": 2,
            "linecolor": "white",
            "showbackground": true,
            "ticks": "",
            "zerolinecolor": "white"
           },
           "yaxis": {
            "backgroundcolor": "#E5ECF6",
            "gridcolor": "white",
            "gridwidth": 2,
            "linecolor": "white",
            "showbackground": true,
            "ticks": "",
            "zerolinecolor": "white"
           },
           "zaxis": {
            "backgroundcolor": "#E5ECF6",
            "gridcolor": "white",
            "gridwidth": 2,
            "linecolor": "white",
            "showbackground": true,
            "ticks": "",
            "zerolinecolor": "white"
           }
          },
          "shapedefaults": {
           "line": {
            "color": "#2a3f5f"
           }
          },
          "ternary": {
           "aaxis": {
            "gridcolor": "white",
            "linecolor": "white",
            "ticks": ""
           },
           "baxis": {
            "gridcolor": "white",
            "linecolor": "white",
            "ticks": ""
           },
           "bgcolor": "#E5ECF6",
           "caxis": {
            "gridcolor": "white",
            "linecolor": "white",
            "ticks": ""
           }
          },
          "title": {
           "x": 0.05
          },
          "xaxis": {
           "automargin": true,
           "gridcolor": "white",
           "linecolor": "white",
           "ticks": "",
           "title": {
            "standoff": 15
           },
           "zerolinecolor": "white",
           "zerolinewidth": 2
          },
          "yaxis": {
           "automargin": true,
           "gridcolor": "white",
           "linecolor": "white",
           "ticks": "",
           "title": {
            "standoff": 15
           },
           "zerolinecolor": "white",
           "zerolinewidth": 2
          }
         }
        },
        "xaxis": {
         "anchor": "y",
         "domain": [
          0,
          1
         ],
         "title": {
          "text": "date"
         }
        },
        "yaxis": {
         "anchor": "x",
         "domain": [
          0,
          1
         ],
         "title": {
          "text": "nb_objets"
         }
        }
       }
      }
     },
     "metadata": {},
     "output_type": "display_data"
    }
   ],
   "source": [
    "import plotly.express as px\n",
    "import plotly.graph_objects as go\n",
    "\n",
    "fig = px.line(df_year_by_type, x=df_year_by_type.index, y='nb_objets', color='type', hover_name=\"type\")\n",
    "fig.show()"
   ]
  },
  {
   "cell_type": "code",
   "execution_count": 49,
   "metadata": {},
   "outputs": [],
   "source": [
    "Merge_obects_gare =  pd.merge(left = df_objects, right = Gares,how='left', left_on =\"gare_code_uic\", right_on=\"uic_code\")\n",
    "\n"
   ]
  },
  {
   "cell_type": "code",
   "execution_count": 24,
   "metadata": {},
   "outputs": [],
   "source": [
    "objet_by_regions = Merge_obects_gare[['gare_regionsncf_libelle']]"
   ]
  },
  {
   "cell_type": "code",
   "execution_count": 25,
   "metadata": {},
   "outputs": [],
   "source": [
    "objet_by_regions = objet_by_regions.groupby(\"gare_regionsncf_libelle\")['gare_regionsncf_libelle'].count()\n"
   ]
  },
  {
   "cell_type": "code",
   "execution_count": 26,
   "metadata": {},
   "outputs": [],
   "source": [
    "objet_by_regions.to_csv(\"../CSV/objet_by_regions.csv\")"
   ]
  },
  {
   "cell_type": "code",
   "execution_count": 38,
   "metadata": {},
   "outputs": [],
   "source": [
    "objet_by_regions = pd.read_csv(\"../CSV/objet_by_region.csv\")\n"
   ]
  },
  {
   "cell_type": "code",
   "execution_count": 39,
   "metadata": {},
   "outputs": [
    {
     "data": {
      "text/html": [
       "<div>\n",
       "<style scoped>\n",
       "    .dataframe tbody tr th:only-of-type {\n",
       "        vertical-align: middle;\n",
       "    }\n",
       "\n",
       "    .dataframe tbody tr th {\n",
       "        vertical-align: top;\n",
       "    }\n",
       "\n",
       "    .dataframe thead th {\n",
       "        text-align: right;\n",
       "    }\n",
       "</style>\n",
       "<table border=\"1\" class=\"dataframe\">\n",
       "  <thead>\n",
       "    <tr style=\"text-align: right;\">\n",
       "      <th></th>\n",
       "      <th>label</th>\n",
       "      <th>n</th>\n",
       "    </tr>\n",
       "  </thead>\n",
       "  <tbody>\n",
       "    <tr>\n",
       "      <th>0</th>\n",
       "      <td>ALPES</td>\n",
       "      <td>12395</td>\n",
       "    </tr>\n",
       "    <tr>\n",
       "      <th>1</th>\n",
       "      <td>ALSACE</td>\n",
       "      <td>11264</td>\n",
       "    </tr>\n",
       "    <tr>\n",
       "      <th>2</th>\n",
       "      <td>AUVERGNE</td>\n",
       "      <td>4436</td>\n",
       "    </tr>\n",
       "    <tr>\n",
       "      <th>3</th>\n",
       "      <td>BOURGOGNE FRANCHE-COMTE</td>\n",
       "      <td>5813</td>\n",
       "    </tr>\n",
       "    <tr>\n",
       "      <th>4</th>\n",
       "      <td>BRETAGNE</td>\n",
       "      <td>11421</td>\n",
       "    </tr>\n",
       "    <tr>\n",
       "      <th>5</th>\n",
       "      <td>CENTRE</td>\n",
       "      <td>8344</td>\n",
       "    </tr>\n",
       "    <tr>\n",
       "      <th>6</th>\n",
       "      <td>CHAMPAGNE-ARDENNE</td>\n",
       "      <td>369</td>\n",
       "    </tr>\n",
       "    <tr>\n",
       "      <th>7</th>\n",
       "      <td>PARIS RIVE GAUCHE</td>\n",
       "      <td>7995</td>\n",
       "    </tr>\n",
       "    <tr>\n",
       "      <th>8</th>\n",
       "      <td>PARIS SAINT-LAZARE</td>\n",
       "      <td>1341</td>\n",
       "    </tr>\n",
       "    <tr>\n",
       "      <th>9</th>\n",
       "      <td>PARIS-EST</td>\n",
       "      <td>8388</td>\n",
       "    </tr>\n",
       "    <tr>\n",
       "      <th>10</th>\n",
       "      <td>PARIS-NORD</td>\n",
       "      <td>32357</td>\n",
       "    </tr>\n",
       "    <tr>\n",
       "      <th>11</th>\n",
       "      <td>PARIS-SUD-EST</td>\n",
       "      <td>44893</td>\n",
       "    </tr>\n",
       "    <tr>\n",
       "      <th>12</th>\n",
       "      <td>LANGUEDOC-ROUSSILLON</td>\n",
       "      <td>15559</td>\n",
       "    </tr>\n",
       "    <tr>\n",
       "      <th>13</th>\n",
       "      <td>LIMOUSIN</td>\n",
       "      <td>3958</td>\n",
       "    </tr>\n",
       "    <tr>\n",
       "      <th>14</th>\n",
       "      <td>LORRAINE</td>\n",
       "      <td>8767</td>\n",
       "    </tr>\n",
       "    <tr>\n",
       "      <th>15</th>\n",
       "      <td>MIDI PYRENEES</td>\n",
       "      <td>424</td>\n",
       "    </tr>\n",
       "    <tr>\n",
       "      <th>16</th>\n",
       "      <td>NORD PAS DE CALAIS</td>\n",
       "      <td>24612</td>\n",
       "    </tr>\n",
       "    <tr>\n",
       "      <th>17</th>\n",
       "      <td>NORMANDIE</td>\n",
       "      <td>10491</td>\n",
       "    </tr>\n",
       "    <tr>\n",
       "      <th>18</th>\n",
       "      <td>PAYS DE LA LOIRE</td>\n",
       "      <td>25086</td>\n",
       "    </tr>\n",
       "    <tr>\n",
       "      <th>19</th>\n",
       "      <td>PICARDIE</td>\n",
       "      <td>2372</td>\n",
       "    </tr>\n",
       "    <tr>\n",
       "      <th>20</th>\n",
       "      <td>POITOU-CHARENTES AQUITAINE</td>\n",
       "      <td>36137</td>\n",
       "    </tr>\n",
       "    <tr>\n",
       "      <th>21</th>\n",
       "      <td>PROVENCE ALPES COTE D'AZUR</td>\n",
       "      <td>34558</td>\n",
       "    </tr>\n",
       "    <tr>\n",
       "      <th>22</th>\n",
       "      <td>RHONE-ALPES</td>\n",
       "      <td>21931</td>\n",
       "    </tr>\n",
       "  </tbody>\n",
       "</table>\n",
       "</div>"
      ],
      "text/plain": [
       "                         label      n\n",
       "0                        ALPES  12395\n",
       "1                       ALSACE  11264\n",
       "2                     AUVERGNE   4436\n",
       "3      BOURGOGNE FRANCHE-COMTE   5813\n",
       "4                     BRETAGNE  11421\n",
       "5                       CENTRE   8344\n",
       "6            CHAMPAGNE-ARDENNE    369\n",
       "7            PARIS RIVE GAUCHE   7995\n",
       "8           PARIS SAINT-LAZARE   1341\n",
       "9                    PARIS-EST   8388\n",
       "10                  PARIS-NORD  32357\n",
       "11               PARIS-SUD-EST  44893\n",
       "12        LANGUEDOC-ROUSSILLON  15559\n",
       "13                    LIMOUSIN   3958\n",
       "14                    LORRAINE   8767\n",
       "15               MIDI PYRENEES    424\n",
       "16          NORD PAS DE CALAIS  24612\n",
       "17                   NORMANDIE  10491\n",
       "18            PAYS DE LA LOIRE  25086\n",
       "19                    PICARDIE   2372\n",
       "20  POITOU-CHARENTES AQUITAINE  36137\n",
       "21  PROVENCE ALPES COTE D'AZUR  34558\n",
       "22                 RHONE-ALPES  21931"
      ]
     },
     "execution_count": 39,
     "metadata": {},
     "output_type": "execute_result"
    }
   ],
   "source": [
    "objet_by_regions['label'] = objet_by_regions['label'].str.replace('REGION DE ', '')\n",
    "objet_by_regions['label'] = objet_by_regions['label'].str.replace('REGION ', '')\n",
    "objet_by_regions = objet_by_regions.drop(['Unnamed: 0.1', 'Unnamed: 0'], axis=1)\n",
    "objet_by_regions"
   ]
  },
  {
   "cell_type": "code",
   "execution_count": 40,
   "metadata": {},
   "outputs": [],
   "source": [
    "objet_by_regions.to_csv(\"../CSV/objet_by_region.csv\")"
   ]
  },
  {
   "cell_type": "code",
   "execution_count": 30,
   "metadata": {},
   "outputs": [
    {
     "ename": "KeyError",
     "evalue": "'code_dep'",
     "output_type": "error",
     "traceback": [
      "\u001b[0;31m---------------------------------------------------------------------------\u001b[0m",
      "\u001b[0;31mKeyError\u001b[0m                                  Traceback (most recent call last)",
      "\u001b[1;32m/home/apprenant/Documents/MyLearning/API-SNCF/analyse/test_Emad.ipynb Cellule 13\u001b[0m in \u001b[0;36m<cell line: 3>\u001b[0;34m()\u001b[0m\n\u001b[1;32m      <a href='vscode-notebook-cell:/home/apprenant/Documents/MyLearning/API-SNCF/analyse/test_Emad.ipynb#X25sZmlsZQ%3D%3D?line=0'>1</a>\u001b[0m df_objects[\u001b[39m'\u001b[39m\u001b[39mdate\u001b[39m\u001b[39m'\u001b[39m] \u001b[39m=\u001b[39m pd\u001b[39m.\u001b[39mto_datetime(df_objects[\u001b[39m'\u001b[39m\u001b[39mdate\u001b[39m\u001b[39m'\u001b[39m])\n\u001b[1;32m      <a href='vscode-notebook-cell:/home/apprenant/Documents/MyLearning/API-SNCF/analyse/test_Emad.ipynb#X25sZmlsZQ%3D%3D?line=1'>2</a>\u001b[0m df_objects\u001b[39m.\u001b[39mset_index(\u001b[39m'\u001b[39m\u001b[39mdate\u001b[39m\u001b[39m'\u001b[39m, inplace\u001b[39m=\u001b[39m\u001b[39mTrue\u001b[39;00m)\n\u001b[0;32m----> <a href='vscode-notebook-cell:/home/apprenant/Documents/MyLearning/API-SNCF/analyse/test_Emad.ipynb#X25sZmlsZQ%3D%3D?line=2'>3</a>\u001b[0m df_objects \u001b[39m=\u001b[39m df_objects\u001b[39m.\u001b[39;49mgroupby(\u001b[39m'\u001b[39;49m\u001b[39mcode_dep\u001b[39;49m\u001b[39m'\u001b[39;49m)\u001b[39m.\u001b[39mresample(\u001b[39m'\u001b[39m\u001b[39mD\u001b[39m\u001b[39m'\u001b[39m)\u001b[39m.\u001b[39mmean()\u001b[39m.\u001b[39mreset_index()\n\u001b[1;32m      <a href='vscode-notebook-cell:/home/apprenant/Documents/MyLearning/API-SNCF/analyse/test_Emad.ipynb#X25sZmlsZQ%3D%3D?line=3'>4</a>\u001b[0m df_objects\n\u001b[1;32m      <a href='vscode-notebook-cell:/home/apprenant/Documents/MyLearning/API-SNCF/analyse/test_Emad.ipynb#X25sZmlsZQ%3D%3D?line=5'>6</a>\u001b[0m df_objects[\u001b[39m'\u001b[39m\u001b[39mdate\u001b[39m\u001b[39m'\u001b[39m] \u001b[39m=\u001b[39m df_objects[\u001b[39m'\u001b[39m\u001b[39mdate\u001b[39m\u001b[39m'\u001b[39m]\u001b[39m.\u001b[39mdt\u001b[39m.\u001b[39mdate\n",
      "File \u001b[0;32m~/.local/lib/python3.10/site-packages/pandas/core/frame.py:7712\u001b[0m, in \u001b[0;36mDataFrame.groupby\u001b[0;34m(self, by, axis, level, as_index, sort, group_keys, squeeze, observed, dropna)\u001b[0m\n\u001b[1;32m   7707\u001b[0m axis \u001b[39m=\u001b[39m \u001b[39mself\u001b[39m\u001b[39m.\u001b[39m_get_axis_number(axis)\n\u001b[1;32m   7709\u001b[0m \u001b[39m# https://github.com/python/mypy/issues/7642\u001b[39;00m\n\u001b[1;32m   7710\u001b[0m \u001b[39m# error: Argument \"squeeze\" to \"DataFrameGroupBy\" has incompatible type\u001b[39;00m\n\u001b[1;32m   7711\u001b[0m \u001b[39m# \"Union[bool, NoDefault]\"; expected \"bool\"\u001b[39;00m\n\u001b[0;32m-> 7712\u001b[0m \u001b[39mreturn\u001b[39;00m DataFrameGroupBy(\n\u001b[1;32m   7713\u001b[0m     obj\u001b[39m=\u001b[39;49m\u001b[39mself\u001b[39;49m,\n\u001b[1;32m   7714\u001b[0m     keys\u001b[39m=\u001b[39;49mby,\n\u001b[1;32m   7715\u001b[0m     axis\u001b[39m=\u001b[39;49maxis,\n\u001b[1;32m   7716\u001b[0m     level\u001b[39m=\u001b[39;49mlevel,\n\u001b[1;32m   7717\u001b[0m     as_index\u001b[39m=\u001b[39;49mas_index,\n\u001b[1;32m   7718\u001b[0m     sort\u001b[39m=\u001b[39;49msort,\n\u001b[1;32m   7719\u001b[0m     group_keys\u001b[39m=\u001b[39;49mgroup_keys,\n\u001b[1;32m   7720\u001b[0m     squeeze\u001b[39m=\u001b[39;49msqueeze,  \u001b[39m# type: ignore[arg-type]\u001b[39;49;00m\n\u001b[1;32m   7721\u001b[0m     observed\u001b[39m=\u001b[39;49mobserved,\n\u001b[1;32m   7722\u001b[0m     dropna\u001b[39m=\u001b[39;49mdropna,\n\u001b[1;32m   7723\u001b[0m )\n",
      "File \u001b[0;32m~/.local/lib/python3.10/site-packages/pandas/core/groupby/groupby.py:882\u001b[0m, in \u001b[0;36mGroupBy.__init__\u001b[0;34m(self, obj, keys, axis, level, grouper, exclusions, selection, as_index, sort, group_keys, squeeze, observed, mutated, dropna)\u001b[0m\n\u001b[1;32m    879\u001b[0m \u001b[39mif\u001b[39;00m grouper \u001b[39mis\u001b[39;00m \u001b[39mNone\u001b[39;00m:\n\u001b[1;32m    880\u001b[0m     \u001b[39mfrom\u001b[39;00m \u001b[39mpandas\u001b[39;00m\u001b[39m.\u001b[39;00m\u001b[39mcore\u001b[39;00m\u001b[39m.\u001b[39;00m\u001b[39mgroupby\u001b[39;00m\u001b[39m.\u001b[39;00m\u001b[39mgrouper\u001b[39;00m \u001b[39mimport\u001b[39;00m get_grouper\n\u001b[0;32m--> 882\u001b[0m     grouper, exclusions, obj \u001b[39m=\u001b[39m get_grouper(\n\u001b[1;32m    883\u001b[0m         obj,\n\u001b[1;32m    884\u001b[0m         keys,\n\u001b[1;32m    885\u001b[0m         axis\u001b[39m=\u001b[39;49maxis,\n\u001b[1;32m    886\u001b[0m         level\u001b[39m=\u001b[39;49mlevel,\n\u001b[1;32m    887\u001b[0m         sort\u001b[39m=\u001b[39;49msort,\n\u001b[1;32m    888\u001b[0m         observed\u001b[39m=\u001b[39;49mobserved,\n\u001b[1;32m    889\u001b[0m         mutated\u001b[39m=\u001b[39;49m\u001b[39mself\u001b[39;49m\u001b[39m.\u001b[39;49mmutated,\n\u001b[1;32m    890\u001b[0m         dropna\u001b[39m=\u001b[39;49m\u001b[39mself\u001b[39;49m\u001b[39m.\u001b[39;49mdropna,\n\u001b[1;32m    891\u001b[0m     )\n\u001b[1;32m    893\u001b[0m \u001b[39mself\u001b[39m\u001b[39m.\u001b[39mobj \u001b[39m=\u001b[39m obj\n\u001b[1;32m    894\u001b[0m \u001b[39mself\u001b[39m\u001b[39m.\u001b[39maxis \u001b[39m=\u001b[39m obj\u001b[39m.\u001b[39m_get_axis_number(axis)\n",
      "File \u001b[0;32m~/.local/lib/python3.10/site-packages/pandas/core/groupby/grouper.py:882\u001b[0m, in \u001b[0;36mget_grouper\u001b[0;34m(obj, key, axis, level, sort, observed, mutated, validate, dropna)\u001b[0m\n\u001b[1;32m    880\u001b[0m         in_axis, level, gpr \u001b[39m=\u001b[39m \u001b[39mFalse\u001b[39;00m, gpr, \u001b[39mNone\u001b[39;00m\n\u001b[1;32m    881\u001b[0m     \u001b[39melse\u001b[39;00m:\n\u001b[0;32m--> 882\u001b[0m         \u001b[39mraise\u001b[39;00m \u001b[39mKeyError\u001b[39;00m(gpr)\n\u001b[1;32m    883\u001b[0m \u001b[39melif\u001b[39;00m \u001b[39misinstance\u001b[39m(gpr, Grouper) \u001b[39mand\u001b[39;00m gpr\u001b[39m.\u001b[39mkey \u001b[39mis\u001b[39;00m \u001b[39mnot\u001b[39;00m \u001b[39mNone\u001b[39;00m:\n\u001b[1;32m    884\u001b[0m     \u001b[39m# Add key to exclusions\u001b[39;00m\n\u001b[1;32m    885\u001b[0m     exclusions\u001b[39m.\u001b[39madd(gpr\u001b[39m.\u001b[39mkey)\n",
      "\u001b[0;31mKeyError\u001b[0m: 'code_dep'"
     ]
    }
   ],
   "source": [
    "df_objects['date'] = pd.to_datetime(df_objects['date'])\n",
    "df_objects.set_index('date', inplace=True)\n",
    "df_objects = df_objects.groupby('code_dep').resample('D').mean().reset_index()\n",
    "df_objects\n",
    "\n",
    "df_objects['date'] = df_objects['date'].dt.date\n",
    "df_objects"
   ]
  },
  {
   "cell_type": "code",
   "execution_count": null,
   "metadata": {},
   "outputs": [],
   "source": []
  },
  {
   "cell_type": "code",
   "execution_count": null,
   "metadata": {},
   "outputs": [],
   "source": []
  },
  {
   "cell_type": "code",
   "execution_count": null,
   "metadata": {},
   "outputs": [],
   "source": []
  },
  {
   "cell_type": "code",
   "execution_count": null,
   "metadata": {},
   "outputs": [],
   "source": []
  },
  {
   "cell_type": "code",
   "execution_count": 44,
   "metadata": {},
   "outputs": [],
   "source": [
    "def search_region(departement: str):\n",
    "    # Merci GPT pour ce dictionnaire !\n",
    "    regions = {\n",
    "    \"Auvergne-Rhône-Alpes\": [\"01\", \"03\", \"07\", \"15\", \"26\", \"38\", \"42\", \"43\", \"63\", \"69\", \"73\", \"74\"],\n",
    "    \"Bourgogne-Franche-Comté\": [\"21\", \"25\", \"39\", \"58\", \"70\", \"71\", \"89\", \"90\"],\n",
    "    \"Bretagne\": [\"22\", \"29\", \"35\", \"56\"],\n",
    "    \"Centre-Val de Loire\": [\"18\", \"28\", \"36\", \"37\", \"41\", \"45\"],\n",
    "    \"Corse\": [\"2A\", \"2B\"],\n",
    "    \"Grand Est\": [\"08\", \"10\", \"51\", \"52\", \"54\", \"55\", \"57\", \"67\", \"68\", \"88\"],\n",
    "    \"Hauts-de-France\": [\"02\", \"59\", \"60\", \"62\", \"80\"],\n",
    "    \"Île-de-France\": [\"75\", \"77\", \"78\", \"91\", \"92\", \"93\", \"94\", \"95\"],\n",
    "    \"Normandie\": [\"14\", \"27\", \"50\", \"61\", \"76\"],\n",
    "    \"Nouvelle-Aquitaine\": [\"16\", \"17\", \"19\", \"23\", \"24\", \"33\", \"40\", \"47\", \"64\", \"79\", \"86\", \"87\"],\n",
    "    \"Occitanie\": [\"09\", \"11\", \"12\", \"30\", \"31\", \"32\", \"34\", \"46\", \"48\", \"65\", \"66\", \"81\", \"82\"],\n",
    "    \"Pays de la Loire\": [\"44\", \"49\", \"53\", \"72\", \"85\"],\n",
    "    \"Provence-Alpes-Côte d'Azur\": [\"04\", \"05\", \"06\", \"13\", \"83\", \"84\"],\n",
    "    \"Guadeloupe\": [\"971\"],\n",
    "    \"Martinique\": [\"972\"],\n",
    "    \"Guyane\": [\"973\"],\n",
    "    \"La Réunion\": [\"974\"],\n",
    "    \"Mayotte\": [\"976\"]\n",
    "    }\n",
    "    for cle, valeur in regions.items():\n",
    "        if departement in valeur:\n",
    "            return str(cle)\n"
   ]
  },
  {
   "cell_type": "code",
   "execution_count": 53,
   "metadata": {},
   "outputs": [
    {
     "data": {
      "text/html": [
       "<div>\n",
       "<style scoped>\n",
       "    .dataframe tbody tr th:only-of-type {\n",
       "        vertical-align: middle;\n",
       "    }\n",
       "\n",
       "    .dataframe tbody tr th {\n",
       "        vertical-align: top;\n",
       "    }\n",
       "\n",
       "    .dataframe thead th {\n",
       "        text-align: right;\n",
       "    }\n",
       "</style>\n",
       "<table border=\"1\" class=\"dataframe\">\n",
       "  <thead>\n",
       "    <tr style=\"text-align: right;\">\n",
       "      <th></th>\n",
       "      <th>recordid</th>\n",
       "      <th>gare_code_uic</th>\n",
       "      <th>type</th>\n",
       "      <th>nature</th>\n",
       "      <th>recordtype</th>\n",
       "      <th>date</th>\n",
       "      <th>uic_code</th>\n",
       "      <th>departement_libellemin</th>\n",
       "      <th>gare_regionsncf_libelle</th>\n",
       "      <th>gare_alias_libelle_noncontraint</th>\n",
       "      <th>adresse_cp</th>\n",
       "      <th>code_gare</th>\n",
       "      <th>lat</th>\n",
       "      <th>long</th>\n",
       "    </tr>\n",
       "  </thead>\n",
       "  <tbody>\n",
       "    <tr>\n",
       "      <th>3</th>\n",
       "      <td>90432de5460f71c38de83362302235db545f018b</td>\n",
       "      <td>0087746008</td>\n",
       "      <td>Optique</td>\n",
       "      <td>Lunettes en étui</td>\n",
       "      <td>Objet trouvé</td>\n",
       "      <td>2016-01-06T07:55:24+00:00</td>\n",
       "      <td>0087746008</td>\n",
       "      <td>Haute-Savoie</td>\n",
       "      <td>Auvergne-Rhône-Alpes</td>\n",
       "      <td>Annecy</td>\n",
       "      <td>74000</td>\n",
       "      <td>00357</td>\n",
       "      <td>45.901965</td>\n",
       "      <td>6.121835</td>\n",
       "    </tr>\n",
       "    <tr>\n",
       "      <th>4</th>\n",
       "      <td>c76a2ff3c986c9748db61f07687580ecb0af4b5a</td>\n",
       "      <td>0087722025</td>\n",
       "      <td>Vélos, trottinettes, accessoires 2 roues</td>\n",
       "      <td>Casque (vélo, moto)</td>\n",
       "      <td>Objet trouvé</td>\n",
       "      <td>2016-01-06T08:32:13+00:00</td>\n",
       "      <td>0087722025</td>\n",
       "      <td>Rhône</td>\n",
       "      <td>Auvergne-Rhône-Alpes</td>\n",
       "      <td>Lyon Perrache</td>\n",
       "      <td>69286</td>\n",
       "      <td>00553</td>\n",
       "      <td>45.748476</td>\n",
       "      <td>4.825733</td>\n",
       "    </tr>\n",
       "    <tr>\n",
       "      <th>5</th>\n",
       "      <td>cf34554fbe00a0ef4fc71ee154020cac5fad2452</td>\n",
       "      <td>0087317586</td>\n",
       "      <td>Appareils électroniques, informatiques, appare...</td>\n",
       "      <td>Téléphone portable</td>\n",
       "      <td>Objet trouvé</td>\n",
       "      <td>2016-01-06T08:33:19+00:00</td>\n",
       "      <td>0087317586</td>\n",
       "      <td>Pas-de-Calais</td>\n",
       "      <td>Hauts-de-France</td>\n",
       "      <td>Boulogne-sur-Mer</td>\n",
       "      <td>62200</td>\n",
       "      <td>02210</td>\n",
       "      <td>50.715700</td>\n",
       "      <td>1.609640</td>\n",
       "    </tr>\n",
       "    <tr>\n",
       "      <th>6</th>\n",
       "      <td>eb010515dbb542ad116fe9bce680231818cdccb3</td>\n",
       "      <td>0087722025</td>\n",
       "      <td>Bagagerie: sacs, valises, cartables</td>\n",
       "      <td>Sac d'enseigne (plastique, papier, …)</td>\n",
       "      <td>Objet trouvé</td>\n",
       "      <td>2016-01-06T08:34:26+00:00</td>\n",
       "      <td>0087722025</td>\n",
       "      <td>Rhône</td>\n",
       "      <td>Auvergne-Rhône-Alpes</td>\n",
       "      <td>Lyon Perrache</td>\n",
       "      <td>69286</td>\n",
       "      <td>00553</td>\n",
       "      <td>45.748476</td>\n",
       "      <td>4.825733</td>\n",
       "    </tr>\n",
       "    <tr>\n",
       "      <th>8</th>\n",
       "      <td>48ddd8bf36b90301c0a89f111004934fd5799281</td>\n",
       "      <td>0087722025</td>\n",
       "      <td>Bagagerie: sacs, valises, cartables</td>\n",
       "      <td>Sac d'enseigne (plastique, papier, …)</td>\n",
       "      <td>Objet trouvé</td>\n",
       "      <td>2016-01-06T08:40:26+00:00</td>\n",
       "      <td>0087722025</td>\n",
       "      <td>Rhône</td>\n",
       "      <td>Auvergne-Rhône-Alpes</td>\n",
       "      <td>Lyon Perrache</td>\n",
       "      <td>69286</td>\n",
       "      <td>00553</td>\n",
       "      <td>45.748476</td>\n",
       "      <td>4.825733</td>\n",
       "    </tr>\n",
       "    <tr>\n",
       "      <th>...</th>\n",
       "      <td>...</td>\n",
       "      <td>...</td>\n",
       "      <td>...</td>\n",
       "      <td>...</td>\n",
       "      <td>...</td>\n",
       "      <td>...</td>\n",
       "      <td>...</td>\n",
       "      <td>...</td>\n",
       "      <td>...</td>\n",
       "      <td>...</td>\n",
       "      <td>...</td>\n",
       "      <td>...</td>\n",
       "      <td>...</td>\n",
       "      <td>...</td>\n",
       "    </tr>\n",
       "    <tr>\n",
       "      <th>481294</th>\n",
       "      <td>ad6947926569cab29d0a06b0424bd2eb9e86274a</td>\n",
       "      <td>0087271494</td>\n",
       "      <td>Bagagerie: sacs, valises, cartables</td>\n",
       "      <td>Valise, sac sur roulettes</td>\n",
       "      <td>Objet trouvé</td>\n",
       "      <td>2021-12-31T16:11:03+00:00</td>\n",
       "      <td>0087271494</td>\n",
       "      <td>Val-d'Oise</td>\n",
       "      <td>Île-de-France</td>\n",
       "      <td>Aéroport Charles de Gaulle 2 TGV</td>\n",
       "      <td>95716</td>\n",
       "      <td>02541</td>\n",
       "      <td>49.003652</td>\n",
       "      <td>2.570892</td>\n",
       "    </tr>\n",
       "    <tr>\n",
       "      <th>481297</th>\n",
       "      <td>fee5e9002e275fc65800701143912b8d6e37e211</td>\n",
       "      <td>0087686006</td>\n",
       "      <td>Appareils électroniques, informatiques, appare...</td>\n",
       "      <td>Téléphone portable</td>\n",
       "      <td>Objet trouvé</td>\n",
       "      <td>2021-12-31T16:35:25+00:00</td>\n",
       "      <td>0087686006</td>\n",
       "      <td>Paris</td>\n",
       "      <td>Île-de-France</td>\n",
       "      <td>Paris Gare de Lyon</td>\n",
       "      <td>75012</td>\n",
       "      <td>00753</td>\n",
       "      <td>48.844888</td>\n",
       "      <td>2.373520</td>\n",
       "    </tr>\n",
       "    <tr>\n",
       "      <th>481298</th>\n",
       "      <td>ef1f506126b1f9c11ef5bad8bd08666fa7c0e970</td>\n",
       "      <td>0087686006</td>\n",
       "      <td>Bagagerie: sacs, valises, cartables</td>\n",
       "      <td>Sac à dos</td>\n",
       "      <td>Objet trouvé</td>\n",
       "      <td>2021-12-31T16:59:39+00:00</td>\n",
       "      <td>0087686006</td>\n",
       "      <td>Paris</td>\n",
       "      <td>Île-de-France</td>\n",
       "      <td>Paris Gare de Lyon</td>\n",
       "      <td>75012</td>\n",
       "      <td>00753</td>\n",
       "      <td>48.844888</td>\n",
       "      <td>2.373520</td>\n",
       "    </tr>\n",
       "    <tr>\n",
       "      <th>481299</th>\n",
       "      <td>9640315e51341e023ca6cebf39e762909cf56780</td>\n",
       "      <td>0087773002</td>\n",
       "      <td>Porte-monnaie / portefeuille, argent, titres</td>\n",
       "      <td>Carte de crédit</td>\n",
       "      <td>Objet trouvé</td>\n",
       "      <td>2021-12-31T17:02:32+00:00</td>\n",
       "      <td>0087773002</td>\n",
       "      <td>Hérault</td>\n",
       "      <td>Occitanie</td>\n",
       "      <td>Montpellier Saint-Roch</td>\n",
       "      <td>34011</td>\n",
       "      <td>00130</td>\n",
       "      <td>43.604738</td>\n",
       "      <td>3.880674</td>\n",
       "    </tr>\n",
       "    <tr>\n",
       "      <th>481300</th>\n",
       "      <td>354dc14fc16948959379af14062d1be9a5a82b8a</td>\n",
       "      <td>0087113001</td>\n",
       "      <td>Bagagerie: sacs, valises, cartables</td>\n",
       "      <td>Sac à dos</td>\n",
       "      <td>Objet trouvé</td>\n",
       "      <td>2021-12-31T18:14:11+00:00</td>\n",
       "      <td>0087113001</td>\n",
       "      <td>Paris</td>\n",
       "      <td>Île-de-France</td>\n",
       "      <td>Paris Est</td>\n",
       "      <td>75010</td>\n",
       "      <td>03070</td>\n",
       "      <td>48.876742</td>\n",
       "      <td>2.358424</td>\n",
       "    </tr>\n",
       "  </tbody>\n",
       "</table>\n",
       "<p>332911 rows × 14 columns</p>\n",
       "</div>"
      ],
      "text/plain": [
       "                                        recordid gare_code_uic  \\\n",
       "3       90432de5460f71c38de83362302235db545f018b    0087746008   \n",
       "4       c76a2ff3c986c9748db61f07687580ecb0af4b5a    0087722025   \n",
       "5       cf34554fbe00a0ef4fc71ee154020cac5fad2452    0087317586   \n",
       "6       eb010515dbb542ad116fe9bce680231818cdccb3    0087722025   \n",
       "8       48ddd8bf36b90301c0a89f111004934fd5799281    0087722025   \n",
       "...                                          ...           ...   \n",
       "481294  ad6947926569cab29d0a06b0424bd2eb9e86274a    0087271494   \n",
       "481297  fee5e9002e275fc65800701143912b8d6e37e211    0087686006   \n",
       "481298  ef1f506126b1f9c11ef5bad8bd08666fa7c0e970    0087686006   \n",
       "481299  9640315e51341e023ca6cebf39e762909cf56780    0087773002   \n",
       "481300  354dc14fc16948959379af14062d1be9a5a82b8a    0087113001   \n",
       "\n",
       "                                                     type  \\\n",
       "3                                                 Optique   \n",
       "4                Vélos, trottinettes, accessoires 2 roues   \n",
       "5       Appareils électroniques, informatiques, appare...   \n",
       "6                     Bagagerie: sacs, valises, cartables   \n",
       "8                     Bagagerie: sacs, valises, cartables   \n",
       "...                                                   ...   \n",
       "481294                Bagagerie: sacs, valises, cartables   \n",
       "481297  Appareils électroniques, informatiques, appare...   \n",
       "481298                Bagagerie: sacs, valises, cartables   \n",
       "481299       Porte-monnaie / portefeuille, argent, titres   \n",
       "481300                Bagagerie: sacs, valises, cartables   \n",
       "\n",
       "                                       nature    recordtype  \\\n",
       "3                            Lunettes en étui  Objet trouvé   \n",
       "4                         Casque (vélo, moto)  Objet trouvé   \n",
       "5                          Téléphone portable  Objet trouvé   \n",
       "6       Sac d'enseigne (plastique, papier, …)  Objet trouvé   \n",
       "8       Sac d'enseigne (plastique, papier, …)  Objet trouvé   \n",
       "...                                       ...           ...   \n",
       "481294              Valise, sac sur roulettes  Objet trouvé   \n",
       "481297                     Téléphone portable  Objet trouvé   \n",
       "481298                              Sac à dos  Objet trouvé   \n",
       "481299                        Carte de crédit  Objet trouvé   \n",
       "481300                              Sac à dos  Objet trouvé   \n",
       "\n",
       "                             date    uic_code departement_libellemin  \\\n",
       "3       2016-01-06T07:55:24+00:00  0087746008           Haute-Savoie   \n",
       "4       2016-01-06T08:32:13+00:00  0087722025                  Rhône   \n",
       "5       2016-01-06T08:33:19+00:00  0087317586          Pas-de-Calais   \n",
       "6       2016-01-06T08:34:26+00:00  0087722025                  Rhône   \n",
       "8       2016-01-06T08:40:26+00:00  0087722025                  Rhône   \n",
       "...                           ...         ...                    ...   \n",
       "481294  2021-12-31T16:11:03+00:00  0087271494             Val-d'Oise   \n",
       "481297  2021-12-31T16:35:25+00:00  0087686006                  Paris   \n",
       "481298  2021-12-31T16:59:39+00:00  0087686006                  Paris   \n",
       "481299  2021-12-31T17:02:32+00:00  0087773002                Hérault   \n",
       "481300  2021-12-31T18:14:11+00:00  0087113001                  Paris   \n",
       "\n",
       "       gare_regionsncf_libelle   gare_alias_libelle_noncontraint adresse_cp  \\\n",
       "3         Auvergne-Rhône-Alpes                            Annecy      74000   \n",
       "4         Auvergne-Rhône-Alpes                     Lyon Perrache      69286   \n",
       "5              Hauts-de-France                  Boulogne-sur-Mer      62200   \n",
       "6         Auvergne-Rhône-Alpes                     Lyon Perrache      69286   \n",
       "8         Auvergne-Rhône-Alpes                     Lyon Perrache      69286   \n",
       "...                        ...                               ...        ...   \n",
       "481294           Île-de-France  Aéroport Charles de Gaulle 2 TGV      95716   \n",
       "481297           Île-de-France                Paris Gare de Lyon      75012   \n",
       "481298           Île-de-France                Paris Gare de Lyon      75012   \n",
       "481299               Occitanie            Montpellier Saint-Roch      34011   \n",
       "481300           Île-de-France                         Paris Est      75010   \n",
       "\n",
       "       code_gare        lat      long  \n",
       "3          00357  45.901965  6.121835  \n",
       "4          00553  45.748476  4.825733  \n",
       "5          02210  50.715700  1.609640  \n",
       "6          00553  45.748476  4.825733  \n",
       "8          00553  45.748476  4.825733  \n",
       "...          ...        ...       ...  \n",
       "481294     02541  49.003652  2.570892  \n",
       "481297     00753  48.844888  2.373520  \n",
       "481298     00753  48.844888  2.373520  \n",
       "481299     00130  43.604738  3.880674  \n",
       "481300     03070  48.876742  2.358424  \n",
       "\n",
       "[332911 rows x 14 columns]"
      ]
     },
     "execution_count": 53,
     "metadata": {},
     "output_type": "execute_result"
    }
   ],
   "source": [
    "Merge_obects_gare = Merge_obects_gare.dropna()\n",
    "Merge_obects_gare['gare_regionsncf_libelle'] = Merge_obects_gare['adresse_cp'].apply(lambda x: search_region(str(x[:2])))\n"
   ]
  },
  {
   "cell_type": "code",
   "execution_count": 55,
   "metadata": {},
   "outputs": [],
   "source": [
    "Merge_obects_gare.to_csv(\"../CSV/ALL_objects_gares.csv\")"
   ]
  },
  {
   "cell_type": "code",
   "execution_count": 56,
   "metadata": {},
   "outputs": [],
   "source": [
    "Merge_obects_gare = pd.read_csv(\"../CSV/ALL_objects_gares.csv\")"
   ]
  },
  {
   "cell_type": "code",
   "execution_count": 59,
   "metadata": {},
   "outputs": [],
   "source": [
    "objext_bar_region = Merge_obects_gare[['gare_regionsncf_libelle']]\n"
   ]
  },
  {
   "cell_type": "code",
   "execution_count": 60,
   "metadata": {},
   "outputs": [
    {
     "data": {
      "text/html": [
       "<div>\n",
       "<style scoped>\n",
       "    .dataframe tbody tr th:only-of-type {\n",
       "        vertical-align: middle;\n",
       "    }\n",
       "\n",
       "    .dataframe tbody tr th {\n",
       "        vertical-align: top;\n",
       "    }\n",
       "\n",
       "    .dataframe thead th {\n",
       "        text-align: right;\n",
       "    }\n",
       "</style>\n",
       "<table border=\"1\" class=\"dataframe\">\n",
       "  <thead>\n",
       "    <tr style=\"text-align: right;\">\n",
       "      <th></th>\n",
       "      <th>gare_regionsncf_libelle</th>\n",
       "    </tr>\n",
       "  </thead>\n",
       "  <tbody>\n",
       "    <tr>\n",
       "      <th>0</th>\n",
       "      <td>Auvergne-Rhône-Alpes</td>\n",
       "    </tr>\n",
       "    <tr>\n",
       "      <th>1</th>\n",
       "      <td>Auvergne-Rhône-Alpes</td>\n",
       "    </tr>\n",
       "    <tr>\n",
       "      <th>2</th>\n",
       "      <td>Hauts-de-France</td>\n",
       "    </tr>\n",
       "    <tr>\n",
       "      <th>3</th>\n",
       "      <td>Auvergne-Rhône-Alpes</td>\n",
       "    </tr>\n",
       "    <tr>\n",
       "      <th>4</th>\n",
       "      <td>Auvergne-Rhône-Alpes</td>\n",
       "    </tr>\n",
       "    <tr>\n",
       "      <th>...</th>\n",
       "      <td>...</td>\n",
       "    </tr>\n",
       "    <tr>\n",
       "      <th>332906</th>\n",
       "      <td>Île-de-France</td>\n",
       "    </tr>\n",
       "    <tr>\n",
       "      <th>332907</th>\n",
       "      <td>Île-de-France</td>\n",
       "    </tr>\n",
       "    <tr>\n",
       "      <th>332908</th>\n",
       "      <td>Île-de-France</td>\n",
       "    </tr>\n",
       "    <tr>\n",
       "      <th>332909</th>\n",
       "      <td>Occitanie</td>\n",
       "    </tr>\n",
       "    <tr>\n",
       "      <th>332910</th>\n",
       "      <td>Île-de-France</td>\n",
       "    </tr>\n",
       "  </tbody>\n",
       "</table>\n",
       "<p>332911 rows × 1 columns</p>\n",
       "</div>"
      ],
      "text/plain": [
       "       gare_regionsncf_libelle\n",
       "0         Auvergne-Rhône-Alpes\n",
       "1         Auvergne-Rhône-Alpes\n",
       "2              Hauts-de-France\n",
       "3         Auvergne-Rhône-Alpes\n",
       "4         Auvergne-Rhône-Alpes\n",
       "...                        ...\n",
       "332906           Île-de-France\n",
       "332907           Île-de-France\n",
       "332908           Île-de-France\n",
       "332909               Occitanie\n",
       "332910           Île-de-France\n",
       "\n",
       "[332911 rows x 1 columns]"
      ]
     },
     "execution_count": 60,
     "metadata": {},
     "output_type": "execute_result"
    }
   ],
   "source": [
    "objext_bar_region"
   ]
  },
  {
   "cell_type": "code",
   "execution_count": 74,
   "metadata": {},
   "outputs": [],
   "source": [
    "objets_by_region = objext_bar_region.groupby('gare_regionsncf_libelle')['gare_regionsncf_libelle'].count()"
   ]
  },
  {
   "cell_type": "code",
   "execution_count": 81,
   "metadata": {},
   "outputs": [],
   "source": [
    "objets_by_region.to_csv(\"../CSV/objects_par_region.csv\")"
   ]
  },
  {
   "cell_type": "code",
   "execution_count": 79,
   "metadata": {},
   "outputs": [],
   "source": [
    "objets_by_region = pd.read_csv(\"../CSV/objects_par_region.csv\")"
   ]
  },
  {
   "cell_type": "code",
   "execution_count": 80,
   "metadata": {},
   "outputs": [],
   "source": [
    "objets_by_region.columns = ['region', 'n']"
   ]
  },
  {
   "cell_type": "code",
   "execution_count": 123,
   "metadata": {},
   "outputs": [
    {
     "data": {
      "text/html": [
       "<div>\n",
       "<style scoped>\n",
       "    .dataframe tbody tr th:only-of-type {\n",
       "        vertical-align: middle;\n",
       "    }\n",
       "\n",
       "    .dataframe tbody tr th {\n",
       "        vertical-align: top;\n",
       "    }\n",
       "\n",
       "    .dataframe thead th {\n",
       "        text-align: right;\n",
       "    }\n",
       "</style>\n",
       "<table border=\"1\" class=\"dataframe\">\n",
       "  <thead>\n",
       "    <tr style=\"text-align: right;\">\n",
       "      <th></th>\n",
       "      <th>Unnamed: 0</th>\n",
       "      <th>recordid</th>\n",
       "      <th>gare_code_uic</th>\n",
       "      <th>type</th>\n",
       "      <th>nature</th>\n",
       "      <th>recordtype</th>\n",
       "      <th>uic_code</th>\n",
       "      <th>departement_libellemin</th>\n",
       "      <th>gare_regionsncf_libelle</th>\n",
       "      <th>gare_alias_libelle_noncontraint</th>\n",
       "      <th>adresse_cp</th>\n",
       "      <th>code_gare</th>\n",
       "      <th>lat</th>\n",
       "      <th>long</th>\n",
       "    </tr>\n",
       "    <tr>\n",
       "      <th>date</th>\n",
       "      <th></th>\n",
       "      <th></th>\n",
       "      <th></th>\n",
       "      <th></th>\n",
       "      <th></th>\n",
       "      <th></th>\n",
       "      <th></th>\n",
       "      <th></th>\n",
       "      <th></th>\n",
       "      <th></th>\n",
       "      <th></th>\n",
       "      <th></th>\n",
       "      <th></th>\n",
       "      <th></th>\n",
       "    </tr>\n",
       "  </thead>\n",
       "  <tbody>\n",
       "    <tr>\n",
       "      <th>2016-01-06 07:55:24+00:00</th>\n",
       "      <td>3</td>\n",
       "      <td>90432de5460f71c38de83362302235db545f018b</td>\n",
       "      <td>87746008</td>\n",
       "      <td>Optique</td>\n",
       "      <td>Lunettes en étui</td>\n",
       "      <td>Objet trouvé</td>\n",
       "      <td>87746008</td>\n",
       "      <td>Haute-Savoie</td>\n",
       "      <td>Auvergne-Rhône-Alpes</td>\n",
       "      <td>Annecy</td>\n",
       "      <td>74000</td>\n",
       "      <td>357</td>\n",
       "      <td>45.901965</td>\n",
       "      <td>6.121835</td>\n",
       "    </tr>\n",
       "    <tr>\n",
       "      <th>2016-01-06 08:32:13+00:00</th>\n",
       "      <td>4</td>\n",
       "      <td>c76a2ff3c986c9748db61f07687580ecb0af4b5a</td>\n",
       "      <td>87722025</td>\n",
       "      <td>Vélos, trottinettes, accessoires 2 roues</td>\n",
       "      <td>Casque (vélo, moto)</td>\n",
       "      <td>Objet trouvé</td>\n",
       "      <td>87722025</td>\n",
       "      <td>Rhône</td>\n",
       "      <td>Auvergne-Rhône-Alpes</td>\n",
       "      <td>Lyon Perrache</td>\n",
       "      <td>69286</td>\n",
       "      <td>553</td>\n",
       "      <td>45.748476</td>\n",
       "      <td>4.825733</td>\n",
       "    </tr>\n",
       "    <tr>\n",
       "      <th>2016-01-06 08:33:19+00:00</th>\n",
       "      <td>5</td>\n",
       "      <td>cf34554fbe00a0ef4fc71ee154020cac5fad2452</td>\n",
       "      <td>87317586</td>\n",
       "      <td>Appareils électroniques, informatiques, appare...</td>\n",
       "      <td>Téléphone portable</td>\n",
       "      <td>Objet trouvé</td>\n",
       "      <td>87317586</td>\n",
       "      <td>Pas-de-Calais</td>\n",
       "      <td>Hauts-de-France</td>\n",
       "      <td>Boulogne-sur-Mer</td>\n",
       "      <td>62200</td>\n",
       "      <td>2210</td>\n",
       "      <td>50.715700</td>\n",
       "      <td>1.609640</td>\n",
       "    </tr>\n",
       "    <tr>\n",
       "      <th>2016-01-06 08:34:26+00:00</th>\n",
       "      <td>6</td>\n",
       "      <td>eb010515dbb542ad116fe9bce680231818cdccb3</td>\n",
       "      <td>87722025</td>\n",
       "      <td>Bagagerie: sacs, valises, cartables</td>\n",
       "      <td>Sac d'enseigne (plastique, papier, …)</td>\n",
       "      <td>Objet trouvé</td>\n",
       "      <td>87722025</td>\n",
       "      <td>Rhône</td>\n",
       "      <td>Auvergne-Rhône-Alpes</td>\n",
       "      <td>Lyon Perrache</td>\n",
       "      <td>69286</td>\n",
       "      <td>553</td>\n",
       "      <td>45.748476</td>\n",
       "      <td>4.825733</td>\n",
       "    </tr>\n",
       "    <tr>\n",
       "      <th>2016-01-06 08:40:26+00:00</th>\n",
       "      <td>8</td>\n",
       "      <td>48ddd8bf36b90301c0a89f111004934fd5799281</td>\n",
       "      <td>87722025</td>\n",
       "      <td>Bagagerie: sacs, valises, cartables</td>\n",
       "      <td>Sac d'enseigne (plastique, papier, …)</td>\n",
       "      <td>Objet trouvé</td>\n",
       "      <td>87722025</td>\n",
       "      <td>Rhône</td>\n",
       "      <td>Auvergne-Rhône-Alpes</td>\n",
       "      <td>Lyon Perrache</td>\n",
       "      <td>69286</td>\n",
       "      <td>553</td>\n",
       "      <td>45.748476</td>\n",
       "      <td>4.825733</td>\n",
       "    </tr>\n",
       "    <tr>\n",
       "      <th>...</th>\n",
       "      <td>...</td>\n",
       "      <td>...</td>\n",
       "      <td>...</td>\n",
       "      <td>...</td>\n",
       "      <td>...</td>\n",
       "      <td>...</td>\n",
       "      <td>...</td>\n",
       "      <td>...</td>\n",
       "      <td>...</td>\n",
       "      <td>...</td>\n",
       "      <td>...</td>\n",
       "      <td>...</td>\n",
       "      <td>...</td>\n",
       "      <td>...</td>\n",
       "    </tr>\n",
       "    <tr>\n",
       "      <th>2021-12-31 16:11:03+00:00</th>\n",
       "      <td>481294</td>\n",
       "      <td>ad6947926569cab29d0a06b0424bd2eb9e86274a</td>\n",
       "      <td>87271494</td>\n",
       "      <td>Bagagerie: sacs, valises, cartables</td>\n",
       "      <td>Valise, sac sur roulettes</td>\n",
       "      <td>Objet trouvé</td>\n",
       "      <td>87271494</td>\n",
       "      <td>Val-d'Oise</td>\n",
       "      <td>Île-de-France</td>\n",
       "      <td>Aéroport Charles de Gaulle 2 TGV</td>\n",
       "      <td>95716</td>\n",
       "      <td>2541</td>\n",
       "      <td>49.003652</td>\n",
       "      <td>2.570892</td>\n",
       "    </tr>\n",
       "    <tr>\n",
       "      <th>2021-12-31 16:35:25+00:00</th>\n",
       "      <td>481297</td>\n",
       "      <td>fee5e9002e275fc65800701143912b8d6e37e211</td>\n",
       "      <td>87686006</td>\n",
       "      <td>Appareils électroniques, informatiques, appare...</td>\n",
       "      <td>Téléphone portable</td>\n",
       "      <td>Objet trouvé</td>\n",
       "      <td>87686006</td>\n",
       "      <td>Paris</td>\n",
       "      <td>Île-de-France</td>\n",
       "      <td>Paris Gare de Lyon</td>\n",
       "      <td>75012</td>\n",
       "      <td>753</td>\n",
       "      <td>48.844888</td>\n",
       "      <td>2.373520</td>\n",
       "    </tr>\n",
       "    <tr>\n",
       "      <th>2021-12-31 16:59:39+00:00</th>\n",
       "      <td>481298</td>\n",
       "      <td>ef1f506126b1f9c11ef5bad8bd08666fa7c0e970</td>\n",
       "      <td>87686006</td>\n",
       "      <td>Bagagerie: sacs, valises, cartables</td>\n",
       "      <td>Sac à dos</td>\n",
       "      <td>Objet trouvé</td>\n",
       "      <td>87686006</td>\n",
       "      <td>Paris</td>\n",
       "      <td>Île-de-France</td>\n",
       "      <td>Paris Gare de Lyon</td>\n",
       "      <td>75012</td>\n",
       "      <td>753</td>\n",
       "      <td>48.844888</td>\n",
       "      <td>2.373520</td>\n",
       "    </tr>\n",
       "    <tr>\n",
       "      <th>2021-12-31 17:02:32+00:00</th>\n",
       "      <td>481299</td>\n",
       "      <td>9640315e51341e023ca6cebf39e762909cf56780</td>\n",
       "      <td>87773002</td>\n",
       "      <td>Porte-monnaie / portefeuille, argent, titres</td>\n",
       "      <td>Carte de crédit</td>\n",
       "      <td>Objet trouvé</td>\n",
       "      <td>87773002</td>\n",
       "      <td>Hérault</td>\n",
       "      <td>Occitanie</td>\n",
       "      <td>Montpellier Saint-Roch</td>\n",
       "      <td>34011</td>\n",
       "      <td>130</td>\n",
       "      <td>43.604738</td>\n",
       "      <td>3.880674</td>\n",
       "    </tr>\n",
       "    <tr>\n",
       "      <th>2021-12-31 18:14:11+00:00</th>\n",
       "      <td>481300</td>\n",
       "      <td>354dc14fc16948959379af14062d1be9a5a82b8a</td>\n",
       "      <td>87113001</td>\n",
       "      <td>Bagagerie: sacs, valises, cartables</td>\n",
       "      <td>Sac à dos</td>\n",
       "      <td>Objet trouvé</td>\n",
       "      <td>87113001</td>\n",
       "      <td>Paris</td>\n",
       "      <td>Île-de-France</td>\n",
       "      <td>Paris Est</td>\n",
       "      <td>75010</td>\n",
       "      <td>3070</td>\n",
       "      <td>48.876742</td>\n",
       "      <td>2.358424</td>\n",
       "    </tr>\n",
       "  </tbody>\n",
       "</table>\n",
       "<p>332911 rows × 14 columns</p>\n",
       "</div>"
      ],
      "text/plain": [
       "                           Unnamed: 0  \\\n",
       "date                                    \n",
       "2016-01-06 07:55:24+00:00           3   \n",
       "2016-01-06 08:32:13+00:00           4   \n",
       "2016-01-06 08:33:19+00:00           5   \n",
       "2016-01-06 08:34:26+00:00           6   \n",
       "2016-01-06 08:40:26+00:00           8   \n",
       "...                               ...   \n",
       "2021-12-31 16:11:03+00:00      481294   \n",
       "2021-12-31 16:35:25+00:00      481297   \n",
       "2021-12-31 16:59:39+00:00      481298   \n",
       "2021-12-31 17:02:32+00:00      481299   \n",
       "2021-12-31 18:14:11+00:00      481300   \n",
       "\n",
       "                                                           recordid  \\\n",
       "date                                                                  \n",
       "2016-01-06 07:55:24+00:00  90432de5460f71c38de83362302235db545f018b   \n",
       "2016-01-06 08:32:13+00:00  c76a2ff3c986c9748db61f07687580ecb0af4b5a   \n",
       "2016-01-06 08:33:19+00:00  cf34554fbe00a0ef4fc71ee154020cac5fad2452   \n",
       "2016-01-06 08:34:26+00:00  eb010515dbb542ad116fe9bce680231818cdccb3   \n",
       "2016-01-06 08:40:26+00:00  48ddd8bf36b90301c0a89f111004934fd5799281   \n",
       "...                                                             ...   \n",
       "2021-12-31 16:11:03+00:00  ad6947926569cab29d0a06b0424bd2eb9e86274a   \n",
       "2021-12-31 16:35:25+00:00  fee5e9002e275fc65800701143912b8d6e37e211   \n",
       "2021-12-31 16:59:39+00:00  ef1f506126b1f9c11ef5bad8bd08666fa7c0e970   \n",
       "2021-12-31 17:02:32+00:00  9640315e51341e023ca6cebf39e762909cf56780   \n",
       "2021-12-31 18:14:11+00:00  354dc14fc16948959379af14062d1be9a5a82b8a   \n",
       "\n",
       "                           gare_code_uic  \\\n",
       "date                                       \n",
       "2016-01-06 07:55:24+00:00       87746008   \n",
       "2016-01-06 08:32:13+00:00       87722025   \n",
       "2016-01-06 08:33:19+00:00       87317586   \n",
       "2016-01-06 08:34:26+00:00       87722025   \n",
       "2016-01-06 08:40:26+00:00       87722025   \n",
       "...                                  ...   \n",
       "2021-12-31 16:11:03+00:00       87271494   \n",
       "2021-12-31 16:35:25+00:00       87686006   \n",
       "2021-12-31 16:59:39+00:00       87686006   \n",
       "2021-12-31 17:02:32+00:00       87773002   \n",
       "2021-12-31 18:14:11+00:00       87113001   \n",
       "\n",
       "                                                                        type  \\\n",
       "date                                                                           \n",
       "2016-01-06 07:55:24+00:00                                            Optique   \n",
       "2016-01-06 08:32:13+00:00           Vélos, trottinettes, accessoires 2 roues   \n",
       "2016-01-06 08:33:19+00:00  Appareils électroniques, informatiques, appare...   \n",
       "2016-01-06 08:34:26+00:00                Bagagerie: sacs, valises, cartables   \n",
       "2016-01-06 08:40:26+00:00                Bagagerie: sacs, valises, cartables   \n",
       "...                                                                      ...   \n",
       "2021-12-31 16:11:03+00:00                Bagagerie: sacs, valises, cartables   \n",
       "2021-12-31 16:35:25+00:00  Appareils électroniques, informatiques, appare...   \n",
       "2021-12-31 16:59:39+00:00                Bagagerie: sacs, valises, cartables   \n",
       "2021-12-31 17:02:32+00:00       Porte-monnaie / portefeuille, argent, titres   \n",
       "2021-12-31 18:14:11+00:00                Bagagerie: sacs, valises, cartables   \n",
       "\n",
       "                                                          nature  \\\n",
       "date                                                               \n",
       "2016-01-06 07:55:24+00:00                       Lunettes en étui   \n",
       "2016-01-06 08:32:13+00:00                    Casque (vélo, moto)   \n",
       "2016-01-06 08:33:19+00:00                     Téléphone portable   \n",
       "2016-01-06 08:34:26+00:00  Sac d'enseigne (plastique, papier, …)   \n",
       "2016-01-06 08:40:26+00:00  Sac d'enseigne (plastique, papier, …)   \n",
       "...                                                          ...   \n",
       "2021-12-31 16:11:03+00:00              Valise, sac sur roulettes   \n",
       "2021-12-31 16:35:25+00:00                     Téléphone portable   \n",
       "2021-12-31 16:59:39+00:00                              Sac à dos   \n",
       "2021-12-31 17:02:32+00:00                        Carte de crédit   \n",
       "2021-12-31 18:14:11+00:00                              Sac à dos   \n",
       "\n",
       "                             recordtype  uic_code departement_libellemin  \\\n",
       "date                                                                       \n",
       "2016-01-06 07:55:24+00:00  Objet trouvé  87746008           Haute-Savoie   \n",
       "2016-01-06 08:32:13+00:00  Objet trouvé  87722025                  Rhône   \n",
       "2016-01-06 08:33:19+00:00  Objet trouvé  87317586          Pas-de-Calais   \n",
       "2016-01-06 08:34:26+00:00  Objet trouvé  87722025                  Rhône   \n",
       "2016-01-06 08:40:26+00:00  Objet trouvé  87722025                  Rhône   \n",
       "...                                 ...       ...                    ...   \n",
       "2021-12-31 16:11:03+00:00  Objet trouvé  87271494             Val-d'Oise   \n",
       "2021-12-31 16:35:25+00:00  Objet trouvé  87686006                  Paris   \n",
       "2021-12-31 16:59:39+00:00  Objet trouvé  87686006                  Paris   \n",
       "2021-12-31 17:02:32+00:00  Objet trouvé  87773002                Hérault   \n",
       "2021-12-31 18:14:11+00:00  Objet trouvé  87113001                  Paris   \n",
       "\n",
       "                          gare_regionsncf_libelle  \\\n",
       "date                                                \n",
       "2016-01-06 07:55:24+00:00    Auvergne-Rhône-Alpes   \n",
       "2016-01-06 08:32:13+00:00    Auvergne-Rhône-Alpes   \n",
       "2016-01-06 08:33:19+00:00         Hauts-de-France   \n",
       "2016-01-06 08:34:26+00:00    Auvergne-Rhône-Alpes   \n",
       "2016-01-06 08:40:26+00:00    Auvergne-Rhône-Alpes   \n",
       "...                                           ...   \n",
       "2021-12-31 16:11:03+00:00           Île-de-France   \n",
       "2021-12-31 16:35:25+00:00           Île-de-France   \n",
       "2021-12-31 16:59:39+00:00           Île-de-France   \n",
       "2021-12-31 17:02:32+00:00               Occitanie   \n",
       "2021-12-31 18:14:11+00:00           Île-de-France   \n",
       "\n",
       "                            gare_alias_libelle_noncontraint  adresse_cp  \\\n",
       "date                                                                      \n",
       "2016-01-06 07:55:24+00:00                            Annecy       74000   \n",
       "2016-01-06 08:32:13+00:00                     Lyon Perrache       69286   \n",
       "2016-01-06 08:33:19+00:00                  Boulogne-sur-Mer       62200   \n",
       "2016-01-06 08:34:26+00:00                     Lyon Perrache       69286   \n",
       "2016-01-06 08:40:26+00:00                     Lyon Perrache       69286   \n",
       "...                                                     ...         ...   \n",
       "2021-12-31 16:11:03+00:00  Aéroport Charles de Gaulle 2 TGV       95716   \n",
       "2021-12-31 16:35:25+00:00                Paris Gare de Lyon       75012   \n",
       "2021-12-31 16:59:39+00:00                Paris Gare de Lyon       75012   \n",
       "2021-12-31 17:02:32+00:00            Montpellier Saint-Roch       34011   \n",
       "2021-12-31 18:14:11+00:00                         Paris Est       75010   \n",
       "\n",
       "                           code_gare        lat      long  \n",
       "date                                                       \n",
       "2016-01-06 07:55:24+00:00        357  45.901965  6.121835  \n",
       "2016-01-06 08:32:13+00:00        553  45.748476  4.825733  \n",
       "2016-01-06 08:33:19+00:00       2210  50.715700  1.609640  \n",
       "2016-01-06 08:34:26+00:00        553  45.748476  4.825733  \n",
       "2016-01-06 08:40:26+00:00        553  45.748476  4.825733  \n",
       "...                              ...        ...       ...  \n",
       "2021-12-31 16:11:03+00:00       2541  49.003652  2.570892  \n",
       "2021-12-31 16:35:25+00:00        753  48.844888  2.373520  \n",
       "2021-12-31 16:59:39+00:00        753  48.844888  2.373520  \n",
       "2021-12-31 17:02:32+00:00        130  43.604738  3.880674  \n",
       "2021-12-31 18:14:11+00:00       3070  48.876742  2.358424  \n",
       "\n",
       "[332911 rows x 14 columns]"
      ]
     },
     "execution_count": 123,
     "metadata": {},
     "output_type": "execute_result"
    }
   ],
   "source": [
    "Merge_obects_gare = pd.read_csv(\"../CSV/ALL_objects_gares.csv\")\n",
    "Merge_obects_gare['date'] = pd.to_datetime(Merge_obects_gare['date'])\n",
    "Merge_obects_gare.set_index('date', inplace=True)\n",
    "Merge_obects_gare"
   ]
  },
  {
   "cell_type": "code",
   "execution_count": null,
   "metadata": {},
   "outputs": [],
   "source": []
  },
  {
   "cell_type": "code",
   "execution_count": 132,
   "metadata": {},
   "outputs": [
    {
     "data": {
      "text/html": [
       "<div>\n",
       "<style scoped>\n",
       "    .dataframe tbody tr th:only-of-type {\n",
       "        vertical-align: middle;\n",
       "    }\n",
       "\n",
       "    .dataframe tbody tr th {\n",
       "        vertical-align: top;\n",
       "    }\n",
       "\n",
       "    .dataframe thead th {\n",
       "        text-align: right;\n",
       "    }\n",
       "</style>\n",
       "<table border=\"1\" class=\"dataframe\">\n",
       "  <thead>\n",
       "    <tr style=\"text-align: right;\">\n",
       "      <th></th>\n",
       "      <th>region</th>\n",
       "      <th>date</th>\n",
       "      <th>n</th>\n",
       "    </tr>\n",
       "  </thead>\n",
       "  <tbody>\n",
       "    <tr>\n",
       "      <th>0</th>\n",
       "      <td>Auvergne-Rhône-Alpes</td>\n",
       "      <td>2016-01-01</td>\n",
       "      <td>6</td>\n",
       "    </tr>\n",
       "    <tr>\n",
       "      <th>1</th>\n",
       "      <td>Auvergne-Rhône-Alpes</td>\n",
       "      <td>2016-01-02</td>\n",
       "      <td>11</td>\n",
       "    </tr>\n",
       "    <tr>\n",
       "      <th>2</th>\n",
       "      <td>Auvergne-Rhône-Alpes</td>\n",
       "      <td>2016-01-03</td>\n",
       "      <td>10</td>\n",
       "    </tr>\n",
       "    <tr>\n",
       "      <th>3</th>\n",
       "      <td>Auvergne-Rhône-Alpes</td>\n",
       "      <td>2016-01-04</td>\n",
       "      <td>57</td>\n",
       "    </tr>\n",
       "    <tr>\n",
       "      <th>4</th>\n",
       "      <td>Auvergne-Rhône-Alpes</td>\n",
       "      <td>2016-01-05</td>\n",
       "      <td>20</td>\n",
       "    </tr>\n",
       "    <tr>\n",
       "      <th>...</th>\n",
       "      <td>...</td>\n",
       "      <td>...</td>\n",
       "      <td>...</td>\n",
       "    </tr>\n",
       "    <tr>\n",
       "      <th>26294</th>\n",
       "      <td>Île-de-France</td>\n",
       "      <td>2021-12-27</td>\n",
       "      <td>52</td>\n",
       "    </tr>\n",
       "    <tr>\n",
       "      <th>26295</th>\n",
       "      <td>Île-de-France</td>\n",
       "      <td>2021-12-28</td>\n",
       "      <td>36</td>\n",
       "    </tr>\n",
       "    <tr>\n",
       "      <th>26296</th>\n",
       "      <td>Île-de-France</td>\n",
       "      <td>2021-12-29</td>\n",
       "      <td>33</td>\n",
       "    </tr>\n",
       "    <tr>\n",
       "      <th>26297</th>\n",
       "      <td>Île-de-France</td>\n",
       "      <td>2021-12-30</td>\n",
       "      <td>41</td>\n",
       "    </tr>\n",
       "    <tr>\n",
       "      <th>26298</th>\n",
       "      <td>Île-de-France</td>\n",
       "      <td>2021-12-31</td>\n",
       "      <td>42</td>\n",
       "    </tr>\n",
       "  </tbody>\n",
       "</table>\n",
       "<p>26299 rows × 3 columns</p>\n",
       "</div>"
      ],
      "text/plain": [
       "                     region        date   n\n",
       "0      Auvergne-Rhône-Alpes  2016-01-01   6\n",
       "1      Auvergne-Rhône-Alpes  2016-01-02  11\n",
       "2      Auvergne-Rhône-Alpes  2016-01-03  10\n",
       "3      Auvergne-Rhône-Alpes  2016-01-04  57\n",
       "4      Auvergne-Rhône-Alpes  2016-01-05  20\n",
       "...                     ...         ...  ..\n",
       "26294         Île-de-France  2021-12-27  52\n",
       "26295         Île-de-France  2021-12-28  36\n",
       "26296         Île-de-France  2021-12-29  33\n",
       "26297         Île-de-France  2021-12-30  41\n",
       "26298         Île-de-France  2021-12-31  42\n",
       "\n",
       "[26299 rows x 3 columns]"
      ]
     },
     "execution_count": 132,
     "metadata": {},
     "output_type": "execute_result"
    }
   ],
   "source": [
    "objet_region_by_day = Merge_obects_gare.groupby('gare_regionsncf_libelle').resample('D').count()\n",
    "objet_region_by_day = objet_region_by_day[['Unnamed: 0']]\n",
    "objet_region_by_day.columns = ['n']\n",
    "objet_region_by_day = objet_region_by_day.reset_index()\n",
    "objet_region_by_day.columns = ['region', 'date', 'n']\n",
    "objet_region_by_day['date'] = objet_region_by_day['date'].dt.date\n",
    "objet_region_by_day.to_csv('../CSV/objects_by_region_by_day.csv')\n",
    "objet_region_by_day"
   ]
  },
  {
   "cell_type": "code",
   "execution_count": 140,
   "metadata": {},
   "outputs": [
    {
     "data": {
      "text/html": [
       "<div>\n",
       "<style scoped>\n",
       "    .dataframe tbody tr th:only-of-type {\n",
       "        vertical-align: middle;\n",
       "    }\n",
       "\n",
       "    .dataframe tbody tr th {\n",
       "        vertical-align: top;\n",
       "    }\n",
       "\n",
       "    .dataframe thead th {\n",
       "        text-align: right;\n",
       "    }\n",
       "</style>\n",
       "<table border=\"1\" class=\"dataframe\">\n",
       "  <thead>\n",
       "    <tr style=\"text-align: right;\">\n",
       "      <th></th>\n",
       "      <th>region</th>\n",
       "      <th>date</th>\n",
       "      <th>n</th>\n",
       "    </tr>\n",
       "  </thead>\n",
       "  <tbody>\n",
       "    <tr>\n",
       "      <th>0</th>\n",
       "      <td>Auvergne-Rhône-Alpes</td>\n",
       "      <td>2016-01-03</td>\n",
       "      <td>27</td>\n",
       "    </tr>\n",
       "    <tr>\n",
       "      <th>1</th>\n",
       "      <td>Auvergne-Rhône-Alpes</td>\n",
       "      <td>2016-01-10</td>\n",
       "      <td>174</td>\n",
       "    </tr>\n",
       "    <tr>\n",
       "      <th>2</th>\n",
       "      <td>Auvergne-Rhône-Alpes</td>\n",
       "      <td>2016-01-17</td>\n",
       "      <td>135</td>\n",
       "    </tr>\n",
       "    <tr>\n",
       "      <th>3</th>\n",
       "      <td>Auvergne-Rhône-Alpes</td>\n",
       "      <td>2016-01-24</td>\n",
       "      <td>145</td>\n",
       "    </tr>\n",
       "    <tr>\n",
       "      <th>4</th>\n",
       "      <td>Auvergne-Rhône-Alpes</td>\n",
       "      <td>2016-01-31</td>\n",
       "      <td>156</td>\n",
       "    </tr>\n",
       "    <tr>\n",
       "      <th>...</th>\n",
       "      <td>...</td>\n",
       "      <td>...</td>\n",
       "      <td>...</td>\n",
       "    </tr>\n",
       "    <tr>\n",
       "      <th>3762</th>\n",
       "      <td>Île-de-France</td>\n",
       "      <td>2021-12-05</td>\n",
       "      <td>229</td>\n",
       "    </tr>\n",
       "    <tr>\n",
       "      <th>3763</th>\n",
       "      <td>Île-de-France</td>\n",
       "      <td>2021-12-12</td>\n",
       "      <td>282</td>\n",
       "    </tr>\n",
       "    <tr>\n",
       "      <th>3764</th>\n",
       "      <td>Île-de-France</td>\n",
       "      <td>2021-12-19</td>\n",
       "      <td>297</td>\n",
       "    </tr>\n",
       "    <tr>\n",
       "      <th>3765</th>\n",
       "      <td>Île-de-France</td>\n",
       "      <td>2021-12-26</td>\n",
       "      <td>202</td>\n",
       "    </tr>\n",
       "    <tr>\n",
       "      <th>3766</th>\n",
       "      <td>Île-de-France</td>\n",
       "      <td>2022-01-02</td>\n",
       "      <td>204</td>\n",
       "    </tr>\n",
       "  </tbody>\n",
       "</table>\n",
       "<p>3767 rows × 3 columns</p>\n",
       "</div>"
      ],
      "text/plain": [
       "                    region        date    n\n",
       "0     Auvergne-Rhône-Alpes  2016-01-03   27\n",
       "1     Auvergne-Rhône-Alpes  2016-01-10  174\n",
       "2     Auvergne-Rhône-Alpes  2016-01-17  135\n",
       "3     Auvergne-Rhône-Alpes  2016-01-24  145\n",
       "4     Auvergne-Rhône-Alpes  2016-01-31  156\n",
       "...                    ...         ...  ...\n",
       "3762         Île-de-France  2021-12-05  229\n",
       "3763         Île-de-France  2021-12-12  282\n",
       "3764         Île-de-France  2021-12-19  297\n",
       "3765         Île-de-France  2021-12-26  202\n",
       "3766         Île-de-France  2022-01-02  204\n",
       "\n",
       "[3767 rows x 3 columns]"
      ]
     },
     "execution_count": 140,
     "metadata": {},
     "output_type": "execute_result"
    }
   ],
   "source": [
    "objet_region_by_week = Merge_obects_gare.groupby('gare_regionsncf_libelle').resample('W').count()\n",
    "objet_region_by_week = objet_region_by_week[['Unnamed: 0']]\n",
    "objet_region_by_week = objet_region_by_week.reset_index()\n",
    "objet_region_by_week.columns = ['region', 'date', 'n']\n",
    "objet_region_by_week['date'] = pd.to_datetime(objet_region_by_week['date'], errors='coerce')\n",
    "objet_region_by_week['date'] = objet_region_by_week['date'].dt.date\n",
    "objet_region_by_week.to_csv('../CSV/objects_by_region_by_week.csv')\n",
    "objet_region_by_week"
   ]
  },
  {
   "cell_type": "code",
   "execution_count": 143,
   "metadata": {},
   "outputs": [],
   "source": [
    "objet_region_by_month = Merge_obects_gare.groupby('gare_regionsncf_libelle').resample('M').count()\n",
    "objet_region_by_month = objet_region_by_month[['Unnamed: 0']]\n",
    "objet_region_by_month = objet_region_by_month.reset_index()\n",
    "objet_region_by_month.columns = ['region', 'date', 'n']\n",
    "objet_region_by_month['date'] = pd.to_datetime(objet_region_by_month['date'], errors='coerce')\n",
    "objet_region_by_month['date'] = objet_region_by_month['date'].dt.date\n",
    "objet_region_by_month.to_csv('../CSV/objects_by_region_by_month.csv')"
   ]
  },
  {
   "cell_type": "code",
   "execution_count": 146,
   "metadata": {},
   "outputs": [],
   "source": [
    "objet_region_by_year = Merge_obects_gare.groupby('gare_regionsncf_libelle').resample('M').count()\n",
    "objet_region_by_year = objet_region_by_year[['Unnamed: 0']]\n",
    "objet_region_by_year = objet_region_by_year.reset_index()\n",
    "objet_region_by_year.columns = ['region', 'date', 'n']\n",
    "objet_region_by_year['date'] = pd.to_datetime(objet_region_by_year['date'], errors='coerce')\n",
    "objet_region_by_year['date'] = objet_region_by_year['date'].dt.date\n",
    "objet_region_by_year.to_csv('../CSV/objects_by_region_by_year.csv')"
   ]
  },
  {
   "cell_type": "code",
   "execution_count": 147,
   "metadata": {},
   "outputs": [],
   "source": [
    "objet_region_by_quarter = Merge_obects_gare.groupby('gare_regionsncf_libelle').resample('Q').count()\n",
    "objet_region_by_quarter = objet_region_by_quarter[['Unnamed: 0']]\n",
    "objet_region_by_quarter = objet_region_by_quarter.reset_index()\n",
    "objet_region_by_quarter.columns = ['region', 'date', 'n']\n",
    "objet_region_by_quarter['date'] = pd.to_datetime(objet_region_by_quarter['date'], errors='coerce')\n",
    "objet_region_by_quarter['date'] = objet_region_by_quarter['date'].dt.date\n",
    "objet_region_by_quarter.to_csv('../CSV/objects_by_region_by_quarter.csv')\n"
   ]
  },
  {
   "cell_type": "code",
   "execution_count": null,
   "metadata": {},
   "outputs": [],
   "source": []
  },
  {
   "cell_type": "code",
   "execution_count": null,
   "metadata": {},
   "outputs": [],
   "source": []
  },
  {
   "cell_type": "code",
   "execution_count": null,
   "metadata": {},
   "outputs": [],
   "source": []
  },
  {
   "cell_type": "code",
   "execution_count": null,
   "metadata": {},
   "outputs": [],
   "source": []
  },
  {
   "cell_type": "code",
   "execution_count": 111,
   "metadata": {},
   "outputs": [
    {
     "data": {
      "text/html": [
       "<div>\n",
       "<style scoped>\n",
       "    .dataframe tbody tr th:only-of-type {\n",
       "        vertical-align: middle;\n",
       "    }\n",
       "\n",
       "    .dataframe tbody tr th {\n",
       "        vertical-align: top;\n",
       "    }\n",
       "\n",
       "    .dataframe thead th {\n",
       "        text-align: right;\n",
       "    }\n",
       "</style>\n",
       "<table border=\"1\" class=\"dataframe\">\n",
       "  <thead>\n",
       "    <tr style=\"text-align: right;\">\n",
       "      <th></th>\n",
       "      <th>gare_regionsncf_libelle</th>\n",
       "      <th>date</th>\n",
       "      <th>lat</th>\n",
       "      <th>long</th>\n",
       "    </tr>\n",
       "  </thead>\n",
       "  <tbody>\n",
       "    <tr>\n",
       "      <th>0</th>\n",
       "      <td>Auvergne-Rhône-Alpes</td>\n",
       "      <td>2016-01-03</td>\n",
       "      <td>1236.864503</td>\n",
       "      <td>136.619929</td>\n",
       "    </tr>\n",
       "    <tr>\n",
       "      <th>1</th>\n",
       "      <td>Auvergne-Rhône-Alpes</td>\n",
       "      <td>2016-01-10</td>\n",
       "      <td>7957.584631</td>\n",
       "      <td>885.376488</td>\n",
       "    </tr>\n",
       "    <tr>\n",
       "      <th>2</th>\n",
       "      <td>Auvergne-Rhône-Alpes</td>\n",
       "      <td>2016-01-17</td>\n",
       "      <td>6172.157657</td>\n",
       "      <td>703.319337</td>\n",
       "    </tr>\n",
       "    <tr>\n",
       "      <th>3</th>\n",
       "      <td>Auvergne-Rhône-Alpes</td>\n",
       "      <td>2016-01-24</td>\n",
       "      <td>6627.548401</td>\n",
       "      <td>749.537776</td>\n",
       "    </tr>\n",
       "    <tr>\n",
       "      <th>4</th>\n",
       "      <td>Auvergne-Rhône-Alpes</td>\n",
       "      <td>2016-01-31</td>\n",
       "      <td>7133.906279</td>\n",
       "      <td>793.905438</td>\n",
       "    </tr>\n",
       "    <tr>\n",
       "      <th>...</th>\n",
       "      <td>...</td>\n",
       "      <td>...</td>\n",
       "      <td>...</td>\n",
       "      <td>...</td>\n",
       "    </tr>\n",
       "    <tr>\n",
       "      <th>3762</th>\n",
       "      <td>Île-de-France</td>\n",
       "      <td>2021-12-05</td>\n",
       "      <td>11190.019603</td>\n",
       "      <td>546.433819</td>\n",
       "    </tr>\n",
       "    <tr>\n",
       "      <th>3763</th>\n",
       "      <td>Île-de-France</td>\n",
       "      <td>2021-12-12</td>\n",
       "      <td>13781.808971</td>\n",
       "      <td>662.066385</td>\n",
       "    </tr>\n",
       "    <tr>\n",
       "      <th>3764</th>\n",
       "      <td>Île-de-France</td>\n",
       "      <td>2021-12-19</td>\n",
       "      <td>14513.936266</td>\n",
       "      <td>703.558816</td>\n",
       "    </tr>\n",
       "    <tr>\n",
       "      <th>3765</th>\n",
       "      <td>Île-de-France</td>\n",
       "      <td>2021-12-26</td>\n",
       "      <td>9869.932971</td>\n",
       "      <td>477.567313</td>\n",
       "    </tr>\n",
       "    <tr>\n",
       "      <th>3766</th>\n",
       "      <td>Île-de-France</td>\n",
       "      <td>2022-01-02</td>\n",
       "      <td>9967.789926</td>\n",
       "      <td>484.575408</td>\n",
       "    </tr>\n",
       "  </tbody>\n",
       "</table>\n",
       "<p>3767 rows × 4 columns</p>\n",
       "</div>"
      ],
      "text/plain": [
       "     gare_regionsncf_libelle        date           lat        long\n",
       "0       Auvergne-Rhône-Alpes  2016-01-03   1236.864503  136.619929\n",
       "1       Auvergne-Rhône-Alpes  2016-01-10   7957.584631  885.376488\n",
       "2       Auvergne-Rhône-Alpes  2016-01-17   6172.157657  703.319337\n",
       "3       Auvergne-Rhône-Alpes  2016-01-24   6627.548401  749.537776\n",
       "4       Auvergne-Rhône-Alpes  2016-01-31   7133.906279  793.905438\n",
       "...                      ...         ...           ...         ...\n",
       "3762           Île-de-France  2021-12-05  11190.019603  546.433819\n",
       "3763           Île-de-France  2021-12-12  13781.808971  662.066385\n",
       "3764           Île-de-France  2021-12-19  14513.936266  703.558816\n",
       "3765           Île-de-France  2021-12-26   9869.932971  477.567313\n",
       "3766           Île-de-France  2022-01-02   9967.789926  484.575408\n",
       "\n",
       "[3767 rows x 4 columns]"
      ]
     },
     "execution_count": 111,
     "metadata": {},
     "output_type": "execute_result"
    }
   ],
   "source": [
    "objet_region_by_week = Merge_obects_gare.groupby('gare_regionsncf_libelle').resample('W').sum().reset_index()\n",
    "objet_region_by_week['date'] = objet_region_by_week['date'].dt.date\n",
    "objet_region_by_week.to_csv(\"../CSV/objet_region_by_week.csv\")\n",
    "objet_region_by_week"
   ]
  },
  {
   "cell_type": "code",
   "execution_count": 116,
   "metadata": {},
   "outputs": [
    {
     "data": {
      "text/html": [
       "<div>\n",
       "<style scoped>\n",
       "    .dataframe tbody tr th:only-of-type {\n",
       "        vertical-align: middle;\n",
       "    }\n",
       "\n",
       "    .dataframe tbody tr th {\n",
       "        vertical-align: top;\n",
       "    }\n",
       "\n",
       "    .dataframe thead th {\n",
       "        text-align: right;\n",
       "    }\n",
       "</style>\n",
       "<table border=\"1\" class=\"dataframe\">\n",
       "  <thead>\n",
       "    <tr style=\"text-align: right;\">\n",
       "      <th></th>\n",
       "      <th>gare_regionsncf_libelle</th>\n",
       "      <th>date</th>\n",
       "      <th>lat</th>\n",
       "      <th>long</th>\n",
       "    </tr>\n",
       "  </thead>\n",
       "  <tbody>\n",
       "    <tr>\n",
       "      <th>0</th>\n",
       "      <td>Auvergne-Rhône-Alpes</td>\n",
       "      <td>2016-12-31</td>\n",
       "      <td>373487.384359</td>\n",
       "      <td>41559.476177</td>\n",
       "    </tr>\n",
       "    <tr>\n",
       "      <th>1</th>\n",
       "      <td>Auvergne-Rhône-Alpes</td>\n",
       "      <td>2017-12-31</td>\n",
       "      <td>372157.519292</td>\n",
       "      <td>40722.124231</td>\n",
       "    </tr>\n",
       "    <tr>\n",
       "      <th>2</th>\n",
       "      <td>Auvergne-Rhône-Alpes</td>\n",
       "      <td>2018-12-31</td>\n",
       "      <td>289816.426852</td>\n",
       "      <td>31585.641610</td>\n",
       "    </tr>\n",
       "    <tr>\n",
       "      <th>3</th>\n",
       "      <td>Auvergne-Rhône-Alpes</td>\n",
       "      <td>2019-12-31</td>\n",
       "      <td>306237.020434</td>\n",
       "      <td>33813.190187</td>\n",
       "    </tr>\n",
       "    <tr>\n",
       "      <th>4</th>\n",
       "      <td>Auvergne-Rhône-Alpes</td>\n",
       "      <td>2020-12-31</td>\n",
       "      <td>170629.756624</td>\n",
       "      <td>18901.316707</td>\n",
       "    </tr>\n",
       "    <tr>\n",
       "      <th>...</th>\n",
       "      <td>...</td>\n",
       "      <td>...</td>\n",
       "      <td>...</td>\n",
       "      <td>...</td>\n",
       "    </tr>\n",
       "    <tr>\n",
       "      <th>67</th>\n",
       "      <td>Île-de-France</td>\n",
       "      <td>2017-12-31</td>\n",
       "      <td>907596.119072</td>\n",
       "      <td>44167.646710</td>\n",
       "    </tr>\n",
       "    <tr>\n",
       "      <th>68</th>\n",
       "      <td>Île-de-France</td>\n",
       "      <td>2018-12-31</td>\n",
       "      <td>841647.180966</td>\n",
       "      <td>40891.963980</td>\n",
       "    </tr>\n",
       "    <tr>\n",
       "      <th>69</th>\n",
       "      <td>Île-de-France</td>\n",
       "      <td>2019-12-31</td>\n",
       "      <td>844580.718404</td>\n",
       "      <td>40989.375830</td>\n",
       "    </tr>\n",
       "    <tr>\n",
       "      <th>70</th>\n",
       "      <td>Île-de-France</td>\n",
       "      <td>2020-12-31</td>\n",
       "      <td>422436.635260</td>\n",
       "      <td>20512.732078</td>\n",
       "    </tr>\n",
       "    <tr>\n",
       "      <th>71</th>\n",
       "      <td>Île-de-France</td>\n",
       "      <td>2021-12-31</td>\n",
       "      <td>500771.376021</td>\n",
       "      <td>24349.324921</td>\n",
       "    </tr>\n",
       "  </tbody>\n",
       "</table>\n",
       "<p>72 rows × 4 columns</p>\n",
       "</div>"
      ],
      "text/plain": [
       "   gare_regionsncf_libelle        date            lat          long\n",
       "0     Auvergne-Rhône-Alpes  2016-12-31  373487.384359  41559.476177\n",
       "1     Auvergne-Rhône-Alpes  2017-12-31  372157.519292  40722.124231\n",
       "2     Auvergne-Rhône-Alpes  2018-12-31  289816.426852  31585.641610\n",
       "3     Auvergne-Rhône-Alpes  2019-12-31  306237.020434  33813.190187\n",
       "4     Auvergne-Rhône-Alpes  2020-12-31  170629.756624  18901.316707\n",
       "..                     ...         ...            ...           ...\n",
       "67           Île-de-France  2017-12-31  907596.119072  44167.646710\n",
       "68           Île-de-France  2018-12-31  841647.180966  40891.963980\n",
       "69           Île-de-France  2019-12-31  844580.718404  40989.375830\n",
       "70           Île-de-France  2020-12-31  422436.635260  20512.732078\n",
       "71           Île-de-France  2021-12-31  500771.376021  24349.324921\n",
       "\n",
       "[72 rows x 4 columns]"
      ]
     },
     "execution_count": 116,
     "metadata": {},
     "output_type": "execute_result"
    }
   ],
   "source": [
    "objet_region_by_year = Merge_obects_gare.groupby('gare_regionsncf_libelle').resample('Y').sum().reset_index()\n",
    "objet_region_by_year['date'] = objet_region_by_year['date'].dt.date\n",
    "objet_region_by_year.to_csv(\"../CSV/objet_region_by_year.csv\")\n",
    "objet_region_by_year"
   ]
  },
  {
   "cell_type": "code",
   "execution_count": 119,
   "metadata": {},
   "outputs": [
    {
     "ename": "ValueError",
     "evalue": "cannot insert gare_regionsncf_libelle, already exists",
     "output_type": "error",
     "traceback": [
      "\u001b[0;31m---------------------------------------------------------------------------\u001b[0m",
      "\u001b[0;31mValueError\u001b[0m                                Traceback (most recent call last)",
      "\u001b[1;32m/home/apprenant/Documents/MyLearning/API-SNCF/analyse/test_Emad.ipynb Cellule 30\u001b[0m in \u001b[0;36m<cell line: 1>\u001b[0;34m()\u001b[0m\n\u001b[0;32m----> <a href='vscode-notebook-cell:/home/apprenant/Documents/MyLearning/API-SNCF/analyse/test_Emad.ipynb#X52sZmlsZQ%3D%3D?line=0'>1</a>\u001b[0m objet_region_by_year \u001b[39m=\u001b[39m Merge_obects_gare\u001b[39m.\u001b[39;49mgroupby([\u001b[39m'\u001b[39;49m\u001b[39mgare_regionsncf_libelle\u001b[39;49m\u001b[39m'\u001b[39;49m])[\u001b[39m'\u001b[39;49m\u001b[39mgare_regionsncf_libelle\u001b[39;49m\u001b[39m'\u001b[39;49m]\u001b[39m.\u001b[39;49mresample(\u001b[39m'\u001b[39;49m\u001b[39mY\u001b[39;49m\u001b[39m'\u001b[39;49m)\u001b[39m.\u001b[39;49mcount()\u001b[39m.\u001b[39;49mreset_index()\n\u001b[1;32m      <a href='vscode-notebook-cell:/home/apprenant/Documents/MyLearning/API-SNCF/analyse/test_Emad.ipynb#X52sZmlsZQ%3D%3D?line=1'>2</a>\u001b[0m objet_region_by_year[\u001b[39m'\u001b[39m\u001b[39mdate\u001b[39m\u001b[39m'\u001b[39m] \u001b[39m=\u001b[39m objet_region_by_year[\u001b[39m'\u001b[39m\u001b[39mdate\u001b[39m\u001b[39m'\u001b[39m]\u001b[39m.\u001b[39mdt\u001b[39m.\u001b[39mdate\n\u001b[1;32m      <a href='vscode-notebook-cell:/home/apprenant/Documents/MyLearning/API-SNCF/analyse/test_Emad.ipynb#X52sZmlsZQ%3D%3D?line=2'>3</a>\u001b[0m objet_region_by_year\u001b[39m.\u001b[39mto_csv(\u001b[39m\"\u001b[39m\u001b[39m../CSV/objet_region_by_year.csv\u001b[39m\u001b[39m\"\u001b[39m)\n",
      "File \u001b[0;32m~/.local/lib/python3.10/site-packages/pandas/util/_decorators.py:311\u001b[0m, in \u001b[0;36mdeprecate_nonkeyword_arguments.<locals>.decorate.<locals>.wrapper\u001b[0;34m(*args, **kwargs)\u001b[0m\n\u001b[1;32m    305\u001b[0m \u001b[39mif\u001b[39;00m \u001b[39mlen\u001b[39m(args) \u001b[39m>\u001b[39m num_allow_args:\n\u001b[1;32m    306\u001b[0m     warnings\u001b[39m.\u001b[39mwarn(\n\u001b[1;32m    307\u001b[0m         msg\u001b[39m.\u001b[39mformat(arguments\u001b[39m=\u001b[39marguments),\n\u001b[1;32m    308\u001b[0m         \u001b[39mFutureWarning\u001b[39;00m,\n\u001b[1;32m    309\u001b[0m         stacklevel\u001b[39m=\u001b[39mstacklevel,\n\u001b[1;32m    310\u001b[0m     )\n\u001b[0;32m--> 311\u001b[0m \u001b[39mreturn\u001b[39;00m func(\u001b[39m*\u001b[39;49margs, \u001b[39m*\u001b[39;49m\u001b[39m*\u001b[39;49mkwargs)\n",
      "File \u001b[0;32m~/.local/lib/python3.10/site-packages/pandas/core/series.py:1494\u001b[0m, in \u001b[0;36mSeries.reset_index\u001b[0;34m(self, level, drop, name, inplace)\u001b[0m\n\u001b[1;32m   1491\u001b[0m         name \u001b[39m=\u001b[39m \u001b[39mself\u001b[39m\u001b[39m.\u001b[39mname\n\u001b[1;32m   1493\u001b[0m df \u001b[39m=\u001b[39m \u001b[39mself\u001b[39m\u001b[39m.\u001b[39mto_frame(name)\n\u001b[0;32m-> 1494\u001b[0m \u001b[39mreturn\u001b[39;00m df\u001b[39m.\u001b[39;49mreset_index(level\u001b[39m=\u001b[39;49mlevel, drop\u001b[39m=\u001b[39;49mdrop)\n",
      "File \u001b[0;32m~/.local/lib/python3.10/site-packages/pandas/util/_decorators.py:311\u001b[0m, in \u001b[0;36mdeprecate_nonkeyword_arguments.<locals>.decorate.<locals>.wrapper\u001b[0;34m(*args, **kwargs)\u001b[0m\n\u001b[1;32m    305\u001b[0m \u001b[39mif\u001b[39;00m \u001b[39mlen\u001b[39m(args) \u001b[39m>\u001b[39m num_allow_args:\n\u001b[1;32m    306\u001b[0m     warnings\u001b[39m.\u001b[39mwarn(\n\u001b[1;32m    307\u001b[0m         msg\u001b[39m.\u001b[39mformat(arguments\u001b[39m=\u001b[39marguments),\n\u001b[1;32m    308\u001b[0m         \u001b[39mFutureWarning\u001b[39;00m,\n\u001b[1;32m    309\u001b[0m         stacklevel\u001b[39m=\u001b[39mstacklevel,\n\u001b[1;32m    310\u001b[0m     )\n\u001b[0;32m--> 311\u001b[0m \u001b[39mreturn\u001b[39;00m func(\u001b[39m*\u001b[39;49margs, \u001b[39m*\u001b[39;49m\u001b[39m*\u001b[39;49mkwargs)\n",
      "File \u001b[0;32m~/.local/lib/python3.10/site-packages/pandas/core/frame.py:5839\u001b[0m, in \u001b[0;36mDataFrame.reset_index\u001b[0;34m(self, level, drop, inplace, col_level, col_fill)\u001b[0m\n\u001b[1;32m   5833\u001b[0m         \u001b[39mif\u001b[39;00m lab \u001b[39mis\u001b[39;00m \u001b[39mnot\u001b[39;00m \u001b[39mNone\u001b[39;00m:\n\u001b[1;32m   5834\u001b[0m             \u001b[39m# if we have the codes, extract the values with a mask\u001b[39;00m\n\u001b[1;32m   5835\u001b[0m             level_values \u001b[39m=\u001b[39m algorithms\u001b[39m.\u001b[39mtake(\n\u001b[1;32m   5836\u001b[0m                 level_values, lab, allow_fill\u001b[39m=\u001b[39m\u001b[39mTrue\u001b[39;00m, fill_value\u001b[39m=\u001b[39mlev\u001b[39m.\u001b[39m_na_value\n\u001b[1;32m   5837\u001b[0m             )\n\u001b[0;32m-> 5839\u001b[0m         new_obj\u001b[39m.\u001b[39;49minsert(\u001b[39m0\u001b[39;49m, name, level_values)\n\u001b[1;32m   5841\u001b[0m new_obj\u001b[39m.\u001b[39mindex \u001b[39m=\u001b[39m new_index\n\u001b[1;32m   5842\u001b[0m \u001b[39mif\u001b[39;00m \u001b[39mnot\u001b[39;00m inplace:\n",
      "File \u001b[0;32m~/.local/lib/python3.10/site-packages/pandas/core/frame.py:4440\u001b[0m, in \u001b[0;36mDataFrame.insert\u001b[0;34m(self, loc, column, value, allow_duplicates)\u001b[0m\n\u001b[1;32m   4434\u001b[0m     \u001b[39mraise\u001b[39;00m \u001b[39mValueError\u001b[39;00m(\n\u001b[1;32m   4435\u001b[0m         \u001b[39m\"\u001b[39m\u001b[39mCannot specify \u001b[39m\u001b[39m'\u001b[39m\u001b[39mallow_duplicates=True\u001b[39m\u001b[39m'\u001b[39m\u001b[39m when \u001b[39m\u001b[39m\"\u001b[39m\n\u001b[1;32m   4436\u001b[0m         \u001b[39m\"\u001b[39m\u001b[39m'\u001b[39m\u001b[39mself.flags.allows_duplicate_labels\u001b[39m\u001b[39m'\u001b[39m\u001b[39m is False.\u001b[39m\u001b[39m\"\u001b[39m\n\u001b[1;32m   4437\u001b[0m     )\n\u001b[1;32m   4438\u001b[0m \u001b[39mif\u001b[39;00m \u001b[39mnot\u001b[39;00m allow_duplicates \u001b[39mand\u001b[39;00m column \u001b[39min\u001b[39;00m \u001b[39mself\u001b[39m\u001b[39m.\u001b[39mcolumns:\n\u001b[1;32m   4439\u001b[0m     \u001b[39m# Should this be a different kind of error??\u001b[39;00m\n\u001b[0;32m-> 4440\u001b[0m     \u001b[39mraise\u001b[39;00m \u001b[39mValueError\u001b[39;00m(\u001b[39mf\u001b[39m\u001b[39m\"\u001b[39m\u001b[39mcannot insert \u001b[39m\u001b[39m{\u001b[39;00mcolumn\u001b[39m}\u001b[39;00m\u001b[39m, already exists\u001b[39m\u001b[39m\"\u001b[39m)\n\u001b[1;32m   4441\u001b[0m \u001b[39mif\u001b[39;00m \u001b[39mnot\u001b[39;00m \u001b[39misinstance\u001b[39m(loc, \u001b[39mint\u001b[39m):\n\u001b[1;32m   4442\u001b[0m     \u001b[39mraise\u001b[39;00m \u001b[39mTypeError\u001b[39;00m(\u001b[39m\"\u001b[39m\u001b[39mloc must be int\u001b[39m\u001b[39m\"\u001b[39m)\n",
      "\u001b[0;31mValueError\u001b[0m: cannot insert gare_regionsncf_libelle, already exists"
     ]
    }
   ],
   "source": [
    "objet_region_by_year = Merge_obects_gare.groupby('gare_regionsncf_libelle').resample('Y').sum().reset_index()\n",
    "objet_region_by_year['date'] = objet_region_by_year['date'].dt.date\n",
    "objet_region_by_year.to_csv(\"../CSV/objet_region_by_year.csv\")\n",
    "objet_region_by_year"
   ]
  },
  {
   "cell_type": "code",
   "execution_count": null,
   "metadata": {},
   "outputs": [],
   "source": []
  }
 ],
 "metadata": {
  "kernelspec": {
   "display_name": "Python 3",
   "language": "python",
   "name": "python3"
  },
  "language_info": {
   "codemirror_mode": {
    "name": "ipython",
    "version": 3
   },
   "file_extension": ".py",
   "mimetype": "text/x-python",
   "name": "python",
   "nbconvert_exporter": "python",
   "pygments_lexer": "ipython3",
   "version": "3.10.6 (main, Nov  2 2022, 18:53:38) [GCC 11.3.0]"
  },
  "orig_nbformat": 4,
  "vscode": {
   "interpreter": {
    "hash": "916dbcbb3f70747c44a77c7bcd40155683ae19c65e1c03b4aa3499c5328201f1"
   }
  }
 },
 "nbformat": 4,
 "nbformat_minor": 2
}
