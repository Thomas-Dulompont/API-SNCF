{
 "cells": [
  {
   "cell_type": "code",
   "execution_count": 2,
   "metadata": {},
   "outputs": [],
   "source": [
    "import pandas as pd\n",
    "df = pd.read_csv(\"sncf.csv\")"
   ]
  },
  {
   "cell_type": "code",
   "execution_count": 13,
   "metadata": {},
   "outputs": [],
   "source": [
    "regions = df[['gare_regionsncf_libelle', 'type']]\n",
    "regions = regions.groupby('gare_regionsncf_libelle').count().reset_index()\n",
    "regions.columns = ['region', 'n_objets']\n",
    "regions.to_csv(\"sncf_regions.csv\")"
   ]
  },
  {
   "cell_type": "code",
   "execution_count": 3,
   "metadata": {},
   "outputs": [],
   "source": [
    "regions = df[['departement_libellemin', 'type']]\n",
    "regions = regions.groupby('departement_libellemin').count().reset_index()\n",
    "regions.columns = ['departement', 'n_objets']\n",
    "regions.to_csv(\"sncf_departements.csv\")"
   ]
  },
  {
   "cell_type": "code",
   "execution_count": 15,
   "metadata": {},
   "outputs": [],
   "source": []
  },
  {
   "cell_type": "code",
   "execution_count": null,
   "metadata": {},
   "outputs": [],
   "source": []
  }
 ],
 "metadata": {
  "kernelspec": {
   "display_name": "Python 3 (ipykernel)",
   "language": "python",
   "name": "python3"
  },
  "language_info": {
   "codemirror_mode": {
    "name": "ipython",
    "version": 3
   },
   "file_extension": ".py",
   "mimetype": "text/x-python",
   "name": "python",
   "nbconvert_exporter": "python",
   "pygments_lexer": "ipython3",
   "version": "3.10.6"
  },
  "orig_nbformat": 4,
  "vscode": {
   "interpreter": {
    "hash": "d25f34363254810493f69e19f8fea8925d807b842d2c9e5aec83143d940402f1"
   }
  }
 },
 "nbformat": 4,
 "nbformat_minor": 2
}
