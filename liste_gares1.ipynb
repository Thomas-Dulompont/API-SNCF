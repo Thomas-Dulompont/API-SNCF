{
 "cells": [
  {
   "cell_type": "code",
   "execution_count": 1,
   "metadata": {},
   "outputs": [],
   "source": [
    "import requests\n",
    "url = \"https://data.sncf.com/api/records/1.0/search/?dataset=referentiel-gares-voyageurs&q=&rows=-1&sort=gare_alias_libelle_noncontraint&facet=departement_libellemin&facet=segmentdrg_libelle&facet=gare_agencegc_libelle&facet=gare_regionsncf_libelle&facet=gare_ug_libelle\""
   ]
  },
  {
   "cell_type": "code",
   "execution_count": 2,
   "metadata": {},
   "outputs": [],
   "source": [
    "liste_gares = requests.get(url).json()"
   ]
  },
  {
   "cell_type": "code",
   "execution_count": 3,
   "metadata": {},
   "outputs": [],
   "source": [
    "import pandas as pd\n",
    "df = {}\n",
    "columns = ['departement_libellemin', 'uic_code', 'code_gare', 'gare_regionsncf_libelle', 'alias_libelle_noncontraint', 'commune_libellemin', 'latitude_entreeprincipale_wgs84', 'longitude_entreeprincipale_wgs84', 'departement_numero']\n",
    "for i in range(len(liste_gares['records'])):\n",
    "    df[i]={}\n",
    "\n",
    "    for column in columns:\n",
    "        try:\n",
    "            df[i][column] = liste_gares['records'][i]['fields'][column]\n",
    "        except:\n",
    "            pass\n",
    "\n",
    "    # df[i]['id'] = liste_gares['records'][i]['fields']['']\n",
    "    # df[i]['code_gare'] = liste_gares['records'][i]['fields']['']\n",
    "    # df[i]['rg_libelle'] = liste_gares['records'][i]['fields']['']\n",
    "    # df[i]['alias_libelle_noncontraint'] = liste_gares['records'][i]['fields']['']\n",
    "    # # df[i]['commune_libellemin'] = liste_gares['records'][i]['fields']['']\n",
    "    # df[i]['lat'] = liste_gares['records'][i]['fields']['']\n",
    "    # df[i]['lon'] = liste_gares['records'][i]['fields']['']\n",
    "    \n"
   ]
  },
  {
   "cell_type": "code",
   "execution_count": 4,
   "metadata": {},
   "outputs": [],
   "source": [
    "df = pd.DataFrame(df).T\n",
    "df['gare_regionsncf_libelle'] = df['gare_regionsncf_libelle'].str.replace('REGION DE ','')\n",
    "df['gare_regionsncf_libelle'] = df['gare_regionsncf_libelle'].str.replace('REGION ','')\n"
   ]
  },
  {
   "cell_type": "code",
   "execution_count": 5,
   "metadata": {},
   "outputs": [],
   "source": [
    "df.to_csv('liste_gares.csv')"
   ]
  },
  {
   "cell_type": "code",
   "execution_count": 7,
   "metadata": {},
   "outputs": [
    {
     "data": {
      "text/plain": [
       "array(['Oise', 'Loire-Atlantique', 'Somme', 'Val-de-Marne', 'Yonne',\n",
       "       'Yvelines', nan, 'Pas-de-Calais', 'Seine-Saint-Denis',\n",
       "       \"Val-d'Oise\", 'Var', 'Hérault', 'Lot-et-Garonne', 'Dordogne',\n",
       "       'Aisne', 'Charente-Maritime', 'Savoie', 'Puy-de-Dôme', 'Gard',\n",
       "       'Haute-Saône', \"Côte-d'Or\", 'Corrèze', 'Bouches-du-Rhône',\n",
       "       'Haute-Vienne', 'Rhône', 'Tarn', 'Tarn-et-Garonne', 'Orne',\n",
       "       'Lozère', 'Haute-Loire', 'Haut-Rhin', 'Ardennes', 'Ain',\n",
       "       'Haute-Savoie', 'Indre-et-Loire', 'Eure-et-Loir', 'Vienne',\n",
       "       'Moselle', 'Jura', 'Loire', 'Maine-et-Loire', 'Essonne',\n",
       "       'Charente', 'Nord', 'Alpes-Maritimes', 'Gironde', 'Doubs',\n",
       "       'Vosges', 'Landes', 'Pyrénées-Orientales', 'Indre', 'Sarthe',\n",
       "       'Loiret', 'Pyrénées-Atlantiques', 'Hauts-de-Seine', 'Hautes-Alpes',\n",
       "       'Lot', 'Gers', 'Aveyron', 'Meurthe-et-Moselle', 'Creuse',\n",
       "       'Calvados', 'Seine-Maritime', 'Morbihan', 'Cantal',\n",
       "       'Haute-Garonne', 'Saône-et-Loire', 'Marne', 'Paris', 'Vaucluse',\n",
       "       'Cher', 'Manche', 'Ariège', 'Seine-et-Marne', 'Finistère', 'Meuse',\n",
       "       'Aube', 'Bas-Rhin', 'Territoire de Belfort', 'Loir-et-Cher',\n",
       "       'Haute-Marne', 'Nièvre', 'Eure', 'Deux-Sèvres', \"Côtes-d'Armor\",\n",
       "       'Allier', 'Vendée', 'Ille-et-Vilaine', 'Isère', 'Aude',\n",
       "       'Hautes-Pyrénées', 'Alpes-de-Haute-Provence', 'Drôme', 'Mayenne',\n",
       "       'Ardèche'], dtype=object)"
      ]
     },
     "execution_count": 7,
     "metadata": {},
     "output_type": "execute_result"
    }
   ],
   "source": [
    "df.departement_libellemin.unique()"
   ]
  },
  {
   "cell_type": "code",
   "execution_count": null,
   "metadata": {},
   "outputs": [],
   "source": []
  }
 ],
 "metadata": {
  "kernelspec": {
   "display_name": "Python 3",
   "language": "python",
   "name": "python3"
  },
  "language_info": {
   "codemirror_mode": {
    "name": "ipython",
    "version": 3
   },
   "file_extension": ".py",
   "mimetype": "text/x-python",
   "name": "python",
   "nbconvert_exporter": "python",
   "pygments_lexer": "ipython3",
   "version": "3.10.6"
  },
  "orig_nbformat": 4,
  "vscode": {
   "interpreter": {
    "hash": "916dbcbb3f70747c44a77c7bcd40155683ae19c65e1c03b4aa3499c5328201f1"
   }
  }
 },
 "nbformat": 4,
 "nbformat_minor": 2
}
